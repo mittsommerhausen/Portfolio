{
 "cells": [
  {
   "cell_type": "markdown",
   "metadata": {},
   "source": [
    "# Презентация для этого проекта: \n",
    "\n",
    "https://docs.google.com/presentation/d/1Wk_UllU8NbShCNir3elaWamP6TUpRWfWDzY_knBdhcA/edit?usp=sharing"
   ]
  },
  {
   "cell_type": "markdown",
   "metadata": {},
   "source": [
    "# Исследование рынка заведений общественного питания Москвы"
   ]
  },
  {
   "cell_type": "markdown",
   "metadata": {},
   "source": [
    "Цель данного проекта - открыть небольшое кафе в Москве; оно оригинальное — гостей должны обслуживать роботы\n",
    "Актуальный вопрос - сможем ли мы снискать популярность на долгое время, когда все зеваки насмотрятся на роботов-официантов?"
   ]
  },
  {
   "cell_type": "markdown",
   "metadata": {},
   "source": [
    "# Задача\n",
    "\n",
    "- проанализировать рынок заведений общественного питания Москвы, используя открытые источники;\n",
    "- сформулировать рекомендации для бизнеса: какие виды заведений пользуются большей популярностью, как распределено количество посадочных мест, какие районы наиболее популярны в плане количества объектов общественного питания\n"
   ]
  },
  {
   "cell_type": "markdown",
   "metadata": {},
   "source": [
    "# План\n",
    "\n",
    "- Исследуйте соотношение видов объектов общественного питания по количеству. Постройте график.\n",
    "- Исследуйте соотношение сетевых и несетевых заведений по количеству. Постройте график.\n",
    "- Для какого вида объекта общественного питания характерно сетевое распространение?\n",
    "- Что характерно для сетевых заведений: много заведений с небольшим числом посадочных мест в каждом или мало заведений с большим количеством посадочных мест?\n",
    "- Для каждого вида объекта общественного питания опишите среднее количество посадочных мест. Какой вид предоставляет в среднем самое большое количество посадочных мест? Постройте графики.\n",
    "- Выделите в отдельный столбец информацию об улице из столбца address .\n",
    "- Постройте график топ-10 улиц по количеству объектов общественного питания. Воспользуйтесь внешней информацией и ответьте на вопрос — в каких районах Москвы находятся эти улицы?\n",
    "- Найдите число улиц с одним объектом общественного питания. Воспользуйтесь внешней информацией и ответьте на вопрос — в каких районах Москвы находятся эти улицы?"
   ]
  },
  {
   "cell_type": "markdown",
   "metadata": {},
   "source": [
    "# Выгружаем данные"
   ]
  },
  {
   "cell_type": "code",
   "execution_count": 1,
   "metadata": {},
   "outputs": [],
   "source": [
    "import pandas as pd\n",
    "import seaborn as sns\n",
    "import matplotlib.pyplot as plt\n",
    "from matplotlib.pyplot import figure\n",
    "import plotly.express as px\n",
    "from io import BytesIO\n",
    "import requests"
   ]
  },
  {
   "cell_type": "code",
   "execution_count": 2,
   "metadata": {},
   "outputs": [
    {
     "name": "stdout",
     "output_type": "stream",
     "text": [
      "<class 'pandas.core.frame.DataFrame'>\n",
      "RangeIndex: 15366 entries, 0 to 15365\n",
      "Data columns (total 6 columns):\n",
      " #   Column       Non-Null Count  Dtype \n",
      "---  ------       --------------  ----- \n",
      " 0   id           15366 non-null  int64 \n",
      " 1   object_name  15366 non-null  object\n",
      " 2   chain        15366 non-null  object\n",
      " 3   object_type  15366 non-null  object\n",
      " 4   address      15366 non-null  object\n",
      " 5   number       15366 non-null  int64 \n",
      "dtypes: int64(2), object(4)\n",
      "memory usage: 720.4+ KB\n"
     ]
    },
    {
     "data": {
      "text/html": [
       "<div>\n",
       "<style scoped>\n",
       "    .dataframe tbody tr th:only-of-type {\n",
       "        vertical-align: middle;\n",
       "    }\n",
       "\n",
       "    .dataframe tbody tr th {\n",
       "        vertical-align: top;\n",
       "    }\n",
       "\n",
       "    .dataframe thead th {\n",
       "        text-align: right;\n",
       "    }\n",
       "</style>\n",
       "<table border=\"1\" class=\"dataframe\">\n",
       "  <thead>\n",
       "    <tr style=\"text-align: right;\">\n",
       "      <th></th>\n",
       "      <th>id</th>\n",
       "      <th>object_name</th>\n",
       "      <th>chain</th>\n",
       "      <th>object_type</th>\n",
       "      <th>address</th>\n",
       "      <th>number</th>\n",
       "    </tr>\n",
       "  </thead>\n",
       "  <tbody>\n",
       "    <tr>\n",
       "      <th>0</th>\n",
       "      <td>151635</td>\n",
       "      <td>СМЕТАНА</td>\n",
       "      <td>нет</td>\n",
       "      <td>кафе</td>\n",
       "      <td>город Москва, улица Егора Абакумова, дом 9</td>\n",
       "      <td>48</td>\n",
       "    </tr>\n",
       "    <tr>\n",
       "      <th>1</th>\n",
       "      <td>77874</td>\n",
       "      <td>Родник</td>\n",
       "      <td>нет</td>\n",
       "      <td>кафе</td>\n",
       "      <td>город Москва, улица Талалихина, дом 2/1, корпус 1</td>\n",
       "      <td>35</td>\n",
       "    </tr>\n",
       "    <tr>\n",
       "      <th>2</th>\n",
       "      <td>24309</td>\n",
       "      <td>Кафе «Академия»</td>\n",
       "      <td>нет</td>\n",
       "      <td>кафе</td>\n",
       "      <td>город Москва, Абельмановская улица, дом 6</td>\n",
       "      <td>95</td>\n",
       "    </tr>\n",
       "    <tr>\n",
       "      <th>3</th>\n",
       "      <td>21894</td>\n",
       "      <td>ПИЦЦЕТОРИЯ</td>\n",
       "      <td>да</td>\n",
       "      <td>кафе</td>\n",
       "      <td>город Москва, Абрамцевская улица, дом 1</td>\n",
       "      <td>40</td>\n",
       "    </tr>\n",
       "    <tr>\n",
       "      <th>4</th>\n",
       "      <td>119365</td>\n",
       "      <td>Кафе «Вишневая метель»</td>\n",
       "      <td>нет</td>\n",
       "      <td>кафе</td>\n",
       "      <td>город Москва, Абрамцевская улица, дом 9, корпус 1</td>\n",
       "      <td>50</td>\n",
       "    </tr>\n",
       "    <tr>\n",
       "      <th>...</th>\n",
       "      <td>...</td>\n",
       "      <td>...</td>\n",
       "      <td>...</td>\n",
       "      <td>...</td>\n",
       "      <td>...</td>\n",
       "      <td>...</td>\n",
       "    </tr>\n",
       "    <tr>\n",
       "      <th>15361</th>\n",
       "      <td>208537</td>\n",
       "      <td>Шоколадница</td>\n",
       "      <td>да</td>\n",
       "      <td>кафе</td>\n",
       "      <td>город Москва, 3-й Крутицкий переулок, дом 18</td>\n",
       "      <td>50</td>\n",
       "    </tr>\n",
       "    <tr>\n",
       "      <th>15362</th>\n",
       "      <td>209264</td>\n",
       "      <td>Шоколадница</td>\n",
       "      <td>да</td>\n",
       "      <td>кафе</td>\n",
       "      <td>город Москва, улица Земляной Вал, дом 33</td>\n",
       "      <td>10</td>\n",
       "    </tr>\n",
       "    <tr>\n",
       "      <th>15363</th>\n",
       "      <td>209186</td>\n",
       "      <td>Шоколадница</td>\n",
       "      <td>да</td>\n",
       "      <td>кафе</td>\n",
       "      <td>город Москва, улица Земляной Вал, дом 33</td>\n",
       "      <td>20</td>\n",
       "    </tr>\n",
       "    <tr>\n",
       "      <th>15364</th>\n",
       "      <td>221900</td>\n",
       "      <td>Шоколадница</td>\n",
       "      <td>да</td>\n",
       "      <td>кафе</td>\n",
       "      <td>город Москва, поселение Московский, Киевское ш...</td>\n",
       "      <td>36</td>\n",
       "    </tr>\n",
       "    <tr>\n",
       "      <th>15365</th>\n",
       "      <td>222535</td>\n",
       "      <td>Шоколадница</td>\n",
       "      <td>да</td>\n",
       "      <td>кафе</td>\n",
       "      <td>город Москва, Ходынский бульвар, дом 4</td>\n",
       "      <td>10</td>\n",
       "    </tr>\n",
       "  </tbody>\n",
       "</table>\n",
       "<p>15366 rows × 6 columns</p>\n",
       "</div>"
      ],
      "text/plain": [
       "           id             object_name chain object_type  \\\n",
       "0      151635                 СМЕТАНА   нет        кафе   \n",
       "1       77874                  Родник   нет        кафе   \n",
       "2       24309         Кафе «Академия»   нет        кафе   \n",
       "3       21894              ПИЦЦЕТОРИЯ    да        кафе   \n",
       "4      119365  Кафе «Вишневая метель»   нет        кафе   \n",
       "...       ...                     ...   ...         ...   \n",
       "15361  208537             Шоколадница    да        кафе   \n",
       "15362  209264             Шоколадница    да        кафе   \n",
       "15363  209186             Шоколадница    да        кафе   \n",
       "15364  221900             Шоколадница    да        кафе   \n",
       "15365  222535             Шоколадница    да        кафе   \n",
       "\n",
       "                                                 address  number  \n",
       "0             город Москва, улица Егора Абакумова, дом 9      48  \n",
       "1      город Москва, улица Талалихина, дом 2/1, корпус 1      35  \n",
       "2              город Москва, Абельмановская улица, дом 6      95  \n",
       "3                город Москва, Абрамцевская улица, дом 1      40  \n",
       "4      город Москва, Абрамцевская улица, дом 9, корпус 1      50  \n",
       "...                                                  ...     ...  \n",
       "15361       город Москва, 3-й Крутицкий переулок, дом 18      50  \n",
       "15362           город Москва, улица Земляной Вал, дом 33      10  \n",
       "15363           город Москва, улица Земляной Вал, дом 33      20  \n",
       "15364  город Москва, поселение Московский, Киевское ш...      36  \n",
       "15365             город Москва, Ходынский бульвар, дом 4      10  \n",
       "\n",
       "[15366 rows x 6 columns]"
      ]
     },
     "metadata": {},
     "output_type": "display_data"
    },
    {
     "data": {
      "text/plain": [
       "None"
      ]
     },
     "metadata": {},
     "output_type": "display_data"
    }
   ],
   "source": [
    "rest_data = pd.read_csv(r'C:\\Users\\polin\\Downloads\\rest_data.csv')\n",
    "display(rest_data, rest_data.info())"
   ]
  },
  {
   "cell_type": "markdown",
   "metadata": {},
   "source": [
    "Из одинакового числа объектов в каждом столбце мы видим, что пропусков в них нет. Поищем дубликаты:"
   ]
  },
  {
   "cell_type": "code",
   "execution_count": 3,
   "metadata": {},
   "outputs": [
    {
     "data": {
      "text/plain": [
       "0"
      ]
     },
     "metadata": {},
     "output_type": "display_data"
    }
   ],
   "source": [
    "display(rest_data.duplicated().sum())"
   ]
  },
  {
   "cell_type": "code",
   "execution_count": 4,
   "metadata": {},
   "outputs": [
    {
     "data": {
      "text/plain": [
       "id             82\n",
       "object_name    82\n",
       "chain          82\n",
       "object_type    82\n",
       "address        82\n",
       "number         82\n",
       "dtype: int64"
      ]
     },
     "execution_count": 4,
     "metadata": {},
     "output_type": "execute_result"
    }
   ],
   "source": [
    "rest_data[rest_data.duplicated(subset=['object_name', 'chain', 'object_type', 'address', 'number'], keep='first')].count()"
   ]
  },
  {
   "cell_type": "markdown",
   "metadata": {},
   "source": [
    "# Анализ\n",
    "\n",
    "Посмотрим на соотношение заведений различных видов:"
   ]
  },
  {
   "cell_type": "code",
   "execution_count": 5,
   "metadata": {},
   "outputs": [
    {
     "data": {
      "text/html": [
       "<div>\n",
       "<style scoped>\n",
       "    .dataframe tbody tr th:only-of-type {\n",
       "        vertical-align: middle;\n",
       "    }\n",
       "\n",
       "    .dataframe tbody tr th {\n",
       "        vertical-align: top;\n",
       "    }\n",
       "\n",
       "    .dataframe thead th {\n",
       "        text-align: right;\n",
       "    }\n",
       "</style>\n",
       "<table border=\"1\" class=\"dataframe\">\n",
       "  <thead>\n",
       "    <tr style=\"text-align: right;\">\n",
       "      <th></th>\n",
       "      <th>object_type</th>\n",
       "      <th>id</th>\n",
       "    </tr>\n",
       "  </thead>\n",
       "  <tbody>\n",
       "    <tr>\n",
       "      <th>3</th>\n",
       "      <td>кафе</td>\n",
       "      <td>6099</td>\n",
       "    </tr>\n",
       "    <tr>\n",
       "      <th>8</th>\n",
       "      <td>столовая</td>\n",
       "      <td>2587</td>\n",
       "    </tr>\n",
       "    <tr>\n",
       "      <th>7</th>\n",
       "      <td>ресторан</td>\n",
       "      <td>2285</td>\n",
       "    </tr>\n",
       "    <tr>\n",
       "      <th>6</th>\n",
       "      <td>предприятие быстрого обслуживания</td>\n",
       "      <td>1923</td>\n",
       "    </tr>\n",
       "    <tr>\n",
       "      <th>0</th>\n",
       "      <td>бар</td>\n",
       "      <td>856</td>\n",
       "    </tr>\n",
       "    <tr>\n",
       "      <th>1</th>\n",
       "      <td>буфет</td>\n",
       "      <td>585</td>\n",
       "    </tr>\n",
       "    <tr>\n",
       "      <th>4</th>\n",
       "      <td>кафетерий</td>\n",
       "      <td>398</td>\n",
       "    </tr>\n",
       "    <tr>\n",
       "      <th>2</th>\n",
       "      <td>закусочная</td>\n",
       "      <td>360</td>\n",
       "    </tr>\n",
       "    <tr>\n",
       "      <th>5</th>\n",
       "      <td>магазин (отдел кулинарии)</td>\n",
       "      <td>273</td>\n",
       "    </tr>\n",
       "  </tbody>\n",
       "</table>\n",
       "</div>"
      ],
      "text/plain": [
       "                         object_type    id\n",
       "3                               кафе  6099\n",
       "8                           столовая  2587\n",
       "7                           ресторан  2285\n",
       "6  предприятие быстрого обслуживания  1923\n",
       "0                                бар   856\n",
       "1                              буфет   585\n",
       "4                          кафетерий   398\n",
       "2                         закусочная   360\n",
       "5          магазин (отдел кулинарии)   273"
      ]
     },
     "execution_count": 5,
     "metadata": {},
     "output_type": "execute_result"
    }
   ],
   "source": [
    "types = rest_data.groupby(\n",
    "    by='object_type')\\\n",
    "    .agg({'id':'count'})\\\n",
    "    .reset_index()\\\n",
    "    .sort_values(by='id', ascending=False)\n",
    "types"
   ]
  },
  {
   "cell_type": "code",
   "execution_count": 6,
   "metadata": {},
   "outputs": [
    {
     "data": {
      "image/png": "[encoded data removed]",
      "text/plain": [
       "<Figure size 1000x500 with 1 Axes>"
      ]
     },
     "metadata": {},
     "output_type": "display_data"
    }
   ],
   "source": [
    "figure(figsize=(10,5))\n",
    "with plt.style.context('seaborn'):\n",
    "    plt.barh(types['object_type'], types['id'])\n",
    "    \n",
    "plt.title('Соотношение заведений различных типов')\n",
    "plt.xlabel('Количество')\n",
    "plt.ylabel('Тип')\n",
    "plt.show();"
   ]
  },
  {
   "cell_type": "markdown",
   "metadata": {},
   "source": [
    "# Вывод\n",
    "\n",
    "Мы видим, что доминирующую позицию на рынке объектов общественного питания занимают кафе - 6099 заведений из 15366 (39,7%)"
   ]
  },
  {
   "cell_type": "markdown",
   "metadata": {},
   "source": [
    "# Сетевые заведения\n",
    "\n",
    "Посмотрим на соотношение сетевых заведений к независимым:"
   ]
  },
  {
   "cell_type": "code",
   "execution_count": 7,
   "metadata": {},
   "outputs": [
    {
     "data": {
      "text/html": [
       "<div>\n",
       "<style scoped>\n",
       "    .dataframe tbody tr th:only-of-type {\n",
       "        vertical-align: middle;\n",
       "    }\n",
       "\n",
       "    .dataframe tbody tr th {\n",
       "        vertical-align: top;\n",
       "    }\n",
       "\n",
       "    .dataframe thead th {\n",
       "        text-align: right;\n",
       "    }\n",
       "</style>\n",
       "<table border=\"1\" class=\"dataframe\">\n",
       "  <thead>\n",
       "    <tr style=\"text-align: right;\">\n",
       "      <th></th>\n",
       "      <th>id</th>\n",
       "    </tr>\n",
       "    <tr>\n",
       "      <th>chain</th>\n",
       "      <th></th>\n",
       "    </tr>\n",
       "  </thead>\n",
       "  <tbody>\n",
       "    <tr>\n",
       "      <th>да</th>\n",
       "      <td>2968</td>\n",
       "    </tr>\n",
       "    <tr>\n",
       "      <th>нет</th>\n",
       "      <td>12398</td>\n",
       "    </tr>\n",
       "  </tbody>\n",
       "</table>\n",
       "</div>"
      ],
      "text/plain": [
       "          id\n",
       "chain       \n",
       "да      2968\n",
       "нет    12398"
      ]
     },
     "execution_count": 7,
     "metadata": {},
     "output_type": "execute_result"
    }
   ],
   "source": [
    "chain_or_not = rest_data.pivot_table(index='chain', values='id', aggfunc='count')\n",
    "chain_or_not"
   ]
  },
  {
   "cell_type": "code",
   "execution_count": 8,
   "metadata": {
    "scrolled": false
   },
   "outputs": [
    {
     "data": {
      "image/png": "[encoded data removed]",
      "text/plain": [
       "<Figure size 1000x1000 with 1 Axes>"
      ]
     },
     "metadata": {},
     "output_type": "display_data"
    }
   ],
   "source": [
    "figure(figsize=(10,10))\n",
    "plt.pie(labels=['Сетевое заведение, 19.3%','Не сетевое заведение, 80.7%'], x='id', data=chain_or_not)\n",
    "plt.title('Соотношение сетевых и независимох заведений')\n",
    "plt.show();"
   ]
  },
  {
   "cell_type": "code",
   "execution_count": 9,
   "metadata": {},
   "outputs": [
    {
     "data": {
      "text/plain": [
       "'Процетное соотношение сетевых заведений к не сетевым:'"
      ]
     },
     "metadata": {},
     "output_type": "display_data"
    },
    {
     "data": {
      "text/plain": [
       "19.315371599635558"
      ]
     },
     "metadata": {},
     "output_type": "display_data"
    }
   ],
   "source": [
    "display('Процетное соотношение сетевых заведений к не сетевым:', 2968/15366*100)"
   ]
  },
  {
   "cell_type": "markdown",
   "metadata": {},
   "source": [
    "Из имеющихся у нас данных мы видим, что из 15366 заведений 2968 являются сетевыми, а остальные 12398 - не сетевыми, то есть, сетевые заведения составляют 19,3% от общего числа заведений общепита"
   ]
  },
  {
   "cell_type": "markdown",
   "metadata": {},
   "source": [
    "Более детально рассмотрим сетевые заведения - посмотрим на лидирующие бренды, типы заведений, количество посадочных мест:"
   ]
  },
  {
   "cell_type": "code",
   "execution_count": 10,
   "metadata": {},
   "outputs": [
    {
     "data": {
      "text/html": [
       "<div>\n",
       "<style scoped>\n",
       "    .dataframe tbody tr th:only-of-type {\n",
       "        vertical-align: middle;\n",
       "    }\n",
       "\n",
       "    .dataframe tbody tr th {\n",
       "        vertical-align: top;\n",
       "    }\n",
       "\n",
       "    .dataframe thead th {\n",
       "        text-align: right;\n",
       "    }\n",
       "</style>\n",
       "<table border=\"1\" class=\"dataframe\">\n",
       "  <thead>\n",
       "    <tr style=\"text-align: right;\">\n",
       "      <th></th>\n",
       "      <th>id</th>\n",
       "      <th>object_name</th>\n",
       "      <th>chain</th>\n",
       "      <th>object_type</th>\n",
       "      <th>address</th>\n",
       "      <th>number</th>\n",
       "    </tr>\n",
       "  </thead>\n",
       "  <tbody>\n",
       "    <tr>\n",
       "      <th>3</th>\n",
       "      <td>21894</td>\n",
       "      <td>ПИЦЦЕТОРИЯ</td>\n",
       "      <td>да</td>\n",
       "      <td>кафе</td>\n",
       "      <td>город Москва, Абрамцевская улица, дом 1</td>\n",
       "      <td>40</td>\n",
       "    </tr>\n",
       "    <tr>\n",
       "      <th>6</th>\n",
       "      <td>148815</td>\n",
       "      <td>Брусника</td>\n",
       "      <td>да</td>\n",
       "      <td>кафе</td>\n",
       "      <td>город Москва, переулок Сивцев Вражек, дом 6/2</td>\n",
       "      <td>10</td>\n",
       "    </tr>\n",
       "    <tr>\n",
       "      <th>13</th>\n",
       "      <td>22579</td>\n",
       "      <td>Алло Пицца</td>\n",
       "      <td>да</td>\n",
       "      <td>кафе</td>\n",
       "      <td>город Москва, улица Авиаторов, дом 14</td>\n",
       "      <td>32</td>\n",
       "    </tr>\n",
       "    <tr>\n",
       "      <th>16</th>\n",
       "      <td>144107</td>\n",
       "      <td>Суши Wok</td>\n",
       "      <td>да</td>\n",
       "      <td>предприятие быстрого обслуживания</td>\n",
       "      <td>город Москва, Азовская улица, дом 3</td>\n",
       "      <td>7</td>\n",
       "    </tr>\n",
       "    <tr>\n",
       "      <th>18</th>\n",
       "      <td>58565</td>\n",
       "      <td>Тануки</td>\n",
       "      <td>да</td>\n",
       "      <td>ресторан</td>\n",
       "      <td>город Москва, Большая Академическая улица, дом 65</td>\n",
       "      <td>160</td>\n",
       "    </tr>\n",
       "    <tr>\n",
       "      <th>...</th>\n",
       "      <td>...</td>\n",
       "      <td>...</td>\n",
       "      <td>...</td>\n",
       "      <td>...</td>\n",
       "      <td>...</td>\n",
       "      <td>...</td>\n",
       "    </tr>\n",
       "    <tr>\n",
       "      <th>15361</th>\n",
       "      <td>208537</td>\n",
       "      <td>Шоколадница</td>\n",
       "      <td>да</td>\n",
       "      <td>кафе</td>\n",
       "      <td>город Москва, 3-й Крутицкий переулок, дом 18</td>\n",
       "      <td>50</td>\n",
       "    </tr>\n",
       "    <tr>\n",
       "      <th>15362</th>\n",
       "      <td>209264</td>\n",
       "      <td>Шоколадница</td>\n",
       "      <td>да</td>\n",
       "      <td>кафе</td>\n",
       "      <td>город Москва, улица Земляной Вал, дом 33</td>\n",
       "      <td>10</td>\n",
       "    </tr>\n",
       "    <tr>\n",
       "      <th>15363</th>\n",
       "      <td>209186</td>\n",
       "      <td>Шоколадница</td>\n",
       "      <td>да</td>\n",
       "      <td>кафе</td>\n",
       "      <td>город Москва, улица Земляной Вал, дом 33</td>\n",
       "      <td>20</td>\n",
       "    </tr>\n",
       "    <tr>\n",
       "      <th>15364</th>\n",
       "      <td>221900</td>\n",
       "      <td>Шоколадница</td>\n",
       "      <td>да</td>\n",
       "      <td>кафе</td>\n",
       "      <td>город Москва, поселение Московский, Киевское ш...</td>\n",
       "      <td>36</td>\n",
       "    </tr>\n",
       "    <tr>\n",
       "      <th>15365</th>\n",
       "      <td>222535</td>\n",
       "      <td>Шоколадница</td>\n",
       "      <td>да</td>\n",
       "      <td>кафе</td>\n",
       "      <td>город Москва, Ходынский бульвар, дом 4</td>\n",
       "      <td>10</td>\n",
       "    </tr>\n",
       "  </tbody>\n",
       "</table>\n",
       "<p>2968 rows × 6 columns</p>\n",
       "</div>"
      ],
      "text/plain": [
       "           id  object_name chain                        object_type  \\\n",
       "3       21894   ПИЦЦЕТОРИЯ    да                               кафе   \n",
       "6      148815     Брусника    да                               кафе   \n",
       "13      22579   Алло Пицца    да                               кафе   \n",
       "16     144107     Суши Wok    да  предприятие быстрого обслуживания   \n",
       "18      58565       Тануки    да                           ресторан   \n",
       "...       ...          ...   ...                                ...   \n",
       "15361  208537  Шоколадница    да                               кафе   \n",
       "15362  209264  Шоколадница    да                               кафе   \n",
       "15363  209186  Шоколадница    да                               кафе   \n",
       "15364  221900  Шоколадница    да                               кафе   \n",
       "15365  222535  Шоколадница    да                               кафе   \n",
       "\n",
       "                                                 address  number  \n",
       "3                город Москва, Абрамцевская улица, дом 1      40  \n",
       "6          город Москва, переулок Сивцев Вражек, дом 6/2      10  \n",
       "13                 город Москва, улица Авиаторов, дом 14      32  \n",
       "16                   город Москва, Азовская улица, дом 3       7  \n",
       "18     город Москва, Большая Академическая улица, дом 65     160  \n",
       "...                                                  ...     ...  \n",
       "15361       город Москва, 3-й Крутицкий переулок, дом 18      50  \n",
       "15362           город Москва, улица Земляной Вал, дом 33      10  \n",
       "15363           город Москва, улица Земляной Вал, дом 33      20  \n",
       "15364  город Москва, поселение Московский, Киевское ш...      36  \n",
       "15365             город Москва, Ходынский бульвар, дом 4      10  \n",
       "\n",
       "[2968 rows x 6 columns]"
      ]
     },
     "execution_count": 10,
     "metadata": {},
     "output_type": "execute_result"
    }
   ],
   "source": [
    "chain = rest_data.query('chain == \"да\"')\n",
    "chain"
   ]
  },
  {
   "cell_type": "code",
   "execution_count": 11,
   "metadata": {},
   "outputs": [
    {
     "data": {
      "text/html": [
       "<div>\n",
       "<style scoped>\n",
       "    .dataframe tbody tr th:only-of-type {\n",
       "        vertical-align: middle;\n",
       "    }\n",
       "\n",
       "    .dataframe tbody tr th {\n",
       "        vertical-align: top;\n",
       "    }\n",
       "\n",
       "    .dataframe thead th {\n",
       "        text-align: right;\n",
       "    }\n",
       "</style>\n",
       "<table border=\"1\" class=\"dataframe\">\n",
       "  <thead>\n",
       "    <tr style=\"text-align: right;\">\n",
       "      <th></th>\n",
       "      <th>id</th>\n",
       "    </tr>\n",
       "    <tr>\n",
       "      <th>object_name</th>\n",
       "      <th></th>\n",
       "    </tr>\n",
       "  </thead>\n",
       "  <tbody>\n",
       "    <tr>\n",
       "      <th>KFC</th>\n",
       "      <td>155</td>\n",
       "    </tr>\n",
       "    <tr>\n",
       "      <th>Шоколадница</th>\n",
       "      <td>141</td>\n",
       "    </tr>\n",
       "    <tr>\n",
       "      <th>Макдоналдс</th>\n",
       "      <td>122</td>\n",
       "    </tr>\n",
       "    <tr>\n",
       "      <th>Бургер Кинг</th>\n",
       "      <td>122</td>\n",
       "    </tr>\n",
       "    <tr>\n",
       "      <th>Домино'с Пицца</th>\n",
       "      <td>86</td>\n",
       "    </tr>\n",
       "    <tr>\n",
       "      <th>Теремок</th>\n",
       "      <td>84</td>\n",
       "    </tr>\n",
       "    <tr>\n",
       "      <th>Крошка Картошка</th>\n",
       "      <td>82</td>\n",
       "    </tr>\n",
       "    <tr>\n",
       "      <th>Милти</th>\n",
       "      <td>65</td>\n",
       "    </tr>\n",
       "    <tr>\n",
       "      <th>Суши Wok</th>\n",
       "      <td>61</td>\n",
       "    </tr>\n",
       "    <tr>\n",
       "      <th>Папа Джонс</th>\n",
       "      <td>50</td>\n",
       "    </tr>\n",
       "  </tbody>\n",
       "</table>\n",
       "</div>"
      ],
      "text/plain": [
       "                  id\n",
       "object_name         \n",
       "KFC              155\n",
       "Шоколадница      141\n",
       "Макдоналдс       122\n",
       "Бургер Кинг      122\n",
       "Домино'с Пицца    86\n",
       "Теремок           84\n",
       "Крошка Картошка   82\n",
       "Милти             65\n",
       "Суши Wok          61\n",
       "Папа Джонс        50"
      ]
     },
     "execution_count": 11,
     "metadata": {},
     "output_type": "execute_result"
    }
   ],
   "source": [
    "chain.pivot_table(index='object_name', values='id', aggfunc='count').sort_values(by='id', ascending=False).head(10)"
   ]
  },
  {
   "cell_type": "markdown",
   "metadata": {},
   "source": [
    "Топ-5 самых популярных сетей - KFC, Шоколадница, Макдоналдс, Бургер Кинг и Домино'с Пицца"
   ]
  },
  {
   "cell_type": "code",
   "execution_count": 12,
   "metadata": {},
   "outputs": [
    {
     "data": {
      "text/html": [
       "<div>\n",
       "<style scoped>\n",
       "    .dataframe tbody tr th:only-of-type {\n",
       "        vertical-align: middle;\n",
       "    }\n",
       "\n",
       "    .dataframe tbody tr th {\n",
       "        vertical-align: top;\n",
       "    }\n",
       "\n",
       "    .dataframe thead th {\n",
       "        text-align: right;\n",
       "    }\n",
       "</style>\n",
       "<table border=\"1\" class=\"dataframe\">\n",
       "  <thead>\n",
       "    <tr style=\"text-align: right;\">\n",
       "      <th></th>\n",
       "      <th>object_type</th>\n",
       "      <th>chain</th>\n",
       "      <th>id</th>\n",
       "    </tr>\n",
       "  </thead>\n",
       "  <tbody>\n",
       "    <tr>\n",
       "      <th>7</th>\n",
       "      <td>кафе</td>\n",
       "      <td>нет</td>\n",
       "      <td>4703</td>\n",
       "    </tr>\n",
       "    <tr>\n",
       "      <th>17</th>\n",
       "      <td>столовая</td>\n",
       "      <td>нет</td>\n",
       "      <td>2584</td>\n",
       "    </tr>\n",
       "    <tr>\n",
       "      <th>15</th>\n",
       "      <td>ресторан</td>\n",
       "      <td>нет</td>\n",
       "      <td>1741</td>\n",
       "    </tr>\n",
       "    <tr>\n",
       "      <th>6</th>\n",
       "      <td>кафе</td>\n",
       "      <td>да</td>\n",
       "      <td>1396</td>\n",
       "    </tr>\n",
       "    <tr>\n",
       "      <th>13</th>\n",
       "      <td>предприятие быстрого обслуживания</td>\n",
       "      <td>нет</td>\n",
       "      <td>1132</td>\n",
       "    </tr>\n",
       "    <tr>\n",
       "      <th>1</th>\n",
       "      <td>бар</td>\n",
       "      <td>нет</td>\n",
       "      <td>819</td>\n",
       "    </tr>\n",
       "    <tr>\n",
       "      <th>12</th>\n",
       "      <td>предприятие быстрого обслуживания</td>\n",
       "      <td>да</td>\n",
       "      <td>791</td>\n",
       "    </tr>\n",
       "    <tr>\n",
       "      <th>3</th>\n",
       "      <td>буфет</td>\n",
       "      <td>нет</td>\n",
       "      <td>574</td>\n",
       "    </tr>\n",
       "    <tr>\n",
       "      <th>14</th>\n",
       "      <td>ресторан</td>\n",
       "      <td>да</td>\n",
       "      <td>544</td>\n",
       "    </tr>\n",
       "    <tr>\n",
       "      <th>9</th>\n",
       "      <td>кафетерий</td>\n",
       "      <td>нет</td>\n",
       "      <td>346</td>\n",
       "    </tr>\n",
       "    <tr>\n",
       "      <th>5</th>\n",
       "      <td>закусочная</td>\n",
       "      <td>нет</td>\n",
       "      <td>304</td>\n",
       "    </tr>\n",
       "    <tr>\n",
       "      <th>11</th>\n",
       "      <td>магазин (отдел кулинарии)</td>\n",
       "      <td>нет</td>\n",
       "      <td>195</td>\n",
       "    </tr>\n",
       "    <tr>\n",
       "      <th>10</th>\n",
       "      <td>магазин (отдел кулинарии)</td>\n",
       "      <td>да</td>\n",
       "      <td>78</td>\n",
       "    </tr>\n",
       "    <tr>\n",
       "      <th>4</th>\n",
       "      <td>закусочная</td>\n",
       "      <td>да</td>\n",
       "      <td>56</td>\n",
       "    </tr>\n",
       "    <tr>\n",
       "      <th>8</th>\n",
       "      <td>кафетерий</td>\n",
       "      <td>да</td>\n",
       "      <td>52</td>\n",
       "    </tr>\n",
       "    <tr>\n",
       "      <th>0</th>\n",
       "      <td>бар</td>\n",
       "      <td>да</td>\n",
       "      <td>37</td>\n",
       "    </tr>\n",
       "    <tr>\n",
       "      <th>2</th>\n",
       "      <td>буфет</td>\n",
       "      <td>да</td>\n",
       "      <td>11</td>\n",
       "    </tr>\n",
       "    <tr>\n",
       "      <th>16</th>\n",
       "      <td>столовая</td>\n",
       "      <td>да</td>\n",
       "      <td>3</td>\n",
       "    </tr>\n",
       "  </tbody>\n",
       "</table>\n",
       "</div>"
      ],
      "text/plain": [
       "                          object_type chain    id\n",
       "7                                кафе   нет  4703\n",
       "17                           столовая   нет  2584\n",
       "15                           ресторан   нет  1741\n",
       "6                                кафе    да  1396\n",
       "13  предприятие быстрого обслуживания   нет  1132\n",
       "1                                 бар   нет   819\n",
       "12  предприятие быстрого обслуживания    да   791\n",
       "3                               буфет   нет   574\n",
       "14                           ресторан    да   544\n",
       "9                           кафетерий   нет   346\n",
       "5                          закусочная   нет   304\n",
       "11          магазин (отдел кулинарии)   нет   195\n",
       "10          магазин (отдел кулинарии)    да    78\n",
       "4                          закусочная    да    56\n",
       "8                           кафетерий    да    52\n",
       "0                                 бар    да    37\n",
       "2                               буфет    да    11\n",
       "16                           столовая    да     3"
      ]
     },
     "execution_count": 12,
     "metadata": {},
     "output_type": "execute_result"
    }
   ],
   "source": [
    "gen_types = rest_data.groupby(\n",
    "    by=['object_type', 'chain'])\\\n",
    "    .agg({'id':'count'})\\\n",
    "    .reset_index()\\\n",
    "    .sort_values(by='id', ascending=False)\n",
    "\n",
    "gen_types"
   ]
  },
  {
   "cell_type": "code",
   "execution_count": 13,
   "metadata": {},
   "outputs": [
    {
     "data": {
      "image/png": "[encoded data removed]",
      "text/plain": [
       "<Figure size 1000x500 with 1 Axes>"
      ]
     },
     "metadata": {},
     "output_type": "display_data"
    }
   ],
   "source": [
    "figure(figsize=(10,5))\n",
    "sns.barplot(x='id', y='object_type', hue='chain', data=gen_types)\n",
    "plt.title('Соотношение сетевых и несетевых заведений различных типов')\n",
    "plt.xlabel('Тип')\n",
    "plt.ylabel('Количество')\n",
    "plt.show();"
   ]
  },
  {
   "cell_type": "code",
   "execution_count": 14,
   "metadata": {},
   "outputs": [
    {
     "data": {
      "text/html": [
       "<div>\n",
       "<style scoped>\n",
       "    .dataframe tbody tr th:only-of-type {\n",
       "        vertical-align: middle;\n",
       "    }\n",
       "\n",
       "    .dataframe tbody tr th {\n",
       "        vertical-align: top;\n",
       "    }\n",
       "\n",
       "    .dataframe thead th {\n",
       "        text-align: right;\n",
       "    }\n",
       "</style>\n",
       "<table border=\"1\" class=\"dataframe\">\n",
       "  <thead>\n",
       "    <tr style=\"text-align: right;\">\n",
       "      <th></th>\n",
       "      <th>id</th>\n",
       "    </tr>\n",
       "    <tr>\n",
       "      <th>object_type</th>\n",
       "      <th></th>\n",
       "    </tr>\n",
       "  </thead>\n",
       "  <tbody>\n",
       "    <tr>\n",
       "      <th>кафе</th>\n",
       "      <td>1396</td>\n",
       "    </tr>\n",
       "    <tr>\n",
       "      <th>предприятие быстрого обслуживания</th>\n",
       "      <td>791</td>\n",
       "    </tr>\n",
       "    <tr>\n",
       "      <th>ресторан</th>\n",
       "      <td>544</td>\n",
       "    </tr>\n",
       "    <tr>\n",
       "      <th>магазин (отдел кулинарии)</th>\n",
       "      <td>78</td>\n",
       "    </tr>\n",
       "    <tr>\n",
       "      <th>закусочная</th>\n",
       "      <td>56</td>\n",
       "    </tr>\n",
       "    <tr>\n",
       "      <th>кафетерий</th>\n",
       "      <td>52</td>\n",
       "    </tr>\n",
       "    <tr>\n",
       "      <th>бар</th>\n",
       "      <td>37</td>\n",
       "    </tr>\n",
       "    <tr>\n",
       "      <th>буфет</th>\n",
       "      <td>11</td>\n",
       "    </tr>\n",
       "    <tr>\n",
       "      <th>столовая</th>\n",
       "      <td>3</td>\n",
       "    </tr>\n",
       "  </tbody>\n",
       "</table>\n",
       "</div>"
      ],
      "text/plain": [
       "                                     id\n",
       "object_type                            \n",
       "кафе                               1396\n",
       "предприятие быстрого обслуживания   791\n",
       "ресторан                            544\n",
       "магазин (отдел кулинарии)            78\n",
       "закусочная                           56\n",
       "кафетерий                            52\n",
       "бар                                  37\n",
       "буфет                                11\n",
       "столовая                              3"
      ]
     },
     "execution_count": 14,
     "metadata": {},
     "output_type": "execute_result"
    }
   ],
   "source": [
    "chain_df = chain.pivot_table(index='object_type', values='id', aggfunc='count')\n",
    "chain_df.sort_values(by='id', ascending=False)"
   ]
  },
  {
   "cell_type": "code",
   "execution_count": 15,
   "metadata": {},
   "outputs": [
    {
     "data": {
      "image/png": "[encoded data removed]",
      "text/plain": [
       "<Figure size 1000x500 with 1 Axes>"
      ]
     },
     "metadata": {},
     "output_type": "display_data"
    }
   ],
   "source": [
    "chain_types = chain.groupby(\n",
    "    by='object_type')\\\n",
    "    .agg({'id':'count'})\\\n",
    "    .reset_index()\\\n",
    "    .sort_values(by='id', ascending=False)\n",
    "\n",
    "figure(figsize=(10, 5))\n",
    "with plt.style.context('seaborn'):\n",
    "    plt.barh(chain_types['object_type'], chain_types['id'])\n",
    "    \n",
    "plt.title('Соотношение сетевых заведений различных типов')\n",
    "plt.xlabel('Количество')\n",
    "plt.ylabel('Тип')\n",
    "plt.show();"
   ]
  },
  {
   "cell_type": "markdown",
   "metadata": {},
   "source": [
    "Среди сетевых заведений самый популярный тип - кафе, а в плане соотношения с несетевыми заведениями - предприятие быстрого питания."
   ]
  },
  {
   "cell_type": "code",
   "execution_count": 16,
   "metadata": {},
   "outputs": [
    {
     "data": {
      "text/plain": [
       "0     268\n",
       "20    161\n",
       "40    144\n",
       "10    131\n",
       "30    122\n",
       "Name: number, dtype: int64"
      ]
     },
     "execution_count": 16,
     "metadata": {},
     "output_type": "execute_result"
    }
   ],
   "source": [
    "chain['number'].value_counts().head(5)"
   ]
  },
  {
   "cell_type": "markdown",
   "metadata": {},
   "source": [
    "Количество посадочных мест в среднем варьируется от 20 до 50 - из этого можно сделать вывод, что популярно большое количество заведений не очень больших размеров"
   ]
  },
  {
   "cell_type": "code",
   "execution_count": 17,
   "metadata": {},
   "outputs": [
    {
     "data": {
      "text/plain": [
       "40.0"
      ]
     },
     "execution_count": 17,
     "metadata": {},
     "output_type": "execute_result"
    }
   ],
   "source": [
    "chain['number'].median()"
   ]
  },
  {
   "cell_type": "code",
   "execution_count": 18,
   "metadata": {},
   "outputs": [
    {
     "data": {
      "text/html": [
       "<div>\n",
       "<style scoped>\n",
       "    .dataframe tbody tr th:only-of-type {\n",
       "        vertical-align: middle;\n",
       "    }\n",
       "\n",
       "    .dataframe tbody tr th {\n",
       "        vertical-align: top;\n",
       "    }\n",
       "\n",
       "    .dataframe thead th {\n",
       "        text-align: right;\n",
       "    }\n",
       "</style>\n",
       "<table border=\"1\" class=\"dataframe\">\n",
       "  <thead>\n",
       "    <tr style=\"text-align: right;\">\n",
       "      <th></th>\n",
       "      <th>id</th>\n",
       "      <th>number</th>\n",
       "    </tr>\n",
       "    <tr>\n",
       "      <th>object_name</th>\n",
       "      <th></th>\n",
       "      <th></th>\n",
       "    </tr>\n",
       "  </thead>\n",
       "  <tbody>\n",
       "    <tr>\n",
       "      <th>KFC</th>\n",
       "      <td>155</td>\n",
       "      <td>45.0</td>\n",
       "    </tr>\n",
       "    <tr>\n",
       "      <th>Шоколадница</th>\n",
       "      <td>141</td>\n",
       "      <td>50.0</td>\n",
       "    </tr>\n",
       "    <tr>\n",
       "      <th>Макдоналдс</th>\n",
       "      <td>122</td>\n",
       "      <td>75.0</td>\n",
       "    </tr>\n",
       "    <tr>\n",
       "      <th>Бургер Кинг</th>\n",
       "      <td>122</td>\n",
       "      <td>41.5</td>\n",
       "    </tr>\n",
       "    <tr>\n",
       "      <th>Домино'с Пицца</th>\n",
       "      <td>86</td>\n",
       "      <td>16.0</td>\n",
       "    </tr>\n",
       "    <tr>\n",
       "      <th>Теремок</th>\n",
       "      <td>84</td>\n",
       "      <td>21.0</td>\n",
       "    </tr>\n",
       "    <tr>\n",
       "      <th>Крошка Картошка</th>\n",
       "      <td>82</td>\n",
       "      <td>15.0</td>\n",
       "    </tr>\n",
       "    <tr>\n",
       "      <th>Милти</th>\n",
       "      <td>65</td>\n",
       "      <td>0.0</td>\n",
       "    </tr>\n",
       "    <tr>\n",
       "      <th>Суши Wok</th>\n",
       "      <td>61</td>\n",
       "      <td>6.0</td>\n",
       "    </tr>\n",
       "    <tr>\n",
       "      <th>Папа Джонс</th>\n",
       "      <td>50</td>\n",
       "      <td>20.0</td>\n",
       "    </tr>\n",
       "  </tbody>\n",
       "</table>\n",
       "</div>"
      ],
      "text/plain": [
       "                  id  number\n",
       "object_name                 \n",
       "KFC              155    45.0\n",
       "Шоколадница      141    50.0\n",
       "Макдоналдс       122    75.0\n",
       "Бургер Кинг      122    41.5\n",
       "Домино'с Пицца    86    16.0\n",
       "Теремок           84    21.0\n",
       "Крошка Картошка   82    15.0\n",
       "Милти             65     0.0\n",
       "Суши Wok          61     6.0\n",
       "Папа Джонс        50    20.0"
      ]
     },
     "execution_count": 18,
     "metadata": {},
     "output_type": "execute_result"
    }
   ],
   "source": [
    "chain_median_name = chain.groupby(\n",
    "    by='object_name')\\\n",
    "    .agg({'id':'count', 'number':'median'})\\\n",
    "    .sort_values(by='id', ascending=False)\\\n",
    "    .head(10)\n",
    "chain_median_name"
   ]
  },
  {
   "cell_type": "code",
   "execution_count": 19,
   "metadata": {},
   "outputs": [
    {
     "data": {
      "text/html": [
       "<div>\n",
       "<style scoped>\n",
       "    .dataframe tbody tr th:only-of-type {\n",
       "        vertical-align: middle;\n",
       "    }\n",
       "\n",
       "    .dataframe tbody tr th {\n",
       "        vertical-align: top;\n",
       "    }\n",
       "\n",
       "    .dataframe thead th {\n",
       "        text-align: right;\n",
       "    }\n",
       "</style>\n",
       "<table border=\"1\" class=\"dataframe\">\n",
       "  <thead>\n",
       "    <tr style=\"text-align: right;\">\n",
       "      <th></th>\n",
       "      <th>id</th>\n",
       "      <th>number</th>\n",
       "    </tr>\n",
       "  </thead>\n",
       "  <tbody>\n",
       "    <tr>\n",
       "      <th>count</th>\n",
       "      <td>10.000000</td>\n",
       "      <td>10.000000</td>\n",
       "    </tr>\n",
       "    <tr>\n",
       "      <th>mean</th>\n",
       "      <td>96.800000</td>\n",
       "      <td>28.950000</td>\n",
       "    </tr>\n",
       "    <tr>\n",
       "      <th>std</th>\n",
       "      <td>35.891194</td>\n",
       "      <td>23.212126</td>\n",
       "    </tr>\n",
       "    <tr>\n",
       "      <th>min</th>\n",
       "      <td>50.000000</td>\n",
       "      <td>0.000000</td>\n",
       "    </tr>\n",
       "    <tr>\n",
       "      <th>25%</th>\n",
       "      <td>69.250000</td>\n",
       "      <td>15.250000</td>\n",
       "    </tr>\n",
       "    <tr>\n",
       "      <th>50%</th>\n",
       "      <td>85.000000</td>\n",
       "      <td>20.500000</td>\n",
       "    </tr>\n",
       "    <tr>\n",
       "      <th>75%</th>\n",
       "      <td>122.000000</td>\n",
       "      <td>44.125000</td>\n",
       "    </tr>\n",
       "    <tr>\n",
       "      <th>max</th>\n",
       "      <td>155.000000</td>\n",
       "      <td>75.000000</td>\n",
       "    </tr>\n",
       "  </tbody>\n",
       "</table>\n",
       "</div>"
      ],
      "text/plain": [
       "               id     number\n",
       "count   10.000000  10.000000\n",
       "mean    96.800000  28.950000\n",
       "std     35.891194  23.212126\n",
       "min     50.000000   0.000000\n",
       "25%     69.250000  15.250000\n",
       "50%     85.000000  20.500000\n",
       "75%    122.000000  44.125000\n",
       "max    155.000000  75.000000"
      ]
     },
     "execution_count": 19,
     "metadata": {},
     "output_type": "execute_result"
    }
   ],
   "source": [
    "chain_median_name.describe()"
   ]
  },
  {
   "cell_type": "code",
   "execution_count": 20,
   "metadata": {},
   "outputs": [
    {
     "data": {
      "image/png": "[encoded data removed]",
      "text/plain": [
       "<Figure size 640x480 with 1 Axes>"
      ]
     },
     "metadata": {},
     "output_type": "display_data"
    }
   ],
   "source": [
    "plt.scatter(x='id', y='number', data=chain_median_name)\n",
    "plt.title('Распределение посадочных мест внутри сетей')\n",
    "plt.xlabel('Количество ресторанов')\n",
    "plt.ylabel('Количество мест')\n",
    "plt.show();"
   ]
  },
  {
   "cell_type": "markdown",
   "metadata": {},
   "source": [
    "# Вывод\n",
    "\n",
    "Из 15366 заведений 2968 являются сетевыми, а остальные 12398 - не сетевыми, то есть, сетевые заведения составляют 19,3% от общего числа заведений общепита.\n",
    "\n",
    "Среди сетевых заведений самый популярный тип - кафе, а в плане соотношения с несетевыми заведениями - предприятие быстрого питания.\n",
    "\n",
    "Среднее количество посадочных мест в сетевых заведениях - 20, конкретно в кафе - 30.\n",
    "\n",
    "Тенденция, которую можно увидеть на графике - чем больше ресторанов в сети, тем больше посадочных мест, соответственно, исходя из этого графика сложно однозначно сказать, какие места более распространены; если обратиться к таблице с общим анализом, то можно увидеть, что количество посадочных мест в среднем варьируется от 20 до 50 - из этого можно сделать вывод, что популярно большое количество заведений не очень больших размеров  \n",
    "\n",
    "В топе-5 самых популярных сетей три - фастфуд (KFC, Макдоналдс и Бургер Кинг), одна пиццерия (Домино’с Пицца) и одно кафе (Шоколадница)."
   ]
  },
  {
   "cell_type": "markdown",
   "metadata": {},
   "source": [
    "# Среднее количество посадочных мест"
   ]
  },
  {
   "cell_type": "code",
   "execution_count": 21,
   "metadata": {},
   "outputs": [
    {
     "data": {
      "text/html": [
       "<div>\n",
       "<style scoped>\n",
       "    .dataframe tbody tr th:only-of-type {\n",
       "        vertical-align: middle;\n",
       "    }\n",
       "\n",
       "    .dataframe tbody tr th {\n",
       "        vertical-align: top;\n",
       "    }\n",
       "\n",
       "    .dataframe thead th {\n",
       "        text-align: right;\n",
       "    }\n",
       "</style>\n",
       "<table border=\"1\" class=\"dataframe\">\n",
       "  <thead>\n",
       "    <tr style=\"text-align: right;\">\n",
       "      <th></th>\n",
       "      <th>object_type</th>\n",
       "      <th>number</th>\n",
       "    </tr>\n",
       "  </thead>\n",
       "  <tbody>\n",
       "    <tr>\n",
       "      <th>0</th>\n",
       "      <td>столовая</td>\n",
       "      <td>103.0</td>\n",
       "    </tr>\n",
       "    <tr>\n",
       "      <th>1</th>\n",
       "      <td>ресторан</td>\n",
       "      <td>80.0</td>\n",
       "    </tr>\n",
       "    <tr>\n",
       "      <th>2</th>\n",
       "      <td>бар</td>\n",
       "      <td>35.0</td>\n",
       "    </tr>\n",
       "    <tr>\n",
       "      <th>3</th>\n",
       "      <td>буфет</td>\n",
       "      <td>32.0</td>\n",
       "    </tr>\n",
       "    <tr>\n",
       "      <th>4</th>\n",
       "      <td>кафе</td>\n",
       "      <td>30.0</td>\n",
       "    </tr>\n",
       "    <tr>\n",
       "      <th>5</th>\n",
       "      <td>кафетерий</td>\n",
       "      <td>6.0</td>\n",
       "    </tr>\n",
       "    <tr>\n",
       "      <th>6</th>\n",
       "      <td>предприятие быстрого обслуживания</td>\n",
       "      <td>5.0</td>\n",
       "    </tr>\n",
       "    <tr>\n",
       "      <th>7</th>\n",
       "      <td>закусочная</td>\n",
       "      <td>0.0</td>\n",
       "    </tr>\n",
       "    <tr>\n",
       "      <th>8</th>\n",
       "      <td>магазин (отдел кулинарии)</td>\n",
       "      <td>0.0</td>\n",
       "    </tr>\n",
       "  </tbody>\n",
       "</table>\n",
       "</div>"
      ],
      "text/plain": [
       "                         object_type  number\n",
       "0                           столовая   103.0\n",
       "1                           ресторан    80.0\n",
       "2                                бар    35.0\n",
       "3                              буфет    32.0\n",
       "4                               кафе    30.0\n",
       "5                          кафетерий     6.0\n",
       "6  предприятие быстрого обслуживания     5.0\n",
       "7                         закусочная     0.0\n",
       "8          магазин (отдел кулинарии)     0.0"
      ]
     },
     "execution_count": 21,
     "metadata": {},
     "output_type": "execute_result"
    }
   ],
   "source": [
    "median_number = rest_data.groupby(\n",
    "    by='object_type')\\\n",
    "    .agg({'number':'median'})\\\n",
    "    .sort_values(by='number', ascending=False)\\\n",
    "    .reset_index()\n",
    "median_number"
   ]
  },
  {
   "cell_type": "code",
   "execution_count": 22,
   "metadata": {
    "scrolled": false
   },
   "outputs": [
    {
     "data": {
      "image/png": "[encoded data removed]",
      "text/plain": [
       "<Figure size 1000x500 with 1 Axes>"
      ]
     },
     "metadata": {},
     "output_type": "display_data"
    }
   ],
   "source": [
    "figure(figsize=(10,5))\n",
    "with plt.style.context('seaborn'):\n",
    "    plt.barh(median_number['object_type'], median_number['number'])\n",
    "    \n",
    "plt.title('Среднее количество посадочных мест для различных типов заведений')\n",
    "plt.xlabel('Количество')\n",
    "plt.ylabel('Тип')\n",
    "plt.show();"
   ]
  },
  {
   "cell_type": "markdown",
   "metadata": {},
   "source": [
    "# Вывод\n",
    "\n",
    "Наибольшее число посадочных мест в среднем в столовых и ресторанах, в кафе в реднем около 30 посадочных мест"
   ]
  },
  {
   "cell_type": "markdown",
   "metadata": {},
   "source": [
    "# Анализ расположения"
   ]
  },
  {
   "cell_type": "markdown",
   "metadata": {},
   "source": [
    "Выделим улицы из общего адреса:"
   ]
  },
  {
   "cell_type": "code",
   "execution_count": 23,
   "metadata": {},
   "outputs": [
    {
     "data": {
      "text/html": [
       "<div>\n",
       "<style scoped>\n",
       "    .dataframe tbody tr th:only-of-type {\n",
       "        vertical-align: middle;\n",
       "    }\n",
       "\n",
       "    .dataframe tbody tr th {\n",
       "        vertical-align: top;\n",
       "    }\n",
       "\n",
       "    .dataframe thead th {\n",
       "        text-align: right;\n",
       "    }\n",
       "</style>\n",
       "<table border=\"1\" class=\"dataframe\">\n",
       "  <thead>\n",
       "    <tr style=\"text-align: right;\">\n",
       "      <th></th>\n",
       "      <th>id</th>\n",
       "      <th>object_name</th>\n",
       "      <th>chain</th>\n",
       "      <th>object_type</th>\n",
       "      <th>address</th>\n",
       "      <th>number</th>\n",
       "      <th>streetname</th>\n",
       "    </tr>\n",
       "  </thead>\n",
       "  <tbody>\n",
       "    <tr>\n",
       "      <th>0</th>\n",
       "      <td>151635</td>\n",
       "      <td>СМЕТАНА</td>\n",
       "      <td>нет</td>\n",
       "      <td>кафе</td>\n",
       "      <td>город Москва, улица Егора Абакумова, дом 9</td>\n",
       "      <td>48</td>\n",
       "      <td>улица Егора Абакумова</td>\n",
       "    </tr>\n",
       "    <tr>\n",
       "      <th>1</th>\n",
       "      <td>77874</td>\n",
       "      <td>Родник</td>\n",
       "      <td>нет</td>\n",
       "      <td>кафе</td>\n",
       "      <td>город Москва, улица Талалихина, дом 2/1, корпус 1</td>\n",
       "      <td>35</td>\n",
       "      <td>улица Талалихина</td>\n",
       "    </tr>\n",
       "    <tr>\n",
       "      <th>2</th>\n",
       "      <td>24309</td>\n",
       "      <td>Кафе «Академия»</td>\n",
       "      <td>нет</td>\n",
       "      <td>кафе</td>\n",
       "      <td>город Москва, Абельмановская улица, дом 6</td>\n",
       "      <td>95</td>\n",
       "      <td>Абельмановская улица</td>\n",
       "    </tr>\n",
       "    <tr>\n",
       "      <th>3</th>\n",
       "      <td>21894</td>\n",
       "      <td>ПИЦЦЕТОРИЯ</td>\n",
       "      <td>да</td>\n",
       "      <td>кафе</td>\n",
       "      <td>город Москва, Абрамцевская улица, дом 1</td>\n",
       "      <td>40</td>\n",
       "      <td>Абрамцевская улица</td>\n",
       "    </tr>\n",
       "    <tr>\n",
       "      <th>4</th>\n",
       "      <td>119365</td>\n",
       "      <td>Кафе «Вишневая метель»</td>\n",
       "      <td>нет</td>\n",
       "      <td>кафе</td>\n",
       "      <td>город Москва, Абрамцевская улица, дом 9, корпус 1</td>\n",
       "      <td>50</td>\n",
       "      <td>Абрамцевская улица</td>\n",
       "    </tr>\n",
       "    <tr>\n",
       "      <th>...</th>\n",
       "      <td>...</td>\n",
       "      <td>...</td>\n",
       "      <td>...</td>\n",
       "      <td>...</td>\n",
       "      <td>...</td>\n",
       "      <td>...</td>\n",
       "      <td>...</td>\n",
       "    </tr>\n",
       "    <tr>\n",
       "      <th>15361</th>\n",
       "      <td>208537</td>\n",
       "      <td>Шоколадница</td>\n",
       "      <td>да</td>\n",
       "      <td>кафе</td>\n",
       "      <td>город Москва, 3-й Крутицкий переулок, дом 18</td>\n",
       "      <td>50</td>\n",
       "      <td>3-й Крутицкий переулок</td>\n",
       "    </tr>\n",
       "    <tr>\n",
       "      <th>15362</th>\n",
       "      <td>209264</td>\n",
       "      <td>Шоколадница</td>\n",
       "      <td>да</td>\n",
       "      <td>кафе</td>\n",
       "      <td>город Москва, улица Земляной Вал, дом 33</td>\n",
       "      <td>10</td>\n",
       "      <td>улица Земляной Вал</td>\n",
       "    </tr>\n",
       "    <tr>\n",
       "      <th>15363</th>\n",
       "      <td>209186</td>\n",
       "      <td>Шоколадница</td>\n",
       "      <td>да</td>\n",
       "      <td>кафе</td>\n",
       "      <td>город Москва, улица Земляной Вал, дом 33</td>\n",
       "      <td>20</td>\n",
       "      <td>улица Земляной Вал</td>\n",
       "    </tr>\n",
       "    <tr>\n",
       "      <th>15364</th>\n",
       "      <td>221900</td>\n",
       "      <td>Шоколадница</td>\n",
       "      <td>да</td>\n",
       "      <td>кафе</td>\n",
       "      <td>город Москва, поселение Московский, Киевское ш...</td>\n",
       "      <td>36</td>\n",
       "      <td>Киевское шоссе</td>\n",
       "    </tr>\n",
       "    <tr>\n",
       "      <th>15365</th>\n",
       "      <td>222535</td>\n",
       "      <td>Шоколадница</td>\n",
       "      <td>да</td>\n",
       "      <td>кафе</td>\n",
       "      <td>город Москва, Ходынский бульвар, дом 4</td>\n",
       "      <td>10</td>\n",
       "      <td>Ходынский бульвар</td>\n",
       "    </tr>\n",
       "  </tbody>\n",
       "</table>\n",
       "<p>15366 rows × 7 columns</p>\n",
       "</div>"
      ],
      "text/plain": [
       "           id             object_name chain object_type  \\\n",
       "0      151635                 СМЕТАНА   нет        кафе   \n",
       "1       77874                  Родник   нет        кафе   \n",
       "2       24309         Кафе «Академия»   нет        кафе   \n",
       "3       21894              ПИЦЦЕТОРИЯ    да        кафе   \n",
       "4      119365  Кафе «Вишневая метель»   нет        кафе   \n",
       "...       ...                     ...   ...         ...   \n",
       "15361  208537             Шоколадница    да        кафе   \n",
       "15362  209264             Шоколадница    да        кафе   \n",
       "15363  209186             Шоколадница    да        кафе   \n",
       "15364  221900             Шоколадница    да        кафе   \n",
       "15365  222535             Шоколадница    да        кафе   \n",
       "\n",
       "                                                 address  number  \\\n",
       "0             город Москва, улица Егора Абакумова, дом 9      48   \n",
       "1      город Москва, улица Талалихина, дом 2/1, корпус 1      35   \n",
       "2              город Москва, Абельмановская улица, дом 6      95   \n",
       "3                город Москва, Абрамцевская улица, дом 1      40   \n",
       "4      город Москва, Абрамцевская улица, дом 9, корпус 1      50   \n",
       "...                                                  ...     ...   \n",
       "15361       город Москва, 3-й Крутицкий переулок, дом 18      50   \n",
       "15362           город Москва, улица Земляной Вал, дом 33      10   \n",
       "15363           город Москва, улица Земляной Вал, дом 33      20   \n",
       "15364  город Москва, поселение Московский, Киевское ш...      36   \n",
       "15365             город Москва, Ходынский бульвар, дом 4      10   \n",
       "\n",
       "                   streetname  \n",
       "0       улица Егора Абакумова  \n",
       "1            улица Талалихина  \n",
       "2        Абельмановская улица  \n",
       "3          Абрамцевская улица  \n",
       "4          Абрамцевская улица  \n",
       "...                       ...  \n",
       "15361  3-й Крутицкий переулок  \n",
       "15362      улица Земляной Вал  \n",
       "15363      улица Земляной Вал  \n",
       "15364          Киевское шоссе  \n",
       "15365       Ходынский бульвар  \n",
       "\n",
       "[15366 rows x 7 columns]"
      ]
     },
     "execution_count": 23,
     "metadata": {},
     "output_type": "execute_result"
    }
   ],
   "source": [
    "streets = [\"аллея\", \"бульвар\", \"магистраль\", \"переулок\", \"площадь\", \"проезд\", \"проспект\", \"проулок\", \"разъезд\", \"спуск\", \"тракт\", \"тупик\", \"улица\", \"шоссе\", \"набережная\"]\n",
    "\n",
    "def street_finder(address):\n",
    "    for address_part in address.split(','):\n",
    "        for s_type in streets:\n",
    "            if s_type in address_part:\n",
    "                return address_part.strip()\n",
    "            \n",
    "rest_data['streetname'] = rest_data['address'].apply(street_finder)\n",
    "\n",
    "rest_data"
   ]
  },
  {
   "cell_type": "markdown",
   "metadata": {},
   "source": [
    "Подгрузим данные об улицах и округах Москвы:"
   ]
  },
  {
   "cell_type": "code",
   "execution_count": 24,
   "metadata": {},
   "outputs": [
    {
     "data": {
      "text/html": [
       "<div>\n",
       "<style scoped>\n",
       "    .dataframe tbody tr th:only-of-type {\n",
       "        vertical-align: middle;\n",
       "    }\n",
       "\n",
       "    .dataframe tbody tr th {\n",
       "        vertical-align: top;\n",
       "    }\n",
       "\n",
       "    .dataframe thead th {\n",
       "        text-align: right;\n",
       "    }\n",
       "</style>\n",
       "<table border=\"1\" class=\"dataframe\">\n",
       "  <thead>\n",
       "    <tr style=\"text-align: right;\">\n",
       "      <th></th>\n",
       "      <th>streetname</th>\n",
       "      <th>areaid</th>\n",
       "      <th>okrug</th>\n",
       "      <th>area</th>\n",
       "    </tr>\n",
       "  </thead>\n",
       "  <tbody>\n",
       "    <tr>\n",
       "      <th>0</th>\n",
       "      <td>Выставочный переулок</td>\n",
       "      <td>17</td>\n",
       "      <td>ЦАО</td>\n",
       "      <td>Пресненский район</td>\n",
       "    </tr>\n",
       "    <tr>\n",
       "      <th>1</th>\n",
       "      <td>улица Гашека</td>\n",
       "      <td>17</td>\n",
       "      <td>ЦАО</td>\n",
       "      <td>Пресненский район</td>\n",
       "    </tr>\n",
       "    <tr>\n",
       "      <th>2</th>\n",
       "      <td>Большая Никитская улица</td>\n",
       "      <td>17</td>\n",
       "      <td>ЦАО</td>\n",
       "      <td>Пресненский район</td>\n",
       "    </tr>\n",
       "    <tr>\n",
       "      <th>3</th>\n",
       "      <td>Глубокий переулок</td>\n",
       "      <td>17</td>\n",
       "      <td>ЦАО</td>\n",
       "      <td>Пресненский район</td>\n",
       "    </tr>\n",
       "    <tr>\n",
       "      <th>4</th>\n",
       "      <td>Большой Гнездниковский переулок</td>\n",
       "      <td>17</td>\n",
       "      <td>ЦАО</td>\n",
       "      <td>Пресненский район</td>\n",
       "    </tr>\n",
       "    <tr>\n",
       "      <th>...</th>\n",
       "      <td>...</td>\n",
       "      <td>...</td>\n",
       "      <td>...</td>\n",
       "      <td>...</td>\n",
       "    </tr>\n",
       "    <tr>\n",
       "      <th>4393</th>\n",
       "      <td>Вознесенский проезд</td>\n",
       "      <td>17</td>\n",
       "      <td>ЦАО</td>\n",
       "      <td>Пресненский район</td>\n",
       "    </tr>\n",
       "    <tr>\n",
       "      <th>4394</th>\n",
       "      <td>Волков переулок</td>\n",
       "      <td>17</td>\n",
       "      <td>ЦАО</td>\n",
       "      <td>Пресненский район</td>\n",
       "    </tr>\n",
       "    <tr>\n",
       "      <th>4395</th>\n",
       "      <td>Поварская улица</td>\n",
       "      <td>17</td>\n",
       "      <td>ЦАО</td>\n",
       "      <td>Пресненский район</td>\n",
       "    </tr>\n",
       "    <tr>\n",
       "      <th>4396</th>\n",
       "      <td>Кудринская площадь</td>\n",
       "      <td>17</td>\n",
       "      <td>ЦАО</td>\n",
       "      <td>Пресненский район</td>\n",
       "    </tr>\n",
       "    <tr>\n",
       "      <th>4397</th>\n",
       "      <td>Вспольный переулок</td>\n",
       "      <td>17</td>\n",
       "      <td>ЦАО</td>\n",
       "      <td>Пресненский район</td>\n",
       "    </tr>\n",
       "  </tbody>\n",
       "</table>\n",
       "<p>4398 rows × 4 columns</p>\n",
       "</div>"
      ],
      "text/plain": [
       "                           streetname  areaid okrug               area\n",
       "0                Выставочный переулок      17   ЦАО  Пресненский район\n",
       "1                        улица Гашека      17   ЦАО  Пресненский район\n",
       "2             Большая Никитская улица      17   ЦАО  Пресненский район\n",
       "3                   Глубокий переулок      17   ЦАО  Пресненский район\n",
       "4     Большой Гнездниковский переулок      17   ЦАО  Пресненский район\n",
       "...                               ...     ...   ...                ...\n",
       "4393              Вознесенский проезд      17   ЦАО  Пресненский район\n",
       "4394                  Волков переулок      17   ЦАО  Пресненский район\n",
       "4395                  Поварская улица      17   ЦАО  Пресненский район\n",
       "4396               Кудринская площадь      17   ЦАО  Пресненский район\n",
       "4397               Вспольный переулок      17   ЦАО  Пресненский район\n",
       "\n",
       "[4398 rows x 4 columns]"
      ]
     },
     "execution_count": 24,
     "metadata": {},
     "output_type": "execute_result"
    }
   ],
   "source": [
    "spreadsheet_id = '1pNPFtjXOnzCkYW3ph2RRj5psw1v-Um_8DH1YO-SO0_k'\n",
    "file_name = 'https://docs.google.com/spreadsheets/d/{}/export?format=csv'.format(spreadsheet_id)\n",
    "r = requests.get(file_name)\n",
    "mos_streets = pd.read_csv(BytesIO(r.content))\n",
    "mos_streets"
   ]
  },
  {
   "cell_type": "markdown",
   "metadata": {},
   "source": [
    "Объединим эти датасеты, чтобы найти районы для улиц:"
   ]
  },
  {
   "cell_type": "code",
   "execution_count": 25,
   "metadata": {},
   "outputs": [
    {
     "data": {
      "text/html": [
       "<div>\n",
       "<style scoped>\n",
       "    .dataframe tbody tr th:only-of-type {\n",
       "        vertical-align: middle;\n",
       "    }\n",
       "\n",
       "    .dataframe tbody tr th {\n",
       "        vertical-align: top;\n",
       "    }\n",
       "\n",
       "    .dataframe thead th {\n",
       "        text-align: right;\n",
       "    }\n",
       "</style>\n",
       "<table border=\"1\" class=\"dataframe\">\n",
       "  <thead>\n",
       "    <tr style=\"text-align: right;\">\n",
       "      <th></th>\n",
       "      <th>id</th>\n",
       "      <th>object_name</th>\n",
       "      <th>chain</th>\n",
       "      <th>object_type</th>\n",
       "      <th>address</th>\n",
       "      <th>number</th>\n",
       "      <th>streetname</th>\n",
       "      <th>areaid</th>\n",
       "      <th>okrug</th>\n",
       "      <th>area</th>\n",
       "    </tr>\n",
       "  </thead>\n",
       "  <tbody>\n",
       "    <tr>\n",
       "      <th>0</th>\n",
       "      <td>151635</td>\n",
       "      <td>СМЕТАНА</td>\n",
       "      <td>нет</td>\n",
       "      <td>кафе</td>\n",
       "      <td>город Москва, улица Егора Абакумова, дом 9</td>\n",
       "      <td>48</td>\n",
       "      <td>улица Егора Абакумова</td>\n",
       "      <td>86</td>\n",
       "      <td>СВАО</td>\n",
       "      <td>Ярославский Район</td>\n",
       "    </tr>\n",
       "    <tr>\n",
       "      <th>1</th>\n",
       "      <td>193477</td>\n",
       "      <td>Grill-House</td>\n",
       "      <td>нет</td>\n",
       "      <td>закусочная</td>\n",
       "      <td>город Москва, улица Егора Абакумова, дом 14А</td>\n",
       "      <td>0</td>\n",
       "      <td>улица Егора Абакумова</td>\n",
       "      <td>86</td>\n",
       "      <td>СВАО</td>\n",
       "      <td>Ярославский Район</td>\n",
       "    </tr>\n",
       "    <tr>\n",
       "      <th>2</th>\n",
       "      <td>196756</td>\n",
       "      <td>Пекарня</td>\n",
       "      <td>нет</td>\n",
       "      <td>кафетерий</td>\n",
       "      <td>город Москва, улица Егора Абакумова, дом 14А</td>\n",
       "      <td>12</td>\n",
       "      <td>улица Егора Абакумова</td>\n",
       "      <td>86</td>\n",
       "      <td>СВАО</td>\n",
       "      <td>Ярославский Район</td>\n",
       "    </tr>\n",
       "    <tr>\n",
       "      <th>3</th>\n",
       "      <td>77874</td>\n",
       "      <td>Родник</td>\n",
       "      <td>нет</td>\n",
       "      <td>кафе</td>\n",
       "      <td>город Москва, улица Талалихина, дом 2/1, корпус 1</td>\n",
       "      <td>35</td>\n",
       "      <td>улица Талалихина</td>\n",
       "      <td>18</td>\n",
       "      <td>ЦАО</td>\n",
       "      <td>Таганский район</td>\n",
       "    </tr>\n",
       "    <tr>\n",
       "      <th>4</th>\n",
       "      <td>77874</td>\n",
       "      <td>Родник</td>\n",
       "      <td>нет</td>\n",
       "      <td>кафе</td>\n",
       "      <td>город Москва, улица Талалихина, дом 2/1, корпус 1</td>\n",
       "      <td>35</td>\n",
       "      <td>улица Талалихина</td>\n",
       "      <td>117</td>\n",
       "      <td>ЮВАО</td>\n",
       "      <td>Нижегородский район</td>\n",
       "    </tr>\n",
       "    <tr>\n",
       "      <th>...</th>\n",
       "      <td>...</td>\n",
       "      <td>...</td>\n",
       "      <td>...</td>\n",
       "      <td>...</td>\n",
       "      <td>...</td>\n",
       "      <td>...</td>\n",
       "      <td>...</td>\n",
       "      <td>...</td>\n",
       "      <td>...</td>\n",
       "      <td>...</td>\n",
       "    </tr>\n",
       "    <tr>\n",
       "      <th>29365</th>\n",
       "      <td>206426</td>\n",
       "      <td>Чайхана «Мантыбар»</td>\n",
       "      <td>нет</td>\n",
       "      <td>ресторан</td>\n",
       "      <td>город Москва, улица Кожевнический Вражек, дом 3А</td>\n",
       "      <td>30</td>\n",
       "      <td>улица Кожевнический Вражек</td>\n",
       "      <td>98</td>\n",
       "      <td>ЮАО</td>\n",
       "      <td>Даниловский район</td>\n",
       "    </tr>\n",
       "    <tr>\n",
       "      <th>29366</th>\n",
       "      <td>214324</td>\n",
       "      <td>Кадаши ( закрытый)</td>\n",
       "      <td>нет</td>\n",
       "      <td>ресторан</td>\n",
       "      <td>город Москва, 2-й Кадашёвский переулок, дом 16...</td>\n",
       "      <td>15</td>\n",
       "      <td>2-й Кадашёвский переулок</td>\n",
       "      <td>21</td>\n",
       "      <td>ЦАО</td>\n",
       "      <td>Район Якиманка</td>\n",
       "    </tr>\n",
       "    <tr>\n",
       "      <th>29367</th>\n",
       "      <td>223171</td>\n",
       "      <td>Кондитерская «Пряник.Рогалик»</td>\n",
       "      <td>нет</td>\n",
       "      <td>кафе</td>\n",
       "      <td>город Москва, город Троицк, Пионерская улица, ...</td>\n",
       "      <td>20</td>\n",
       "      <td>Пионерская улица</td>\n",
       "      <td>43</td>\n",
       "      <td>ЗАО</td>\n",
       "      <td>Район Внуково</td>\n",
       "    </tr>\n",
       "    <tr>\n",
       "      <th>29368</th>\n",
       "      <td>213851</td>\n",
       "      <td>Ресторан «АТМОСФЕРА»</td>\n",
       "      <td>нет</td>\n",
       "      <td>ресторан</td>\n",
       "      <td>город Москва, улица Василисы Кожиной, дом 1, к...</td>\n",
       "      <td>49</td>\n",
       "      <td>улица Василисы Кожиной</td>\n",
       "      <td>48</td>\n",
       "      <td>ЗАО</td>\n",
       "      <td>Район Филевский Парк</td>\n",
       "    </tr>\n",
       "    <tr>\n",
       "      <th>29369</th>\n",
       "      <td>213864</td>\n",
       "      <td>Столовая</td>\n",
       "      <td>нет</td>\n",
       "      <td>столовая</td>\n",
       "      <td>город Москва, улица Василисы Кожиной, дом 1, к...</td>\n",
       "      <td>49</td>\n",
       "      <td>улица Василисы Кожиной</td>\n",
       "      <td>48</td>\n",
       "      <td>ЗАО</td>\n",
       "      <td>Район Филевский Парк</td>\n",
       "    </tr>\n",
       "  </tbody>\n",
       "</table>\n",
       "<p>29370 rows × 10 columns</p>\n",
       "</div>"
      ],
      "text/plain": [
       "           id                    object_name chain object_type  \\\n",
       "0      151635                        СМЕТАНА   нет        кафе   \n",
       "1      193477                    Grill-House   нет  закусочная   \n",
       "2      196756                        Пекарня   нет   кафетерий   \n",
       "3       77874                         Родник   нет        кафе   \n",
       "4       77874                         Родник   нет        кафе   \n",
       "...       ...                            ...   ...         ...   \n",
       "29365  206426             Чайхана «Мантыбар»   нет    ресторан   \n",
       "29366  214324             Кадаши ( закрытый)   нет    ресторан   \n",
       "29367  223171  Кондитерская «Пряник.Рогалик»   нет        кафе   \n",
       "29368  213851           Ресторан «АТМОСФЕРА»   нет    ресторан   \n",
       "29369  213864                       Столовая   нет    столовая   \n",
       "\n",
       "                                                 address  number  \\\n",
       "0             город Москва, улица Егора Абакумова, дом 9      48   \n",
       "1           город Москва, улица Егора Абакумова, дом 14А       0   \n",
       "2           город Москва, улица Егора Абакумова, дом 14А      12   \n",
       "3      город Москва, улица Талалихина, дом 2/1, корпус 1      35   \n",
       "4      город Москва, улица Талалихина, дом 2/1, корпус 1      35   \n",
       "...                                                  ...     ...   \n",
       "29365   город Москва, улица Кожевнический Вражек, дом 3А      30   \n",
       "29366  город Москва, 2-й Кадашёвский переулок, дом 16...      15   \n",
       "29367  город Москва, город Троицк, Пионерская улица, ...      20   \n",
       "29368  город Москва, улица Василисы Кожиной, дом 1, к...      49   \n",
       "29369  город Москва, улица Василисы Кожиной, дом 1, к...      49   \n",
       "\n",
       "                       streetname  areaid okrug                  area  \n",
       "0           улица Егора Абакумова      86  СВАО     Ярославский Район  \n",
       "1           улица Егора Абакумова      86  СВАО     Ярославский Район  \n",
       "2           улица Егора Абакумова      86  СВАО     Ярославский Район  \n",
       "3                улица Талалихина      18   ЦАО       Таганский район  \n",
       "4                улица Талалихина     117  ЮВАО   Нижегородский район  \n",
       "...                           ...     ...   ...                   ...  \n",
       "29365  улица Кожевнический Вражек      98   ЮАО     Даниловский район  \n",
       "29366    2-й Кадашёвский переулок      21   ЦАО        Район Якиманка  \n",
       "29367            Пионерская улица      43   ЗАО         Район Внуково  \n",
       "29368      улица Василисы Кожиной      48   ЗАО  Район Филевский Парк  \n",
       "29369      улица Василисы Кожиной      48   ЗАО  Район Филевский Парк  \n",
       "\n",
       "[29370 rows x 10 columns]"
      ]
     },
     "execution_count": 25,
     "metadata": {},
     "output_type": "execute_result"
    }
   ],
   "source": [
    "rest_data = rest_data.merge(mos_streets, on='streetname')\n",
    "rest_data"
   ]
  },
  {
   "cell_type": "markdown",
   "metadata": {},
   "source": [
    "Выделим топ-10 улиц с наибольшим количеством ресторанов и посмотрим, где они находятся:"
   ]
  },
  {
   "cell_type": "code",
   "execution_count": 26,
   "metadata": {},
   "outputs": [
    {
     "data": {
      "text/html": [
       "<div>\n",
       "<style scoped>\n",
       "    .dataframe tbody tr th:only-of-type {\n",
       "        vertical-align: middle;\n",
       "    }\n",
       "\n",
       "    .dataframe tbody tr th {\n",
       "        vertical-align: top;\n",
       "    }\n",
       "\n",
       "    .dataframe thead th {\n",
       "        text-align: right;\n",
       "    }\n",
       "</style>\n",
       "<table border=\"1\" class=\"dataframe\">\n",
       "  <thead>\n",
       "    <tr style=\"text-align: right;\">\n",
       "      <th></th>\n",
       "      <th>streetname</th>\n",
       "      <th>id</th>\n",
       "    </tr>\n",
       "  </thead>\n",
       "  <tbody>\n",
       "    <tr>\n",
       "      <th>0</th>\n",
       "      <td>проспект Мира</td>\n",
       "      <td>1428</td>\n",
       "    </tr>\n",
       "    <tr>\n",
       "      <th>1</th>\n",
       "      <td>Варшавское шоссе</td>\n",
       "      <td>1320</td>\n",
       "    </tr>\n",
       "    <tr>\n",
       "      <th>2</th>\n",
       "      <td>Ленинский проспект</td>\n",
       "      <td>1184</td>\n",
       "    </tr>\n",
       "    <tr>\n",
       "      <th>3</th>\n",
       "      <td>Профсоюзная улица</td>\n",
       "      <td>1098</td>\n",
       "    </tr>\n",
       "    <tr>\n",
       "      <th>4</th>\n",
       "      <td>Дмитровское шоссе</td>\n",
       "      <td>700</td>\n",
       "    </tr>\n",
       "    <tr>\n",
       "      <th>5</th>\n",
       "      <td>Ленинградский проспект</td>\n",
       "      <td>692</td>\n",
       "    </tr>\n",
       "    <tr>\n",
       "      <th>6</th>\n",
       "      <td>проспект Вернадского</td>\n",
       "      <td>660</td>\n",
       "    </tr>\n",
       "    <tr>\n",
       "      <th>7</th>\n",
       "      <td>Ленинградское шоссе</td>\n",
       "      <td>600</td>\n",
       "    </tr>\n",
       "    <tr>\n",
       "      <th>8</th>\n",
       "      <td>Каширское шоссе</td>\n",
       "      <td>448</td>\n",
       "    </tr>\n",
       "    <tr>\n",
       "      <th>9</th>\n",
       "      <td>Волгоградский проспект</td>\n",
       "      <td>441</td>\n",
       "    </tr>\n",
       "  </tbody>\n",
       "</table>\n",
       "</div>"
      ],
      "text/plain": [
       "               streetname    id\n",
       "0           проспект Мира  1428\n",
       "1        Варшавское шоссе  1320\n",
       "2      Ленинский проспект  1184\n",
       "3       Профсоюзная улица  1098\n",
       "4       Дмитровское шоссе   700\n",
       "5  Ленинградский проспект   692\n",
       "6    проспект Вернадского   660\n",
       "7     Ленинградское шоссе   600\n",
       "8         Каширское шоссе   448\n",
       "9  Волгоградский проспект   441"
      ]
     },
     "execution_count": 26,
     "metadata": {},
     "output_type": "execute_result"
    }
   ],
   "source": [
    "top_10_streets = rest_data.groupby(\n",
    "    by=['streetname'])\\\n",
    "    .agg({'id':'count'})\\\n",
    "    .sort_values(by='id', ascending=False)\\\n",
    "    .reset_index()\n",
    "top_10_streets = top_10_streets.head(10)\n",
    "top_10_streets"
   ]
  },
  {
   "cell_type": "code",
   "execution_count": 27,
   "metadata": {
    "scrolled": false
   },
   "outputs": [
    {
     "data": {
      "image/png": "[encoded data removed]",
      "text/plain": [
       "<Figure size 1000x500 with 1 Axes>"
      ]
     },
     "metadata": {},
     "output_type": "display_data"
    }
   ],
   "source": [
    "figure(figsize=(10,5))\n",
    "with plt.style.context('seaborn'):\n",
    "    plt.barh(top_10_streets['streetname'], top_10_streets['id'])\n",
    "    \n",
    "plt.title('Топ-10 улиц по количеству объектов общественного питания')\n",
    "plt.xlabel('Количество')\n",
    "plt.ylabel('Улица')\n",
    "plt.show();"
   ]
  },
  {
   "cell_type": "code",
   "execution_count": 28,
   "metadata": {},
   "outputs": [
    {
     "data": {
      "text/plain": [
       "Обручевский район                  331\n",
       "Район Теплый Стан                  331\n",
       "Донской район                      313\n",
       "Ломоносовский район                280\n",
       "Район Проспект Вернадского         280\n",
       "Район Тропарево-Никулино           280\n",
       "Район Гагаринский                  280\n",
       "Район Нагатино-Садовники           277\n",
       "Район Сокол                        273\n",
       "Ярославский Район                  204\n",
       "Мещанский район                    204\n",
       "Район Свиблово                     204\n",
       "Алексеевский район                 204\n",
       "Район Ростокино                    204\n",
       "Останкинский район                 204\n",
       "Район Марьина роща                 204\n",
       "Район Коньково                     183\n",
       "Академический район                183\n",
       "Район Черемушки                    183\n",
       "Район Ясенево                      183\n",
       "Хорошевский район                  173\n",
       "Район Беговой                      173\n",
       "Район Аэропорт                     173\n",
       "Район Чертаново Северное           165\n",
       "Район Чертаново Центральное        165\n",
       "Район Чертаново Южное              165\n",
       "Нагорный район                     165\n",
       "Район Северное Бутово              165\n",
       "Район Южное Бутово                 165\n",
       "Район Якиманка                     148\n",
       "Район Раменки                      132\n",
       "Район Москворечье-Сабурово         112\n",
       "Район Орехово-Борисово Южное       112\n",
       "Район Орехово-Борисово Северное    112\n",
       "Район Лианозово                    100\n",
       "Войковский Район                   100\n",
       "Район Западное Дегунино            100\n",
       "Район Северный                     100\n",
       "Молжаниновский район               100\n",
       "Район Левобережный                 100\n",
       "Головинский район                  100\n",
       "Район Матушкино-Савелки            100\n",
       "Бескудниковский Район              100\n",
       "Дмитровский район                  100\n",
       "Тимирязевский Район                100\n",
       "Район Восточное Дегунино           100\n",
       "Район Текстильщики                  63\n",
       "Район Печатники                     63\n",
       "Нижегородский район                 63\n",
       "Район Кузьминки                     63\n",
       "Южнопортовый Район                  63\n",
       "Таганский район                     63\n",
       "Район Выхино-Жулебино               63\n",
       "Name: area, dtype: int64"
      ]
     },
     "execution_count": 28,
     "metadata": {},
     "output_type": "execute_result"
    }
   ],
   "source": [
    "top_streetnames = top_10_streets['streetname']\n",
    "top_area = rest_data.query('streetname in @top_streetnames')\n",
    "top_area['area'].value_counts()"
   ]
  },
  {
   "cell_type": "markdown",
   "metadata": {},
   "source": [
    "Наибольшее число заведений из числа тех, которые находятся на самых популярных улицах, располагаются в районах Теплый Стан, Обручевский и Донской."
   ]
  },
  {
   "cell_type": "markdown",
   "metadata": {},
   "source": [
    "Найдем улицы с одним заведением и также посмотрим их расположение:"
   ]
  },
  {
   "cell_type": "code",
   "execution_count": 29,
   "metadata": {},
   "outputs": [
    {
     "data": {
      "text/html": [
       "<div>\n",
       "<style scoped>\n",
       "    .dataframe tbody tr th:only-of-type {\n",
       "        vertical-align: middle;\n",
       "    }\n",
       "\n",
       "    .dataframe tbody tr th {\n",
       "        vertical-align: top;\n",
       "    }\n",
       "\n",
       "    .dataframe thead th {\n",
       "        text-align: right;\n",
       "    }\n",
       "</style>\n",
       "<table border=\"1\" class=\"dataframe\">\n",
       "  <thead>\n",
       "    <tr style=\"text-align: right;\">\n",
       "      <th></th>\n",
       "      <th>streetname</th>\n",
       "      <th>id</th>\n",
       "    </tr>\n",
       "  </thead>\n",
       "  <tbody>\n",
       "    <tr>\n",
       "      <th>1622</th>\n",
       "      <td>улица Медведева</td>\n",
       "      <td>1</td>\n",
       "    </tr>\n",
       "    <tr>\n",
       "      <th>140</th>\n",
       "      <td>2-я улица Бухвостова</td>\n",
       "      <td>1</td>\n",
       "    </tr>\n",
       "    <tr>\n",
       "      <th>872</th>\n",
       "      <td>Олонецкий проезд</td>\n",
       "      <td>1</td>\n",
       "    </tr>\n",
       "    <tr>\n",
       "      <th>154</th>\n",
       "      <td>3-й Стрелецкий проезд</td>\n",
       "      <td>1</td>\n",
       "    </tr>\n",
       "    <tr>\n",
       "      <th>1541</th>\n",
       "      <td>улица Клочкова</td>\n",
       "      <td>1</td>\n",
       "    </tr>\n",
       "    <tr>\n",
       "      <th>...</th>\n",
       "      <td>...</td>\n",
       "      <td>...</td>\n",
       "    </tr>\n",
       "    <tr>\n",
       "      <th>1432</th>\n",
       "      <td>улица Брусилова</td>\n",
       "      <td>1</td>\n",
       "    </tr>\n",
       "    <tr>\n",
       "      <th>396</th>\n",
       "      <td>Винницкая улица</td>\n",
       "      <td>1</td>\n",
       "    </tr>\n",
       "    <tr>\n",
       "      <th>402</th>\n",
       "      <td>Волоцкой переулок</td>\n",
       "      <td>1</td>\n",
       "    </tr>\n",
       "    <tr>\n",
       "      <th>1429</th>\n",
       "      <td>улица Бориса Жигулёнкова</td>\n",
       "      <td>1</td>\n",
       "    </tr>\n",
       "    <tr>\n",
       "      <th>256</th>\n",
       "      <td>Басовская улица</td>\n",
       "      <td>1</td>\n",
       "    </tr>\n",
       "  </tbody>\n",
       "</table>\n",
       "<p>471 rows × 2 columns</p>\n",
       "</div>"
      ],
      "text/plain": [
       "                    streetname  id\n",
       "1622           улица Медведева   1\n",
       "140       2-я улица Бухвостова   1\n",
       "872           Олонецкий проезд   1\n",
       "154      3-й Стрелецкий проезд   1\n",
       "1541            улица Клочкова   1\n",
       "...                        ...  ..\n",
       "1432           улица Брусилова   1\n",
       "396            Винницкая улица   1\n",
       "402          Волоцкой переулок   1\n",
       "1429  улица Бориса Жигулёнкова   1\n",
       "256            Басовская улица   1\n",
       "\n",
       "[471 rows x 2 columns]"
      ]
     },
     "execution_count": 29,
     "metadata": {},
     "output_type": "execute_result"
    }
   ],
   "source": [
    "one_rest_street = rest_data.groupby(\n",
    "    by='streetname')\\\n",
    "    .agg({'id':'count'})\\\n",
    "    .reset_index()\\\n",
    "    .sort_values(by='id', ascending=False)\n",
    "\n",
    "one_rest_street = one_rest_street.query('id == 1')\n",
    "one_rest_street"
   ]
  },
  {
   "cell_type": "code",
   "execution_count": 30,
   "metadata": {},
   "outputs": [
    {
     "data": {
      "text/plain": [
       "Таганский район              25\n",
       "Басманный район              23\n",
       "Район Хамовники              22\n",
       "Тверской район               19\n",
       "Район Марьина роща           16\n",
       "                             ..\n",
       "Район Восточное Измайлово     1\n",
       "Район Чертаново Южное         1\n",
       "Район Метрогородок            1\n",
       "Район Ивановское              1\n",
       "Район Филевский Парк          1\n",
       "Name: area, Length: 96, dtype: int64"
      ]
     },
     "execution_count": 30,
     "metadata": {},
     "output_type": "execute_result"
    }
   ],
   "source": [
    "one = one_rest_street['streetname']\n",
    "one_area = rest_data.query('streetname in @one')\n",
    "one_area['area'].value_counts()"
   ]
  },
  {
   "cell_type": "markdown",
   "metadata": {},
   "source": [
    "# Вывод\n",
    "\n",
    "Наибольшее число улиц с максимальным количеством объектов общепита располагается в районах Теплый Стан, Обручевский и Донской; наибольшее число улиц с одним заведением располагается в Таганском, Басманном, Хамовниках, Тверском и Марьионй роще"
   ]
  },
  {
   "cell_type": "markdown",
   "metadata": {},
   "source": [
    "# Общий вывод\n",
    "\n",
    "- наиболее популярный тип заведений в Москве - кафе (39,7%)\n",
    "- большинство заведений (80,7%) не принадлежат определенной сети\n",
    "- среди сетевых объектов также самыми распространенными являются кафе (47% от всех сетевых заведений)\n",
    "- по отношению к независимым заведениям доля предприятий быстрого обслуживания принадлежит сетям\n",
    "- большее распространение имеют заведения с количеством посадочных мест от 10 до 50 (не считая отделов кулинарии и закусочных, где посадочные места не предусмотрены)\n",
    "- в среднем, наибольшее количество посадочных мест в столовых и ресторанах (103 и 80 соответственно)\n",
    "- в кафе среднее количество посадочных мест равно 30\n",
    "- наибольшее число улиц с максимальным количеством объектов общепита располагается в районах Теплый Стан, Обручевский и Донской\n",
    "- наибольшее число улиц с одним заведением также располагается в Таганском, Басманном, Хамовниках, Тверском и Марьионй роще\n",
    "\n",
    "\n",
    "\n",
    "Итак, посмотрев на имеющиеся у нас данные, можно сказать, что кафе, судя по той доле рынка, которую они занимают, всегда пользуются большой популярностью у москвичей, оптимальное количество посадочных мест для будущего кафе - около тридцати, а место расположения первого ресторана желательно выбрать в центре - так заведение сможет быстро набрать популярность в виду большой проходимости и обилия туристов, в контексте развития сети можно сказать следующее - в удалении от центра, а именно, в районах Теплый Стан, Обручевский и Донской, наблюдается высокая концентрация объектов общепита, это значит, что в этих районах на них гарантированно есть спрос, однако, конкуренция также будет выше, в центре же больше улиц с одним заведением, однако, выше стоимость аренды и под вопросом потенциальный успех заведения\n",
    "перспективы развития сети нашего кафе также выглядят довольно приятно - доля рынка сетевых заведений около девятнадцати процентов, и этот рынок в основном занят такими сетями как KFC, Макдоналдс, Бургер Кинг (первое, третье и четвертое место по популярности) - иными словами, ресторанами фастфуда, однако, посмотрев на успех Шоколадницы (второе место по популярности), можно сказать, что формат сетевого кафе будет вполне востребован, и конкуренции в этой нише будет значительно меньше, чем в нише тех же ресторанов быстрого питания"
   ]
  },
  {
   "cell_type": "markdown",
   "metadata": {},
   "source": [
    "Ссылка на презентацию: https://docs.google.com/presentation/d/1Wk_UllU8NbShCNir3elaWamP6TUpRWfWDzY_knBdhcA/edit?usp=sharing"
   ]
  }
 ],
 "metadata": {
  "ExecuteTimeLog": [
   {
    "duration": 44,
    "start_time": "2022-07-15T17:44:43.148Z"
   },
   {
    "duration": 1293,
    "start_time": "2022-07-15T17:44:48.312Z"
   },
   {
    "duration": 136,
    "start_time": "2022-07-15T17:44:49.607Z"
   },
   {
    "duration": 18,
    "start_time": "2022-07-15T17:44:49.745Z"
   },
   {
    "duration": 17,
    "start_time": "2022-07-15T17:44:49.764Z"
   },
   {
    "duration": 13,
    "start_time": "2022-07-15T17:45:00.677Z"
   },
   {
    "duration": 57,
    "start_time": "2022-07-15T17:45:10.003Z"
   },
   {
    "duration": 11,
    "start_time": "2022-07-15T17:45:16.925Z"
   },
   {
    "duration": 1340,
    "start_time": "2022-07-19T08:56:49.865Z"
   },
   {
    "duration": 251,
    "start_time": "2022-07-19T08:56:51.207Z"
   },
   {
    "duration": 18,
    "start_time": "2022-07-19T08:56:51.460Z"
   },
   {
    "duration": 14,
    "start_time": "2022-07-19T08:56:51.480Z"
   },
   {
    "duration": 96,
    "start_time": "2022-07-19T08:56:51.496Z"
   },
   {
    "duration": 5,
    "start_time": "2022-07-19T08:56:51.594Z"
   },
   {
    "duration": 15,
    "start_time": "2022-07-19T08:56:51.601Z"
   },
   {
    "duration": 12,
    "start_time": "2022-07-19T08:56:51.618Z"
   },
   {
    "duration": 173,
    "start_time": "2022-07-19T08:56:51.632Z"
   },
   {
    "duration": 6,
    "start_time": "2022-07-19T08:56:51.807Z"
   },
   {
    "duration": 14,
    "start_time": "2022-07-19T08:56:51.815Z"
   },
   {
    "duration": 175,
    "start_time": "2022-07-19T08:56:51.830Z"
   },
   {
    "duration": 12,
    "start_time": "2022-07-19T08:56:52.007Z"
   },
   {
    "duration": 60,
    "start_time": "2022-07-19T08:56:52.022Z"
   },
   {
    "duration": 12,
    "start_time": "2022-07-19T08:56:52.084Z"
   },
   {
    "duration": 190,
    "start_time": "2022-07-19T08:56:52.098Z"
   },
   {
    "duration": 14,
    "start_time": "2022-07-19T08:57:47.558Z"
   },
   {
    "duration": 12,
    "start_time": "2022-07-19T08:58:57.061Z"
   },
   {
    "duration": 183,
    "start_time": "2022-07-19T09:29:09.428Z"
   },
   {
    "duration": 180,
    "start_time": "2022-07-19T09:29:24.996Z"
   },
   {
    "duration": 8,
    "start_time": "2022-07-19T09:39:20.941Z"
   },
   {
    "duration": 13,
    "start_time": "2022-07-19T09:39:34.976Z"
   },
   {
    "duration": 11,
    "start_time": "2022-07-19T09:40:04.084Z"
   },
   {
    "duration": 14,
    "start_time": "2022-07-19T09:40:18.017Z"
   },
   {
    "duration": 79,
    "start_time": "2022-07-19T09:45:14.392Z"
   },
   {
    "duration": 15,
    "start_time": "2022-07-19T09:45:23.672Z"
   },
   {
    "duration": 4,
    "start_time": "2022-07-19T10:51:09.678Z"
   },
   {
    "duration": 103,
    "start_time": "2022-07-19T10:53:05.647Z"
   },
   {
    "duration": 3,
    "start_time": "2022-07-19T10:53:50.012Z"
   },
   {
    "duration": 4,
    "start_time": "2022-07-19T10:54:02.542Z"
   },
   {
    "duration": 58,
    "start_time": "2022-07-19T10:54:03.697Z"
   },
   {
    "duration": 39,
    "start_time": "2022-07-19T11:03:17.695Z"
   },
   {
    "duration": 59,
    "start_time": "2022-07-19T11:05:50.307Z"
   },
   {
    "duration": 100,
    "start_time": "2022-07-19T11:09:50.811Z"
   },
   {
    "duration": 34,
    "start_time": "2022-07-19T11:10:17.303Z"
   },
   {
    "duration": 67,
    "start_time": "2022-07-19T11:10:58.344Z"
   },
   {
    "duration": 66,
    "start_time": "2022-07-19T11:11:48.527Z"
   },
   {
    "duration": 40,
    "start_time": "2022-07-19T11:12:01.674Z"
   },
   {
    "duration": 152,
    "start_time": "2022-07-19T11:12:25.534Z"
   },
   {
    "duration": 11,
    "start_time": "2022-07-19T11:32:44.492Z"
   },
   {
    "duration": 77,
    "start_time": "2022-07-19T11:33:06.637Z"
   },
   {
    "duration": 10,
    "start_time": "2022-07-19T11:39:05.547Z"
   },
   {
    "duration": 12,
    "start_time": "2022-07-19T11:39:14.840Z"
   },
   {
    "duration": 55,
    "start_time": "2022-07-19T11:45:33.584Z"
   },
   {
    "duration": 812,
    "start_time": "2022-07-19T11:46:59.758Z"
   },
   {
    "duration": 86,
    "start_time": "2022-07-19T11:53:53.100Z"
   },
   {
    "duration": 31,
    "start_time": "2022-07-19T11:53:54.651Z"
   },
   {
    "duration": 321,
    "start_time": "2022-07-19T11:54:17.417Z"
   },
   {
    "duration": 34,
    "start_time": "2022-07-19T11:58:09.895Z"
   },
   {
    "duration": 16,
    "start_time": "2022-07-19T11:58:49.437Z"
   },
   {
    "duration": 36,
    "start_time": "2022-07-19T11:59:41.787Z"
   },
   {
    "duration": 31,
    "start_time": "2022-07-19T11:59:53.706Z"
   },
   {
    "duration": 359,
    "start_time": "2022-07-19T12:00:10.886Z"
   },
   {
    "duration": 33,
    "start_time": "2022-07-19T12:01:22.887Z"
   },
   {
    "duration": 10,
    "start_time": "2022-07-19T12:02:47.127Z"
   },
   {
    "duration": 18,
    "start_time": "2022-07-19T12:03:02.412Z"
   },
   {
    "duration": 24,
    "start_time": "2022-07-19T12:03:31.323Z"
   },
   {
    "duration": 11,
    "start_time": "2022-07-19T12:03:37.712Z"
   },
   {
    "duration": 21,
    "start_time": "2022-07-19T12:04:20.687Z"
   },
   {
    "duration": 13,
    "start_time": "2022-07-19T12:04:29.031Z"
   },
   {
    "duration": 12,
    "start_time": "2022-07-19T13:06:44.020Z"
   },
   {
    "duration": 25,
    "start_time": "2022-07-19T13:06:58.147Z"
   },
   {
    "duration": 237,
    "start_time": "2022-07-19T13:06:59.090Z"
   },
   {
    "duration": 27,
    "start_time": "2022-07-19T13:07:26.206Z"
   },
   {
    "duration": 13,
    "start_time": "2022-07-19T13:07:32.441Z"
   },
   {
    "duration": 49,
    "start_time": "2022-07-20T08:15:37.238Z"
   },
   {
    "duration": 1509,
    "start_time": "2022-07-20T08:15:41.379Z"
   },
   {
    "duration": 139,
    "start_time": "2022-07-20T08:15:42.890Z"
   },
   {
    "duration": 19,
    "start_time": "2022-07-20T08:15:43.031Z"
   },
   {
    "duration": 215,
    "start_time": "2022-07-20T08:15:43.052Z"
   },
   {
    "duration": 13,
    "start_time": "2022-07-20T08:15:43.269Z"
   },
   {
    "duration": 95,
    "start_time": "2022-07-20T08:15:43.284Z"
   },
   {
    "duration": 7,
    "start_time": "2022-07-20T08:15:43.380Z"
   },
   {
    "duration": 30,
    "start_time": "2022-07-20T08:15:43.388Z"
   },
   {
    "duration": 16,
    "start_time": "2022-07-20T08:15:43.419Z"
   },
   {
    "duration": 27,
    "start_time": "2022-07-20T08:15:43.436Z"
   },
   {
    "duration": 178,
    "start_time": "2022-07-20T08:15:43.464Z"
   },
   {
    "duration": 6,
    "start_time": "2022-07-20T08:15:43.644Z"
   },
   {
    "duration": 16,
    "start_time": "2022-07-20T08:15:43.652Z"
   },
   {
    "duration": 189,
    "start_time": "2022-07-20T08:15:43.670Z"
   },
   {
    "duration": 12,
    "start_time": "2022-07-20T08:15:43.860Z"
   },
   {
    "duration": 59,
    "start_time": "2022-07-20T08:15:43.873Z"
   },
   {
    "duration": 1380,
    "start_time": "2022-07-20T08:15:43.934Z"
   },
   {
    "duration": 30,
    "start_time": "2022-07-20T08:15:45.315Z"
   },
   {
    "duration": 26,
    "start_time": "2022-07-20T08:15:45.347Z"
   },
   {
    "duration": 190,
    "start_time": "2022-07-20T08:15:45.375Z"
   },
   {
    "duration": 13,
    "start_time": "2022-07-20T08:15:45.567Z"
   },
   {
    "duration": 39,
    "start_time": "2022-07-20T08:15:45.581Z"
   },
   {
    "duration": 12,
    "start_time": "2022-07-20T08:15:45.622Z"
   },
   {
    "duration": 15,
    "start_time": "2022-07-20T08:16:24.434Z"
   },
   {
    "duration": 197,
    "start_time": "2022-07-20T09:46:10.319Z"
   },
   {
    "duration": 14,
    "start_time": "2022-07-20T09:46:18.692Z"
   },
   {
    "duration": 31,
    "start_time": "2022-07-20T10:05:30.600Z"
   },
   {
    "duration": 22,
    "start_time": "2022-07-20T10:05:48.836Z"
   },
   {
    "duration": 231,
    "start_time": "2022-07-20T10:23:42.444Z"
   },
   {
    "duration": 1458,
    "start_time": "2022-07-20T12:38:23.999Z"
   },
   {
    "duration": 127,
    "start_time": "2022-07-20T12:38:25.459Z"
   },
   {
    "duration": 22,
    "start_time": "2022-07-20T12:38:25.591Z"
   },
   {
    "duration": 213,
    "start_time": "2022-07-20T12:38:25.616Z"
   },
   {
    "duration": 11,
    "start_time": "2022-07-20T12:38:25.830Z"
   },
   {
    "duration": 97,
    "start_time": "2022-07-20T12:38:25.843Z"
   },
   {
    "duration": 5,
    "start_time": "2022-07-20T12:38:25.941Z"
   },
   {
    "duration": 73,
    "start_time": "2022-07-20T12:38:25.948Z"
   },
   {
    "duration": 13,
    "start_time": "2022-07-20T12:38:26.023Z"
   },
   {
    "duration": 15,
    "start_time": "2022-07-20T12:38:26.039Z"
   },
   {
    "duration": 222,
    "start_time": "2022-07-20T12:38:26.056Z"
   },
   {
    "duration": 18,
    "start_time": "2022-07-20T12:38:26.279Z"
   },
   {
    "duration": 44,
    "start_time": "2022-07-20T12:38:26.299Z"
   },
   {
    "duration": 209,
    "start_time": "2022-07-20T12:38:26.345Z"
   },
   {
    "duration": 80,
    "start_time": "2022-07-20T12:38:26.556Z"
   },
   {
    "duration": 1770,
    "start_time": "2022-07-20T12:38:26.638Z"
   },
   {
    "duration": 27,
    "start_time": "2022-07-20T12:38:28.409Z"
   },
   {
    "duration": 18,
    "start_time": "2022-07-20T12:38:28.438Z"
   },
   {
    "duration": 228,
    "start_time": "2022-07-20T12:38:28.457Z"
   },
   {
    "duration": 131,
    "start_time": "2022-07-20T12:38:28.688Z"
   },
   {
    "duration": 0,
    "start_time": "2022-07-20T12:38:28.820Z"
   },
   {
    "duration": 0,
    "start_time": "2022-07-20T12:38:28.821Z"
   },
   {
    "duration": 25,
    "start_time": "2022-07-20T12:53:32.230Z"
   },
   {
    "duration": 23,
    "start_time": "2022-07-20T12:53:33.460Z"
   },
   {
    "duration": 1272,
    "start_time": "2022-07-21T11:25:53.155Z"
   },
   {
    "duration": 93,
    "start_time": "2022-07-21T11:25:54.430Z"
   },
   {
    "duration": 17,
    "start_time": "2022-07-21T11:25:54.524Z"
   },
   {
    "duration": 15,
    "start_time": "2022-07-21T11:25:54.543Z"
   },
   {
    "duration": 11,
    "start_time": "2022-07-21T11:25:54.560Z"
   },
   {
    "duration": 266,
    "start_time": "2022-07-21T11:25:54.572Z"
   },
   {
    "duration": 13,
    "start_time": "2022-07-21T11:25:54.840Z"
   },
   {
    "duration": 98,
    "start_time": "2022-07-21T11:25:54.855Z"
   },
   {
    "duration": 5,
    "start_time": "2022-07-21T11:25:54.955Z"
   },
   {
    "duration": 16,
    "start_time": "2022-07-21T11:25:54.962Z"
   },
   {
    "duration": 43,
    "start_time": "2022-07-21T11:25:54.980Z"
   },
   {
    "duration": 16,
    "start_time": "2022-07-21T11:25:55.025Z"
   },
   {
    "duration": 324,
    "start_time": "2022-07-21T11:25:55.042Z"
   },
   {
    "duration": 16,
    "start_time": "2022-07-21T11:25:55.368Z"
   },
   {
    "duration": 253,
    "start_time": "2022-07-21T11:25:55.386Z"
   },
   {
    "duration": 7,
    "start_time": "2022-07-21T11:25:55.640Z"
   },
   {
    "duration": 8,
    "start_time": "2022-07-21T11:25:55.648Z"
   },
   {
    "duration": 14,
    "start_time": "2022-07-21T11:25:55.658Z"
   },
   {
    "duration": 253,
    "start_time": "2022-07-21T11:25:55.674Z"
   },
   {
    "duration": 46,
    "start_time": "2022-07-21T11:25:55.929Z"
   },
   {
    "duration": 1504,
    "start_time": "2022-07-21T11:25:55.977Z"
   },
   {
    "duration": 30,
    "start_time": "2022-07-21T11:25:57.482Z"
   },
   {
    "duration": 22,
    "start_time": "2022-07-21T11:25:57.514Z"
   },
   {
    "duration": 246,
    "start_time": "2022-07-21T11:25:57.538Z"
   },
   {
    "duration": 15,
    "start_time": "2022-07-21T11:25:57.786Z"
   },
   {
    "duration": 18,
    "start_time": "2022-07-21T11:25:57.822Z"
   },
   {
    "duration": 9,
    "start_time": "2022-07-21T11:25:57.841Z"
   },
   {
    "duration": 17,
    "start_time": "2022-07-21T11:35:46.970Z"
   },
   {
    "duration": 20,
    "start_time": "2022-07-21T11:36:09.787Z"
   },
   {
    "duration": 14,
    "start_time": "2022-07-21T11:36:19.892Z"
   },
   {
    "duration": 18,
    "start_time": "2022-07-21T11:36:27.871Z"
   },
   {
    "duration": 77,
    "start_time": "2022-07-21T11:52:34.257Z"
   },
   {
    "duration": 1671,
    "start_time": "2022-07-21T11:52:39.193Z"
   },
   {
    "duration": 200,
    "start_time": "2022-07-21T11:52:40.870Z"
   },
   {
    "duration": 19,
    "start_time": "2022-07-21T11:52:41.074Z"
   },
   {
    "duration": 18,
    "start_time": "2022-07-21T11:52:41.095Z"
   },
   {
    "duration": 31,
    "start_time": "2022-07-21T11:52:41.116Z"
   },
   {
    "duration": 107,
    "start_time": "2022-07-21T11:52:41.149Z"
   },
   {
    "duration": 0,
    "start_time": "2022-07-21T11:52:41.259Z"
   },
   {
    "duration": 0,
    "start_time": "2022-07-21T11:52:41.260Z"
   },
   {
    "duration": 0,
    "start_time": "2022-07-21T11:52:41.261Z"
   },
   {
    "duration": 0,
    "start_time": "2022-07-21T11:52:41.262Z"
   },
   {
    "duration": 0,
    "start_time": "2022-07-21T11:52:41.263Z"
   },
   {
    "duration": 0,
    "start_time": "2022-07-21T11:52:41.264Z"
   },
   {
    "duration": 0,
    "start_time": "2022-07-21T11:52:41.265Z"
   },
   {
    "duration": 0,
    "start_time": "2022-07-21T11:52:41.266Z"
   },
   {
    "duration": 0,
    "start_time": "2022-07-21T11:52:41.267Z"
   },
   {
    "duration": 0,
    "start_time": "2022-07-21T11:52:41.268Z"
   },
   {
    "duration": 0,
    "start_time": "2022-07-21T11:52:41.269Z"
   },
   {
    "duration": 0,
    "start_time": "2022-07-21T11:52:41.270Z"
   },
   {
    "duration": 0,
    "start_time": "2022-07-21T11:52:41.271Z"
   },
   {
    "duration": 0,
    "start_time": "2022-07-21T11:52:41.273Z"
   },
   {
    "duration": 0,
    "start_time": "2022-07-21T11:52:41.274Z"
   },
   {
    "duration": 0,
    "start_time": "2022-07-21T11:52:41.275Z"
   },
   {
    "duration": 0,
    "start_time": "2022-07-21T11:52:41.277Z"
   },
   {
    "duration": 0,
    "start_time": "2022-07-21T11:52:41.278Z"
   },
   {
    "duration": 0,
    "start_time": "2022-07-21T11:52:41.279Z"
   },
   {
    "duration": 0,
    "start_time": "2022-07-21T11:52:41.280Z"
   },
   {
    "duration": 0,
    "start_time": "2022-07-21T11:52:41.282Z"
   },
   {
    "duration": 314,
    "start_time": "2022-07-21T11:54:01.081Z"
   },
   {
    "duration": 245,
    "start_time": "2022-07-21T11:54:11.076Z"
   },
   {
    "duration": 217,
    "start_time": "2022-07-21T11:54:19.341Z"
   },
   {
    "duration": 205,
    "start_time": "2022-07-21T11:54:29.860Z"
   },
   {
    "duration": 2,
    "start_time": "2022-07-21T11:54:55.434Z"
   },
   {
    "duration": 148,
    "start_time": "2022-07-21T11:54:55.438Z"
   },
   {
    "duration": 19,
    "start_time": "2022-07-21T11:54:55.588Z"
   },
   {
    "duration": 35,
    "start_time": "2022-07-21T11:54:55.610Z"
   },
   {
    "duration": 18,
    "start_time": "2022-07-21T11:54:55.648Z"
   },
   {
    "duration": 221,
    "start_time": "2022-07-21T11:54:55.668Z"
   },
   {
    "duration": 14,
    "start_time": "2022-07-21T11:54:55.891Z"
   },
   {
    "duration": 118,
    "start_time": "2022-07-21T11:54:55.906Z"
   },
   {
    "duration": 6,
    "start_time": "2022-07-21T11:54:56.026Z"
   },
   {
    "duration": 41,
    "start_time": "2022-07-21T11:54:56.033Z"
   },
   {
    "duration": 32,
    "start_time": "2022-07-21T11:54:56.076Z"
   },
   {
    "duration": 18,
    "start_time": "2022-07-21T11:54:56.111Z"
   },
   {
    "duration": 384,
    "start_time": "2022-07-21T11:54:56.131Z"
   },
   {
    "duration": 33,
    "start_time": "2022-07-21T11:54:56.519Z"
   },
   {
    "duration": 405,
    "start_time": "2022-07-21T11:54:56.554Z"
   },
   {
    "duration": 10,
    "start_time": "2022-07-21T11:54:56.961Z"
   },
   {
    "duration": 7,
    "start_time": "2022-07-21T11:54:56.973Z"
   },
   {
    "duration": 28,
    "start_time": "2022-07-21T11:54:56.982Z"
   },
   {
    "duration": 289,
    "start_time": "2022-07-21T11:54:57.012Z"
   },
   {
    "duration": 103,
    "start_time": "2022-07-21T11:54:57.303Z"
   },
   {
    "duration": 1491,
    "start_time": "2022-07-21T11:54:57.408Z"
   },
   {
    "duration": 29,
    "start_time": "2022-07-21T11:54:58.901Z"
   },
   {
    "duration": 28,
    "start_time": "2022-07-21T11:54:58.932Z"
   },
   {
    "duration": 303,
    "start_time": "2022-07-21T11:54:58.962Z"
   },
   {
    "duration": 18,
    "start_time": "2022-07-21T11:54:59.267Z"
   },
   {
    "duration": 22,
    "start_time": "2022-07-21T11:54:59.287Z"
   },
   {
    "duration": 37,
    "start_time": "2022-07-21T11:54:59.311Z"
   },
   {
    "duration": 249,
    "start_time": "2022-07-21T11:56:23.801Z"
   },
   {
    "duration": 16,
    "start_time": "2022-07-21T12:02:07.491Z"
   },
   {
    "duration": 19,
    "start_time": "2022-07-21T12:02:15.863Z"
   },
   {
    "duration": 34,
    "start_time": "2022-07-21T12:02:54.668Z"
   },
   {
    "duration": 26,
    "start_time": "2022-07-21T12:03:30.629Z"
   },
   {
    "duration": 20,
    "start_time": "2022-07-21T12:03:53.594Z"
   },
   {
    "duration": 15,
    "start_time": "2022-07-21T12:04:02.271Z"
   },
   {
    "duration": 12,
    "start_time": "2022-07-21T12:04:06.384Z"
   },
   {
    "duration": 29,
    "start_time": "2022-07-21T12:04:32.759Z"
   },
   {
    "duration": 21,
    "start_time": "2022-07-21T12:04:33.873Z"
   },
   {
    "duration": 214,
    "start_time": "2022-07-21T12:05:19.772Z"
   },
   {
    "duration": 229,
    "start_time": "2022-07-21T12:05:43.873Z"
   },
   {
    "duration": 231,
    "start_time": "2022-07-21T12:06:04.079Z"
   },
   {
    "duration": 211,
    "start_time": "2022-07-21T12:06:20.543Z"
   },
   {
    "duration": 260,
    "start_time": "2022-07-21T12:06:38.756Z"
   },
   {
    "duration": 220,
    "start_time": "2022-07-21T12:06:58.268Z"
   },
   {
    "duration": 15,
    "start_time": "2022-07-21T12:07:39.883Z"
   },
   {
    "duration": 13,
    "start_time": "2022-07-21T12:07:54.690Z"
   },
   {
    "duration": 15,
    "start_time": "2022-07-21T12:09:35.770Z"
   },
   {
    "duration": 368,
    "start_time": "2022-07-21T12:23:53.059Z"
   },
   {
    "duration": 440,
    "start_time": "2022-07-21T12:24:01.603Z"
   },
   {
    "duration": 14,
    "start_time": "2022-07-21T12:25:02.904Z"
   },
   {
    "duration": 98,
    "start_time": "2022-07-21T12:26:14.284Z"
   },
   {
    "duration": 136,
    "start_time": "2022-07-21T12:26:40.058Z"
   },
   {
    "duration": 44,
    "start_time": "2022-07-21T14:26:45.025Z"
   },
   {
    "duration": 5,
    "start_time": "2022-07-21T14:26:53.288Z"
   },
   {
    "duration": 1349,
    "start_time": "2022-07-21T14:26:58.777Z"
   },
   {
    "duration": 162,
    "start_time": "2022-07-21T14:27:00.131Z"
   },
   {
    "duration": 29,
    "start_time": "2022-07-21T14:27:00.294Z"
   },
   {
    "duration": 20,
    "start_time": "2022-07-21T14:27:00.326Z"
   },
   {
    "duration": 9,
    "start_time": "2022-07-21T14:27:00.348Z"
   },
   {
    "duration": 176,
    "start_time": "2022-07-21T14:27:00.359Z"
   },
   {
    "duration": 12,
    "start_time": "2022-07-21T14:27:00.536Z"
   },
   {
    "duration": 118,
    "start_time": "2022-07-21T14:27:00.550Z"
   },
   {
    "duration": 5,
    "start_time": "2022-07-21T14:27:00.669Z"
   },
   {
    "duration": 37,
    "start_time": "2022-07-21T14:27:00.676Z"
   },
   {
    "duration": 18,
    "start_time": "2022-07-21T14:27:00.721Z"
   },
   {
    "duration": 17,
    "start_time": "2022-07-21T14:27:00.741Z"
   },
   {
    "duration": 233,
    "start_time": "2022-07-21T14:27:00.760Z"
   },
   {
    "duration": 28,
    "start_time": "2022-07-21T14:27:00.994Z"
   },
   {
    "duration": 168,
    "start_time": "2022-07-21T14:27:01.025Z"
   },
   {
    "duration": 7,
    "start_time": "2022-07-21T14:27:01.195Z"
   },
   {
    "duration": 33,
    "start_time": "2022-07-21T14:27:01.204Z"
   },
   {
    "duration": 19,
    "start_time": "2022-07-21T14:27:01.238Z"
   },
   {
    "duration": 13,
    "start_time": "2022-07-21T14:27:01.258Z"
   },
   {
    "duration": 115,
    "start_time": "2022-07-21T14:27:01.273Z"
   },
   {
    "duration": 31,
    "start_time": "2022-07-21T14:27:01.389Z"
   },
   {
    "duration": 167,
    "start_time": "2022-07-21T14:27:01.425Z"
   },
   {
    "duration": 55,
    "start_time": "2022-07-21T14:27:01.593Z"
   },
   {
    "duration": 1900,
    "start_time": "2022-07-21T14:27:01.649Z"
   },
   {
    "duration": 24,
    "start_time": "2022-07-21T14:27:03.550Z"
   },
   {
    "duration": 15,
    "start_time": "2022-07-21T14:27:03.575Z"
   },
   {
    "duration": 169,
    "start_time": "2022-07-21T14:27:03.591Z"
   },
   {
    "duration": 17,
    "start_time": "2022-07-21T14:27:03.763Z"
   },
   {
    "duration": 44,
    "start_time": "2022-07-21T14:27:03.781Z"
   },
   {
    "duration": 9,
    "start_time": "2022-07-21T14:27:03.828Z"
   },
   {
    "duration": 143,
    "start_time": "2022-07-21T14:27:34.792Z"
   },
   {
    "duration": 140,
    "start_time": "2022-07-21T14:30:22.929Z"
   }
  ],
  "kernelspec": {
   "display_name": "Python 3 (ipykernel)",
   "language": "python",
   "name": "python3"
  },
  "language_info": {
   "codemirror_mode": {
    "name": "ipython",
    "version": 3
   },
   "file_extension": ".py",
   "mimetype": "text/x-python",
   "name": "python",
   "nbconvert_exporter": "python",
   "pygments_lexer": "ipython3",
   "version": "3.9.12"
  },
  "toc": {
   "base_numbering": 1,
   "nav_menu": {},
   "number_sections": true,
   "sideBar": true,
   "skip_h1_title": true,
   "title_cell": "Table of Contents",
   "title_sidebar": "Contents",
   "toc_cell": false,
   "toc_position": {},
   "toc_section_display": true,
   "toc_window_display": false
  }
 },
 "nbformat": 4,
 "nbformat_minor": 2
}
