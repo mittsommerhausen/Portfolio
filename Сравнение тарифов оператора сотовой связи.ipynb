{
 "cells": [
  {
   "cell_type": "markdown",
   "metadata": {},
   "source": [
    "## Бриф\n",
    "\n",
    "Компания \"Мегалайн\" предлагает своим клиентам два тарифных плана: «Смарт» и «Ультра». Чтобы скорректировать рекламный бюджет, коммерческий департамент хочет понять, какой тариф приносит больше денег.\n",
    "Необходимо сделать предварительный анализ тарифов на небольшой выборке клиентов. В нашем распоряжении данные 500 пользователей «Мегалайна»: кто они, откуда, каким тарифом пользуются, сколько звонков и сообщений каждый отправил за 2018 год. Нужно проанализировать поведение клиентов и сделать вывод — какой тариф лучше, для этого нужно:\n",
    "* при необходимости исправить ошибки в данных и привести их к нужным типам\n",
    "* посчитать для каждого пользователя:\n",
    "    - количество сделанных звонков и израсходованных минут разговора по месяцам\n",
    "    - количество отправленных сообщений по месяцам\n",
    "    - объем израсходованного интернет-трафика по месяцам\n",
    "    - помесячную выручку с каждого пользователя (вычтитанием бесплатного лимита из суммарного количества звонков, сообщений и интернет-трафика; остаток умножаем на значение из тарифного плана; прибавляем абонентскую плату, соответствующую тарифному плану)\n",
    "* описать поведение клиентов оператора, исходя из выборки:\n",
    "    - сколько минут разговора, сколько сообщений и какой объём интернет-трафика требуется пользователям каждого тарифа в месяц\n",
    "    - посчитать среднее количество, дисперсию и стандартное отклонение\n",
    "    - построить гистограммы, описать распределения\n",
    "    \n",
    "* проверить нулевые гипотезы:\n",
    "    - средняя выручка пользователей тарифов «Ультра» и «Смарт» одинакова\n",
    "    - средняя выручка пользователей из Москвы аналогична выручке пользователей из других регионов\n",
    "* сделать вывод"
   ]
  },
  {
   "cell_type": "markdown",
   "metadata": {},
   "source": [
    "## Первый взгляд на данные"
   ]
  },
  {
   "cell_type": "markdown",
   "metadata": {},
   "source": [
    "Посмотрим на данные всех имеющихся у нас датасетов:"
   ]
  },
  {
   "cell_type": "code",
   "execution_count": 116,
   "metadata": {},
   "outputs": [],
   "source": [
    "import pandas as pd\n",
    "import numpy as np\n",
    "import matplotlib.pyplot as plt\n",
    "from scipy import stats as st"
   ]
  },
  {
   "cell_type": "code",
   "execution_count": 117,
   "metadata": {
    "scrolled": false
   },
   "outputs": [
    {
     "data": {
      "text/html": [
       "<div>\n",
       "<style scoped>\n",
       "    .dataframe tbody tr th:only-of-type {\n",
       "        vertical-align: middle;\n",
       "    }\n",
       "\n",
       "    .dataframe tbody tr th {\n",
       "        vertical-align: top;\n",
       "    }\n",
       "\n",
       "    .dataframe thead th {\n",
       "        text-align: right;\n",
       "    }\n",
       "</style>\n",
       "<table border=\"1\" class=\"dataframe\">\n",
       "  <thead>\n",
       "    <tr style=\"text-align: right;\">\n",
       "      <th></th>\n",
       "      <th>user_id</th>\n",
       "      <th>age</th>\n",
       "      <th>churn_date</th>\n",
       "      <th>city</th>\n",
       "      <th>first_name</th>\n",
       "      <th>last_name</th>\n",
       "      <th>reg_date</th>\n",
       "      <th>tariff</th>\n",
       "    </tr>\n",
       "  </thead>\n",
       "  <tbody>\n",
       "    <tr>\n",
       "      <th>0</th>\n",
       "      <td>1000</td>\n",
       "      <td>52</td>\n",
       "      <td>NaN</td>\n",
       "      <td>Краснодар</td>\n",
       "      <td>Рафаил</td>\n",
       "      <td>Верещагин</td>\n",
       "      <td>2018-05-25</td>\n",
       "      <td>ultra</td>\n",
       "    </tr>\n",
       "    <tr>\n",
       "      <th>1</th>\n",
       "      <td>1001</td>\n",
       "      <td>41</td>\n",
       "      <td>NaN</td>\n",
       "      <td>Москва</td>\n",
       "      <td>Иван</td>\n",
       "      <td>Ежов</td>\n",
       "      <td>2018-11-01</td>\n",
       "      <td>smart</td>\n",
       "    </tr>\n",
       "    <tr>\n",
       "      <th>2</th>\n",
       "      <td>1002</td>\n",
       "      <td>59</td>\n",
       "      <td>NaN</td>\n",
       "      <td>Стерлитамак</td>\n",
       "      <td>Евгений</td>\n",
       "      <td>Абрамович</td>\n",
       "      <td>2018-06-17</td>\n",
       "      <td>smart</td>\n",
       "    </tr>\n",
       "    <tr>\n",
       "      <th>3</th>\n",
       "      <td>1003</td>\n",
       "      <td>23</td>\n",
       "      <td>NaN</td>\n",
       "      <td>Москва</td>\n",
       "      <td>Белла</td>\n",
       "      <td>Белякова</td>\n",
       "      <td>2018-08-17</td>\n",
       "      <td>ultra</td>\n",
       "    </tr>\n",
       "    <tr>\n",
       "      <th>4</th>\n",
       "      <td>1004</td>\n",
       "      <td>68</td>\n",
       "      <td>NaN</td>\n",
       "      <td>Новокузнецк</td>\n",
       "      <td>Татьяна</td>\n",
       "      <td>Авдеенко</td>\n",
       "      <td>2018-05-14</td>\n",
       "      <td>ultra</td>\n",
       "    </tr>\n",
       "    <tr>\n",
       "      <th>...</th>\n",
       "      <td>...</td>\n",
       "      <td>...</td>\n",
       "      <td>...</td>\n",
       "      <td>...</td>\n",
       "      <td>...</td>\n",
       "      <td>...</td>\n",
       "      <td>...</td>\n",
       "      <td>...</td>\n",
       "    </tr>\n",
       "    <tr>\n",
       "      <th>495</th>\n",
       "      <td>1495</td>\n",
       "      <td>65</td>\n",
       "      <td>NaN</td>\n",
       "      <td>Иркутск</td>\n",
       "      <td>Авксентий</td>\n",
       "      <td>Фокин</td>\n",
       "      <td>2018-08-28</td>\n",
       "      <td>ultra</td>\n",
       "    </tr>\n",
       "    <tr>\n",
       "      <th>496</th>\n",
       "      <td>1496</td>\n",
       "      <td>36</td>\n",
       "      <td>NaN</td>\n",
       "      <td>Вологда</td>\n",
       "      <td>Трифон</td>\n",
       "      <td>Блохин</td>\n",
       "      <td>2018-01-27</td>\n",
       "      <td>smart</td>\n",
       "    </tr>\n",
       "    <tr>\n",
       "      <th>497</th>\n",
       "      <td>1497</td>\n",
       "      <td>32</td>\n",
       "      <td>NaN</td>\n",
       "      <td>Челябинск</td>\n",
       "      <td>Каролина</td>\n",
       "      <td>Агеева</td>\n",
       "      <td>2018-10-09</td>\n",
       "      <td>smart</td>\n",
       "    </tr>\n",
       "    <tr>\n",
       "      <th>498</th>\n",
       "      <td>1498</td>\n",
       "      <td>68</td>\n",
       "      <td>2018-10-25</td>\n",
       "      <td>Владикавказ</td>\n",
       "      <td>Всеволод</td>\n",
       "      <td>Акимчин</td>\n",
       "      <td>2018-07-19</td>\n",
       "      <td>smart</td>\n",
       "    </tr>\n",
       "    <tr>\n",
       "      <th>499</th>\n",
       "      <td>1499</td>\n",
       "      <td>35</td>\n",
       "      <td>NaN</td>\n",
       "      <td>Пермь</td>\n",
       "      <td>Гектор</td>\n",
       "      <td>Корнилов</td>\n",
       "      <td>2018-09-27</td>\n",
       "      <td>smart</td>\n",
       "    </tr>\n",
       "  </tbody>\n",
       "</table>\n",
       "<p>500 rows × 8 columns</p>\n",
       "</div>"
      ],
      "text/plain": [
       "     user_id  age  churn_date         city first_name  last_name    reg_date  \\\n",
       "0       1000   52         NaN    Краснодар     Рафаил  Верещагин  2018-05-25   \n",
       "1       1001   41         NaN       Москва       Иван       Ежов  2018-11-01   \n",
       "2       1002   59         NaN  Стерлитамак    Евгений  Абрамович  2018-06-17   \n",
       "3       1003   23         NaN       Москва      Белла   Белякова  2018-08-17   \n",
       "4       1004   68         NaN  Новокузнецк    Татьяна   Авдеенко  2018-05-14   \n",
       "..       ...  ...         ...          ...        ...        ...         ...   \n",
       "495     1495   65         NaN      Иркутск  Авксентий      Фокин  2018-08-28   \n",
       "496     1496   36         NaN      Вологда     Трифон     Блохин  2018-01-27   \n",
       "497     1497   32         NaN    Челябинск   Каролина     Агеева  2018-10-09   \n",
       "498     1498   68  2018-10-25  Владикавказ   Всеволод    Акимчин  2018-07-19   \n",
       "499     1499   35         NaN        Пермь     Гектор   Корнилов  2018-09-27   \n",
       "\n",
       "    tariff  \n",
       "0    ultra  \n",
       "1    smart  \n",
       "2    smart  \n",
       "3    ultra  \n",
       "4    ultra  \n",
       "..     ...  \n",
       "495  ultra  \n",
       "496  smart  \n",
       "497  smart  \n",
       "498  smart  \n",
       "499  smart  \n",
       "\n",
       "[500 rows x 8 columns]"
      ]
     },
     "metadata": {},
     "output_type": "display_data"
    },
    {
     "data": {
      "text/html": [
       "<div>\n",
       "<style scoped>\n",
       "    .dataframe tbody tr th:only-of-type {\n",
       "        vertical-align: middle;\n",
       "    }\n",
       "\n",
       "    .dataframe tbody tr th {\n",
       "        vertical-align: top;\n",
       "    }\n",
       "\n",
       "    .dataframe thead th {\n",
       "        text-align: right;\n",
       "    }\n",
       "</style>\n",
       "<table border=\"1\" class=\"dataframe\">\n",
       "  <thead>\n",
       "    <tr style=\"text-align: right;\">\n",
       "      <th></th>\n",
       "      <th>id</th>\n",
       "      <th>call_date</th>\n",
       "      <th>duration</th>\n",
       "      <th>user_id</th>\n",
       "    </tr>\n",
       "  </thead>\n",
       "  <tbody>\n",
       "    <tr>\n",
       "      <th>0</th>\n",
       "      <td>1000_0</td>\n",
       "      <td>2018-07-25</td>\n",
       "      <td>0.00</td>\n",
       "      <td>1000</td>\n",
       "    </tr>\n",
       "    <tr>\n",
       "      <th>1</th>\n",
       "      <td>1000_1</td>\n",
       "      <td>2018-08-17</td>\n",
       "      <td>0.00</td>\n",
       "      <td>1000</td>\n",
       "    </tr>\n",
       "    <tr>\n",
       "      <th>2</th>\n",
       "      <td>1000_2</td>\n",
       "      <td>2018-06-11</td>\n",
       "      <td>2.85</td>\n",
       "      <td>1000</td>\n",
       "    </tr>\n",
       "    <tr>\n",
       "      <th>3</th>\n",
       "      <td>1000_3</td>\n",
       "      <td>2018-09-21</td>\n",
       "      <td>13.80</td>\n",
       "      <td>1000</td>\n",
       "    </tr>\n",
       "    <tr>\n",
       "      <th>4</th>\n",
       "      <td>1000_4</td>\n",
       "      <td>2018-12-15</td>\n",
       "      <td>5.18</td>\n",
       "      <td>1000</td>\n",
       "    </tr>\n",
       "    <tr>\n",
       "      <th>...</th>\n",
       "      <td>...</td>\n",
       "      <td>...</td>\n",
       "      <td>...</td>\n",
       "      <td>...</td>\n",
       "    </tr>\n",
       "    <tr>\n",
       "      <th>202602</th>\n",
       "      <td>1499_215</td>\n",
       "      <td>2018-12-26</td>\n",
       "      <td>0.76</td>\n",
       "      <td>1499</td>\n",
       "    </tr>\n",
       "    <tr>\n",
       "      <th>202603</th>\n",
       "      <td>1499_216</td>\n",
       "      <td>2018-10-18</td>\n",
       "      <td>18.83</td>\n",
       "      <td>1499</td>\n",
       "    </tr>\n",
       "    <tr>\n",
       "      <th>202604</th>\n",
       "      <td>1499_217</td>\n",
       "      <td>2018-11-10</td>\n",
       "      <td>10.81</td>\n",
       "      <td>1499</td>\n",
       "    </tr>\n",
       "    <tr>\n",
       "      <th>202605</th>\n",
       "      <td>1499_218</td>\n",
       "      <td>2018-10-06</td>\n",
       "      <td>4.27</td>\n",
       "      <td>1499</td>\n",
       "    </tr>\n",
       "    <tr>\n",
       "      <th>202606</th>\n",
       "      <td>1499_219</td>\n",
       "      <td>2018-12-14</td>\n",
       "      <td>19.62</td>\n",
       "      <td>1499</td>\n",
       "    </tr>\n",
       "  </tbody>\n",
       "</table>\n",
       "<p>202607 rows × 4 columns</p>\n",
       "</div>"
      ],
      "text/plain": [
       "              id   call_date  duration  user_id\n",
       "0         1000_0  2018-07-25      0.00     1000\n",
       "1         1000_1  2018-08-17      0.00     1000\n",
       "2         1000_2  2018-06-11      2.85     1000\n",
       "3         1000_3  2018-09-21     13.80     1000\n",
       "4         1000_4  2018-12-15      5.18     1000\n",
       "...          ...         ...       ...      ...\n",
       "202602  1499_215  2018-12-26      0.76     1499\n",
       "202603  1499_216  2018-10-18     18.83     1499\n",
       "202604  1499_217  2018-11-10     10.81     1499\n",
       "202605  1499_218  2018-10-06      4.27     1499\n",
       "202606  1499_219  2018-12-14     19.62     1499\n",
       "\n",
       "[202607 rows x 4 columns]"
      ]
     },
     "metadata": {},
     "output_type": "display_data"
    },
    {
     "data": {
      "text/html": [
       "<div>\n",
       "<style scoped>\n",
       "    .dataframe tbody tr th:only-of-type {\n",
       "        vertical-align: middle;\n",
       "    }\n",
       "\n",
       "    .dataframe tbody tr th {\n",
       "        vertical-align: top;\n",
       "    }\n",
       "\n",
       "    .dataframe thead th {\n",
       "        text-align: right;\n",
       "    }\n",
       "</style>\n",
       "<table border=\"1\" class=\"dataframe\">\n",
       "  <thead>\n",
       "    <tr style=\"text-align: right;\">\n",
       "      <th></th>\n",
       "      <th>id</th>\n",
       "      <th>message_date</th>\n",
       "      <th>user_id</th>\n",
       "    </tr>\n",
       "  </thead>\n",
       "  <tbody>\n",
       "    <tr>\n",
       "      <th>0</th>\n",
       "      <td>1000_0</td>\n",
       "      <td>2018-06-27</td>\n",
       "      <td>1000</td>\n",
       "    </tr>\n",
       "    <tr>\n",
       "      <th>1</th>\n",
       "      <td>1000_1</td>\n",
       "      <td>2018-10-08</td>\n",
       "      <td>1000</td>\n",
       "    </tr>\n",
       "    <tr>\n",
       "      <th>2</th>\n",
       "      <td>1000_2</td>\n",
       "      <td>2018-08-04</td>\n",
       "      <td>1000</td>\n",
       "    </tr>\n",
       "    <tr>\n",
       "      <th>3</th>\n",
       "      <td>1000_3</td>\n",
       "      <td>2018-06-16</td>\n",
       "      <td>1000</td>\n",
       "    </tr>\n",
       "    <tr>\n",
       "      <th>4</th>\n",
       "      <td>1000_4</td>\n",
       "      <td>2018-12-05</td>\n",
       "      <td>1000</td>\n",
       "    </tr>\n",
       "    <tr>\n",
       "      <th>...</th>\n",
       "      <td>...</td>\n",
       "      <td>...</td>\n",
       "      <td>...</td>\n",
       "    </tr>\n",
       "    <tr>\n",
       "      <th>123031</th>\n",
       "      <td>1499_179</td>\n",
       "      <td>2018-12-12</td>\n",
       "      <td>1499</td>\n",
       "    </tr>\n",
       "    <tr>\n",
       "      <th>123032</th>\n",
       "      <td>1499_180</td>\n",
       "      <td>2018-09-28</td>\n",
       "      <td>1499</td>\n",
       "    </tr>\n",
       "    <tr>\n",
       "      <th>123033</th>\n",
       "      <td>1499_181</td>\n",
       "      <td>2018-09-27</td>\n",
       "      <td>1499</td>\n",
       "    </tr>\n",
       "    <tr>\n",
       "      <th>123034</th>\n",
       "      <td>1499_182</td>\n",
       "      <td>2018-11-15</td>\n",
       "      <td>1499</td>\n",
       "    </tr>\n",
       "    <tr>\n",
       "      <th>123035</th>\n",
       "      <td>1499_183</td>\n",
       "      <td>2018-11-16</td>\n",
       "      <td>1499</td>\n",
       "    </tr>\n",
       "  </tbody>\n",
       "</table>\n",
       "<p>123036 rows × 3 columns</p>\n",
       "</div>"
      ],
      "text/plain": [
       "              id message_date  user_id\n",
       "0         1000_0   2018-06-27     1000\n",
       "1         1000_1   2018-10-08     1000\n",
       "2         1000_2   2018-08-04     1000\n",
       "3         1000_3   2018-06-16     1000\n",
       "4         1000_4   2018-12-05     1000\n",
       "...          ...          ...      ...\n",
       "123031  1499_179   2018-12-12     1499\n",
       "123032  1499_180   2018-09-28     1499\n",
       "123033  1499_181   2018-09-27     1499\n",
       "123034  1499_182   2018-11-15     1499\n",
       "123035  1499_183   2018-11-16     1499\n",
       "\n",
       "[123036 rows x 3 columns]"
      ]
     },
     "metadata": {},
     "output_type": "display_data"
    },
    {
     "data": {
      "text/html": [
       "<div>\n",
       "<style scoped>\n",
       "    .dataframe tbody tr th:only-of-type {\n",
       "        vertical-align: middle;\n",
       "    }\n",
       "\n",
       "    .dataframe tbody tr th {\n",
       "        vertical-align: top;\n",
       "    }\n",
       "\n",
       "    .dataframe thead th {\n",
       "        text-align: right;\n",
       "    }\n",
       "</style>\n",
       "<table border=\"1\" class=\"dataframe\">\n",
       "  <thead>\n",
       "    <tr style=\"text-align: right;\">\n",
       "      <th></th>\n",
       "      <th>Unnamed: 0</th>\n",
       "      <th>id</th>\n",
       "      <th>mb_used</th>\n",
       "      <th>session_date</th>\n",
       "      <th>user_id</th>\n",
       "    </tr>\n",
       "  </thead>\n",
       "  <tbody>\n",
       "    <tr>\n",
       "      <th>0</th>\n",
       "      <td>0</td>\n",
       "      <td>1000_0</td>\n",
       "      <td>112.95</td>\n",
       "      <td>2018-11-25</td>\n",
       "      <td>1000</td>\n",
       "    </tr>\n",
       "    <tr>\n",
       "      <th>1</th>\n",
       "      <td>1</td>\n",
       "      <td>1000_1</td>\n",
       "      <td>1052.81</td>\n",
       "      <td>2018-09-07</td>\n",
       "      <td>1000</td>\n",
       "    </tr>\n",
       "    <tr>\n",
       "      <th>2</th>\n",
       "      <td>2</td>\n",
       "      <td>1000_2</td>\n",
       "      <td>1197.26</td>\n",
       "      <td>2018-06-25</td>\n",
       "      <td>1000</td>\n",
       "    </tr>\n",
       "    <tr>\n",
       "      <th>3</th>\n",
       "      <td>3</td>\n",
       "      <td>1000_3</td>\n",
       "      <td>550.27</td>\n",
       "      <td>2018-08-22</td>\n",
       "      <td>1000</td>\n",
       "    </tr>\n",
       "    <tr>\n",
       "      <th>4</th>\n",
       "      <td>4</td>\n",
       "      <td>1000_4</td>\n",
       "      <td>302.56</td>\n",
       "      <td>2018-09-24</td>\n",
       "      <td>1000</td>\n",
       "    </tr>\n",
       "    <tr>\n",
       "      <th>...</th>\n",
       "      <td>...</td>\n",
       "      <td>...</td>\n",
       "      <td>...</td>\n",
       "      <td>...</td>\n",
       "      <td>...</td>\n",
       "    </tr>\n",
       "    <tr>\n",
       "      <th>149391</th>\n",
       "      <td>149391</td>\n",
       "      <td>1499_152</td>\n",
       "      <td>318.90</td>\n",
       "      <td>2018-10-03</td>\n",
       "      <td>1499</td>\n",
       "    </tr>\n",
       "    <tr>\n",
       "      <th>149392</th>\n",
       "      <td>149392</td>\n",
       "      <td>1499_153</td>\n",
       "      <td>490.13</td>\n",
       "      <td>2018-12-14</td>\n",
       "      <td>1499</td>\n",
       "    </tr>\n",
       "    <tr>\n",
       "      <th>149393</th>\n",
       "      <td>149393</td>\n",
       "      <td>1499_154</td>\n",
       "      <td>0.00</td>\n",
       "      <td>2018-10-27</td>\n",
       "      <td>1499</td>\n",
       "    </tr>\n",
       "    <tr>\n",
       "      <th>149394</th>\n",
       "      <td>149394</td>\n",
       "      <td>1499_155</td>\n",
       "      <td>1246.32</td>\n",
       "      <td>2018-11-26</td>\n",
       "      <td>1499</td>\n",
       "    </tr>\n",
       "    <tr>\n",
       "      <th>149395</th>\n",
       "      <td>149395</td>\n",
       "      <td>1499_156</td>\n",
       "      <td>544.37</td>\n",
       "      <td>2018-10-26</td>\n",
       "      <td>1499</td>\n",
       "    </tr>\n",
       "  </tbody>\n",
       "</table>\n",
       "<p>149396 rows × 5 columns</p>\n",
       "</div>"
      ],
      "text/plain": [
       "        Unnamed: 0        id  mb_used session_date  user_id\n",
       "0                0    1000_0   112.95   2018-11-25     1000\n",
       "1                1    1000_1  1052.81   2018-09-07     1000\n",
       "2                2    1000_2  1197.26   2018-06-25     1000\n",
       "3                3    1000_3   550.27   2018-08-22     1000\n",
       "4                4    1000_4   302.56   2018-09-24     1000\n",
       "...            ...       ...      ...          ...      ...\n",
       "149391      149391  1499_152   318.90   2018-10-03     1499\n",
       "149392      149392  1499_153   490.13   2018-12-14     1499\n",
       "149393      149393  1499_154     0.00   2018-10-27     1499\n",
       "149394      149394  1499_155  1246.32   2018-11-26     1499\n",
       "149395      149395  1499_156   544.37   2018-10-26     1499\n",
       "\n",
       "[149396 rows x 5 columns]"
      ]
     },
     "metadata": {},
     "output_type": "display_data"
    },
    {
     "data": {
      "text/html": [
       "<div>\n",
       "<style scoped>\n",
       "    .dataframe tbody tr th:only-of-type {\n",
       "        vertical-align: middle;\n",
       "    }\n",
       "\n",
       "    .dataframe tbody tr th {\n",
       "        vertical-align: top;\n",
       "    }\n",
       "\n",
       "    .dataframe thead th {\n",
       "        text-align: right;\n",
       "    }\n",
       "</style>\n",
       "<table border=\"1\" class=\"dataframe\">\n",
       "  <thead>\n",
       "    <tr style=\"text-align: right;\">\n",
       "      <th></th>\n",
       "      <th>messages_included</th>\n",
       "      <th>mb_per_month_included</th>\n",
       "      <th>minutes_included</th>\n",
       "      <th>rub_monthly_fee</th>\n",
       "      <th>rub_per_gb</th>\n",
       "      <th>rub_per_message</th>\n",
       "      <th>rub_per_minute</th>\n",
       "      <th>tariff_name</th>\n",
       "    </tr>\n",
       "  </thead>\n",
       "  <tbody>\n",
       "    <tr>\n",
       "      <th>0</th>\n",
       "      <td>50</td>\n",
       "      <td>15360</td>\n",
       "      <td>500</td>\n",
       "      <td>550</td>\n",
       "      <td>200</td>\n",
       "      <td>3</td>\n",
       "      <td>3</td>\n",
       "      <td>smart</td>\n",
       "    </tr>\n",
       "    <tr>\n",
       "      <th>1</th>\n",
       "      <td>1000</td>\n",
       "      <td>30720</td>\n",
       "      <td>3000</td>\n",
       "      <td>1950</td>\n",
       "      <td>150</td>\n",
       "      <td>1</td>\n",
       "      <td>1</td>\n",
       "      <td>ultra</td>\n",
       "    </tr>\n",
       "  </tbody>\n",
       "</table>\n",
       "</div>"
      ],
      "text/plain": [
       "   messages_included  mb_per_month_included  minutes_included  \\\n",
       "0                 50                  15360               500   \n",
       "1               1000                  30720              3000   \n",
       "\n",
       "   rub_monthly_fee  rub_per_gb  rub_per_message  rub_per_minute tariff_name  \n",
       "0              550         200                3               3       smart  \n",
       "1             1950         150                1               1       ultra  "
      ]
     },
     "metadata": {},
     "output_type": "display_data"
    },
    {
     "name": "stdout",
     "output_type": "stream",
     "text": [
      "<class 'pandas.core.frame.DataFrame'>\n",
      "RangeIndex: 500 entries, 0 to 499\n",
      "Data columns (total 8 columns):\n",
      " #   Column      Non-Null Count  Dtype \n",
      "---  ------      --------------  ----- \n",
      " 0   user_id     500 non-null    int64 \n",
      " 1   age         500 non-null    int64 \n",
      " 2   churn_date  38 non-null     object\n",
      " 3   city        500 non-null    object\n",
      " 4   first_name  500 non-null    object\n",
      " 5   last_name   500 non-null    object\n",
      " 6   reg_date    500 non-null    object\n",
      " 7   tariff      500 non-null    object\n",
      "dtypes: int64(2), object(6)\n",
      "memory usage: 31.4+ KB\n",
      "<class 'pandas.core.frame.DataFrame'>\n",
      "RangeIndex: 202607 entries, 0 to 202606\n",
      "Data columns (total 4 columns):\n",
      " #   Column     Non-Null Count   Dtype  \n",
      "---  ------     --------------   -----  \n",
      " 0   id         202607 non-null  object \n",
      " 1   call_date  202607 non-null  object \n",
      " 2   duration   202607 non-null  float64\n",
      " 3   user_id    202607 non-null  int64  \n",
      "dtypes: float64(1), int64(1), object(2)\n",
      "memory usage: 6.2+ MB\n",
      "<class 'pandas.core.frame.DataFrame'>\n",
      "RangeIndex: 123036 entries, 0 to 123035\n",
      "Data columns (total 3 columns):\n",
      " #   Column        Non-Null Count   Dtype \n",
      "---  ------        --------------   ----- \n",
      " 0   id            123036 non-null  object\n",
      " 1   message_date  123036 non-null  object\n",
      " 2   user_id       123036 non-null  int64 \n",
      "dtypes: int64(1), object(2)\n",
      "memory usage: 2.8+ MB\n",
      "<class 'pandas.core.frame.DataFrame'>\n",
      "RangeIndex: 149396 entries, 0 to 149395\n",
      "Data columns (total 5 columns):\n",
      " #   Column        Non-Null Count   Dtype  \n",
      "---  ------        --------------   -----  \n",
      " 0   Unnamed: 0    149396 non-null  int64  \n",
      " 1   id            149396 non-null  object \n",
      " 2   mb_used       149396 non-null  float64\n",
      " 3   session_date  149396 non-null  object \n",
      " 4   user_id       149396 non-null  int64  \n",
      "dtypes: float64(1), int64(2), object(2)\n",
      "memory usage: 5.7+ MB\n",
      "<class 'pandas.core.frame.DataFrame'>\n",
      "RangeIndex: 2 entries, 0 to 1\n",
      "Data columns (total 8 columns):\n",
      " #   Column                 Non-Null Count  Dtype \n",
      "---  ------                 --------------  ----- \n",
      " 0   messages_included      2 non-null      int64 \n",
      " 1   mb_per_month_included  2 non-null      int64 \n",
      " 2   minutes_included       2 non-null      int64 \n",
      " 3   rub_monthly_fee        2 non-null      int64 \n",
      " 4   rub_per_gb             2 non-null      int64 \n",
      " 5   rub_per_message        2 non-null      int64 \n",
      " 6   rub_per_minute         2 non-null      int64 \n",
      " 7   tariff_name            2 non-null      object\n",
      "dtypes: int64(7), object(1)\n",
      "memory usage: 256.0+ bytes\n"
     ]
    },
    {
     "data": {
      "text/plain": [
       "None"
      ]
     },
     "metadata": {},
     "output_type": "display_data"
    },
    {
     "data": {
      "text/plain": [
       "None"
      ]
     },
     "metadata": {},
     "output_type": "display_data"
    },
    {
     "data": {
      "text/plain": [
       "None"
      ]
     },
     "metadata": {},
     "output_type": "display_data"
    },
    {
     "data": {
      "text/plain": [
       "None"
      ]
     },
     "metadata": {},
     "output_type": "display_data"
    },
    {
     "data": {
      "text/plain": [
       "None"
      ]
     },
     "metadata": {},
     "output_type": "display_data"
    }
   ],
   "source": [
    "users = pd.read_csv('/datasets/users.csv')\n",
    "calls = pd.read_csv('/datasets/calls.csv')\n",
    "messages = pd.read_csv('/datasets/messages.csv')\n",
    "internet = pd.read_csv('/datasets/internet.csv')\n",
    "tariffs = pd.read_csv('/datasets/tariffs.csv')\n",
    "\n",
    "display(users, calls, messages, internet, tariffs)\n",
    "display(users.info(), calls.info(), messages.info(), internet.info(), tariffs.info())"
   ]
  },
  {
   "cell_type": "markdown",
   "metadata": {},
   "source": [
    "В целом, после первого взгляда на данные можно сказать, что они выглядят хорошо структурированными и достаточно полными - нет ни текста с разным регистром, ни обилия пропусков в разных столбцах. Однако, кое-что все же требуется поправить."
   ]
  },
  {
   "cell_type": "markdown",
   "metadata": {},
   "source": [
    "## Обработка данных"
   ]
  },
  {
   "cell_type": "markdown",
   "metadata": {},
   "source": [
    "Сменим даты на формат datetime, а также округлим в большую сторону израсходованные минуты и мегабайты интернета - поскольку Мегалайн всегда округляет секунды до минут, а мегабайты — до гигабайт:"
   ]
  },
  {
   "cell_type": "code",
   "execution_count": 118,
   "metadata": {},
   "outputs": [
    {
     "data": {
      "text/html": [
       "<div>\n",
       "<style scoped>\n",
       "    .dataframe tbody tr th:only-of-type {\n",
       "        vertical-align: middle;\n",
       "    }\n",
       "\n",
       "    .dataframe tbody tr th {\n",
       "        vertical-align: top;\n",
       "    }\n",
       "\n",
       "    .dataframe thead th {\n",
       "        text-align: right;\n",
       "    }\n",
       "</style>\n",
       "<table border=\"1\" class=\"dataframe\">\n",
       "  <thead>\n",
       "    <tr style=\"text-align: right;\">\n",
       "      <th></th>\n",
       "      <th>id</th>\n",
       "      <th>call_date</th>\n",
       "      <th>duration</th>\n",
       "      <th>user_id</th>\n",
       "    </tr>\n",
       "  </thead>\n",
       "  <tbody>\n",
       "    <tr>\n",
       "      <th>0</th>\n",
       "      <td>1000_0</td>\n",
       "      <td>2018-05-25</td>\n",
       "      <td>0</td>\n",
       "      <td>1000</td>\n",
       "    </tr>\n",
       "    <tr>\n",
       "      <th>1</th>\n",
       "      <td>1000_1</td>\n",
       "      <td>2018-11-01</td>\n",
       "      <td>0</td>\n",
       "      <td>1000</td>\n",
       "    </tr>\n",
       "    <tr>\n",
       "      <th>2</th>\n",
       "      <td>1000_2</td>\n",
       "      <td>2018-06-17</td>\n",
       "      <td>3</td>\n",
       "      <td>1000</td>\n",
       "    </tr>\n",
       "    <tr>\n",
       "      <th>3</th>\n",
       "      <td>1000_3</td>\n",
       "      <td>2018-08-17</td>\n",
       "      <td>14</td>\n",
       "      <td>1000</td>\n",
       "    </tr>\n",
       "    <tr>\n",
       "      <th>4</th>\n",
       "      <td>1000_4</td>\n",
       "      <td>2018-05-14</td>\n",
       "      <td>6</td>\n",
       "      <td>1000</td>\n",
       "    </tr>\n",
       "    <tr>\n",
       "      <th>...</th>\n",
       "      <td>...</td>\n",
       "      <td>...</td>\n",
       "      <td>...</td>\n",
       "      <td>...</td>\n",
       "    </tr>\n",
       "    <tr>\n",
       "      <th>202602</th>\n",
       "      <td>1499_215</td>\n",
       "      <td>NaT</td>\n",
       "      <td>1</td>\n",
       "      <td>1499</td>\n",
       "    </tr>\n",
       "    <tr>\n",
       "      <th>202603</th>\n",
       "      <td>1499_216</td>\n",
       "      <td>NaT</td>\n",
       "      <td>19</td>\n",
       "      <td>1499</td>\n",
       "    </tr>\n",
       "    <tr>\n",
       "      <th>202604</th>\n",
       "      <td>1499_217</td>\n",
       "      <td>NaT</td>\n",
       "      <td>11</td>\n",
       "      <td>1499</td>\n",
       "    </tr>\n",
       "    <tr>\n",
       "      <th>202605</th>\n",
       "      <td>1499_218</td>\n",
       "      <td>NaT</td>\n",
       "      <td>5</td>\n",
       "      <td>1499</td>\n",
       "    </tr>\n",
       "    <tr>\n",
       "      <th>202606</th>\n",
       "      <td>1499_219</td>\n",
       "      <td>NaT</td>\n",
       "      <td>20</td>\n",
       "      <td>1499</td>\n",
       "    </tr>\n",
       "  </tbody>\n",
       "</table>\n",
       "<p>202607 rows × 4 columns</p>\n",
       "</div>"
      ],
      "text/plain": [
       "              id  call_date  duration  user_id\n",
       "0         1000_0 2018-05-25         0     1000\n",
       "1         1000_1 2018-11-01         0     1000\n",
       "2         1000_2 2018-06-17         3     1000\n",
       "3         1000_3 2018-08-17        14     1000\n",
       "4         1000_4 2018-05-14         6     1000\n",
       "...          ...        ...       ...      ...\n",
       "202602  1499_215        NaT         1     1499\n",
       "202603  1499_216        NaT        19     1499\n",
       "202604  1499_217        NaT        11     1499\n",
       "202605  1499_218        NaT         5     1499\n",
       "202606  1499_219        NaT        20     1499\n",
       "\n",
       "[202607 rows x 4 columns]"
      ]
     },
     "metadata": {},
     "output_type": "display_data"
    },
    {
     "data": {
      "text/html": [
       "<div>\n",
       "<style scoped>\n",
       "    .dataframe tbody tr th:only-of-type {\n",
       "        vertical-align: middle;\n",
       "    }\n",
       "\n",
       "    .dataframe tbody tr th {\n",
       "        vertical-align: top;\n",
       "    }\n",
       "\n",
       "    .dataframe thead th {\n",
       "        text-align: right;\n",
       "    }\n",
       "</style>\n",
       "<table border=\"1\" class=\"dataframe\">\n",
       "  <thead>\n",
       "    <tr style=\"text-align: right;\">\n",
       "      <th></th>\n",
       "      <th>Unnamed: 0</th>\n",
       "      <th>id</th>\n",
       "      <th>mb_used</th>\n",
       "      <th>session_date</th>\n",
       "      <th>user_id</th>\n",
       "      <th>gb_used</th>\n",
       "    </tr>\n",
       "  </thead>\n",
       "  <tbody>\n",
       "    <tr>\n",
       "      <th>0</th>\n",
       "      <td>0</td>\n",
       "      <td>1000_0</td>\n",
       "      <td>112.95</td>\n",
       "      <td>2018-05-25</td>\n",
       "      <td>1000</td>\n",
       "      <td>1</td>\n",
       "    </tr>\n",
       "    <tr>\n",
       "      <th>1</th>\n",
       "      <td>1</td>\n",
       "      <td>1000_1</td>\n",
       "      <td>1052.81</td>\n",
       "      <td>2018-11-01</td>\n",
       "      <td>1000</td>\n",
       "      <td>2</td>\n",
       "    </tr>\n",
       "    <tr>\n",
       "      <th>2</th>\n",
       "      <td>2</td>\n",
       "      <td>1000_2</td>\n",
       "      <td>1197.26</td>\n",
       "      <td>2018-06-17</td>\n",
       "      <td>1000</td>\n",
       "      <td>2</td>\n",
       "    </tr>\n",
       "    <tr>\n",
       "      <th>3</th>\n",
       "      <td>3</td>\n",
       "      <td>1000_3</td>\n",
       "      <td>550.27</td>\n",
       "      <td>2018-08-17</td>\n",
       "      <td>1000</td>\n",
       "      <td>1</td>\n",
       "    </tr>\n",
       "    <tr>\n",
       "      <th>4</th>\n",
       "      <td>4</td>\n",
       "      <td>1000_4</td>\n",
       "      <td>302.56</td>\n",
       "      <td>2018-05-14</td>\n",
       "      <td>1000</td>\n",
       "      <td>1</td>\n",
       "    </tr>\n",
       "    <tr>\n",
       "      <th>...</th>\n",
       "      <td>...</td>\n",
       "      <td>...</td>\n",
       "      <td>...</td>\n",
       "      <td>...</td>\n",
       "      <td>...</td>\n",
       "      <td>...</td>\n",
       "    </tr>\n",
       "    <tr>\n",
       "      <th>149391</th>\n",
       "      <td>149391</td>\n",
       "      <td>1499_152</td>\n",
       "      <td>318.90</td>\n",
       "      <td>NaT</td>\n",
       "      <td>1499</td>\n",
       "      <td>1</td>\n",
       "    </tr>\n",
       "    <tr>\n",
       "      <th>149392</th>\n",
       "      <td>149392</td>\n",
       "      <td>1499_153</td>\n",
       "      <td>490.13</td>\n",
       "      <td>NaT</td>\n",
       "      <td>1499</td>\n",
       "      <td>1</td>\n",
       "    </tr>\n",
       "    <tr>\n",
       "      <th>149393</th>\n",
       "      <td>149393</td>\n",
       "      <td>1499_154</td>\n",
       "      <td>0.00</td>\n",
       "      <td>NaT</td>\n",
       "      <td>1499</td>\n",
       "      <td>0</td>\n",
       "    </tr>\n",
       "    <tr>\n",
       "      <th>149394</th>\n",
       "      <td>149394</td>\n",
       "      <td>1499_155</td>\n",
       "      <td>1246.32</td>\n",
       "      <td>NaT</td>\n",
       "      <td>1499</td>\n",
       "      <td>2</td>\n",
       "    </tr>\n",
       "    <tr>\n",
       "      <th>149395</th>\n",
       "      <td>149395</td>\n",
       "      <td>1499_156</td>\n",
       "      <td>544.37</td>\n",
       "      <td>NaT</td>\n",
       "      <td>1499</td>\n",
       "      <td>1</td>\n",
       "    </tr>\n",
       "  </tbody>\n",
       "</table>\n",
       "<p>149396 rows × 6 columns</p>\n",
       "</div>"
      ],
      "text/plain": [
       "        Unnamed: 0        id  mb_used session_date  user_id  gb_used\n",
       "0                0    1000_0   112.95   2018-05-25     1000        1\n",
       "1                1    1000_1  1052.81   2018-11-01     1000        2\n",
       "2                2    1000_2  1197.26   2018-06-17     1000        2\n",
       "3                3    1000_3   550.27   2018-08-17     1000        1\n",
       "4                4    1000_4   302.56   2018-05-14     1000        1\n",
       "...            ...       ...      ...          ...      ...      ...\n",
       "149391      149391  1499_152   318.90          NaT     1499        1\n",
       "149392      149392  1499_153   490.13          NaT     1499        1\n",
       "149393      149393  1499_154     0.00          NaT     1499        0\n",
       "149394      149394  1499_155  1246.32          NaT     1499        2\n",
       "149395      149395  1499_156   544.37          NaT     1499        1\n",
       "\n",
       "[149396 rows x 6 columns]"
      ]
     },
     "metadata": {},
     "output_type": "display_data"
    },
    {
     "name": "stdout",
     "output_type": "stream",
     "text": [
      "<class 'pandas.core.frame.DataFrame'>\n",
      "RangeIndex: 149396 entries, 0 to 149395\n",
      "Data columns (total 6 columns):\n",
      " #   Column        Non-Null Count   Dtype         \n",
      "---  ------        --------------   -----         \n",
      " 0   Unnamed: 0    149396 non-null  int64         \n",
      " 1   id            149396 non-null  object        \n",
      " 2   mb_used       149396 non-null  float64       \n",
      " 3   session_date  500 non-null     datetime64[ns]\n",
      " 4   user_id       149396 non-null  int64         \n",
      " 5   gb_used       149396 non-null  int64         \n",
      "dtypes: datetime64[ns](1), float64(1), int64(3), object(1)\n",
      "memory usage: 6.8+ MB\n"
     ]
    }
   ],
   "source": [
    "users['reg_date'] = pd.to_datetime(users['reg_date'], format='%Y-%m-%d')\n",
    "users['churn_date'] = pd.to_datetime(users['churn_date'], format='%Y-%m-%d')\n",
    "calls['call_date'] = pd.to_datetime(users['reg_date'], format='%Y-%m-%d')\n",
    "messages['message_date'] = pd.to_datetime(users['reg_date'], format='%Y-%m-%d')\n",
    "internet['session_date'] = pd.to_datetime(users['reg_date'], format='%Y-%m-%d')\n",
    "calls['duration'] = np.ceil(calls['duration'].copy()).astype('int')\n",
    "\n",
    "def gb_used (value):\n",
    "    if value == 0:\n",
    "        return 0\n",
    "    elif value <= 1024:\n",
    "        return 1\n",
    "    return 2\n",
    "\n",
    "internet['gb_used'] = internet['mb_used'].copy().apply(gb_used)\n",
    "display(calls, internet)\n",
    "internet.info()"
   ]
  },
  {
   "cell_type": "markdown",
   "metadata": {},
   "source": [
    "Итак, посмотрев на представленные датафреймы и информацию о них, можно увидеть значительное количество пропусков в столбце churn_date датафрейма users - а значит, на момент выгрузки данных подавляющее большинство пользователей не совершали смены тарифа. Можно предположить, что люди, не сменившие тариф были им довольны, а сменивших, напротив, тариф не устраивал, и процент таких клиентов составляет 7,6% от общего числа в выборке, что позволяет заключить, что, в целом, пользователей устраивают их тарифы. Посмотрим, какой тариф пользуется большей популярностью:"
   ]
  },
  {
   "cell_type": "code",
   "execution_count": 119,
   "metadata": {},
   "outputs": [
    {
     "data": {
      "text/plain": [
       "smart    351\n",
       "ultra    149\n",
       "Name: tariff, dtype: int64"
      ]
     },
     "execution_count": 119,
     "metadata": {},
     "output_type": "execute_result"
    }
   ],
   "source": [
    "users['tariff'].value_counts()"
   ]
  },
  {
   "cell_type": "markdown",
   "metadata": {},
   "source": [
    "Около 70% пользователей предпочитают Смарт!"
   ]
  },
  {
   "cell_type": "markdown",
   "metadata": {},
   "source": [
    "## Группировка данных за месяц"
   ]
  },
  {
   "cell_type": "code",
   "execution_count": 120,
   "metadata": {},
   "outputs": [
    {
     "data": {
      "text/html": [
       "<div>\n",
       "<style scoped>\n",
       "    .dataframe tbody tr th:only-of-type {\n",
       "        vertical-align: middle;\n",
       "    }\n",
       "\n",
       "    .dataframe tbody tr th {\n",
       "        vertical-align: top;\n",
       "    }\n",
       "\n",
       "    .dataframe thead th {\n",
       "        text-align: right;\n",
       "    }\n",
       "</style>\n",
       "<table border=\"1\" class=\"dataframe\">\n",
       "  <thead>\n",
       "    <tr style=\"text-align: right;\">\n",
       "      <th></th>\n",
       "      <th>user_id</th>\n",
       "      <th>city</th>\n",
       "    </tr>\n",
       "  </thead>\n",
       "  <tbody>\n",
       "    <tr>\n",
       "      <th>0</th>\n",
       "      <td>1000</td>\n",
       "      <td>Краснодар</td>\n",
       "    </tr>\n",
       "    <tr>\n",
       "      <th>1</th>\n",
       "      <td>1001</td>\n",
       "      <td>Москва</td>\n",
       "    </tr>\n",
       "    <tr>\n",
       "      <th>2</th>\n",
       "      <td>1002</td>\n",
       "      <td>Стерлитамак</td>\n",
       "    </tr>\n",
       "    <tr>\n",
       "      <th>3</th>\n",
       "      <td>1003</td>\n",
       "      <td>Москва</td>\n",
       "    </tr>\n",
       "    <tr>\n",
       "      <th>4</th>\n",
       "      <td>1004</td>\n",
       "      <td>Новокузнецк</td>\n",
       "    </tr>\n",
       "    <tr>\n",
       "      <th>...</th>\n",
       "      <td>...</td>\n",
       "      <td>...</td>\n",
       "    </tr>\n",
       "    <tr>\n",
       "      <th>495</th>\n",
       "      <td>1495</td>\n",
       "      <td>Иркутск</td>\n",
       "    </tr>\n",
       "    <tr>\n",
       "      <th>496</th>\n",
       "      <td>1496</td>\n",
       "      <td>Вологда</td>\n",
       "    </tr>\n",
       "    <tr>\n",
       "      <th>497</th>\n",
       "      <td>1497</td>\n",
       "      <td>Челябинск</td>\n",
       "    </tr>\n",
       "    <tr>\n",
       "      <th>498</th>\n",
       "      <td>1498</td>\n",
       "      <td>Владикавказ</td>\n",
       "    </tr>\n",
       "    <tr>\n",
       "      <th>499</th>\n",
       "      <td>1499</td>\n",
       "      <td>Пермь</td>\n",
       "    </tr>\n",
       "  </tbody>\n",
       "</table>\n",
       "<p>500 rows × 2 columns</p>\n",
       "</div>"
      ],
      "text/plain": [
       "     user_id         city\n",
       "0       1000    Краснодар\n",
       "1       1001       Москва\n",
       "2       1002  Стерлитамак\n",
       "3       1003       Москва\n",
       "4       1004  Новокузнецк\n",
       "..       ...          ...\n",
       "495     1495      Иркутск\n",
       "496     1496      Вологда\n",
       "497     1497    Челябинск\n",
       "498     1498  Владикавказ\n",
       "499     1499        Пермь\n",
       "\n",
       "[500 rows x 2 columns]"
      ]
     },
     "execution_count": 120,
     "metadata": {},
     "output_type": "execute_result"
    }
   ],
   "source": [
    "users_city = users[['user_id', 'city']]\n",
    "users_city"
   ]
  },
  {
   "cell_type": "code",
   "execution_count": 121,
   "metadata": {},
   "outputs": [
    {
     "data": {
      "text/html": [
       "<div>\n",
       "<style scoped>\n",
       "    .dataframe tbody tr th:only-of-type {\n",
       "        vertical-align: middle;\n",
       "    }\n",
       "\n",
       "    .dataframe tbody tr th {\n",
       "        vertical-align: top;\n",
       "    }\n",
       "\n",
       "    .dataframe thead th {\n",
       "        text-align: right;\n",
       "    }\n",
       "</style>\n",
       "<table border=\"1\" class=\"dataframe\">\n",
       "  <thead>\n",
       "    <tr style=\"text-align: right;\">\n",
       "      <th></th>\n",
       "      <th>user_id</th>\n",
       "      <th>tariff</th>\n",
       "    </tr>\n",
       "  </thead>\n",
       "  <tbody>\n",
       "    <tr>\n",
       "      <th>0</th>\n",
       "      <td>1000</td>\n",
       "      <td>ultra</td>\n",
       "    </tr>\n",
       "    <tr>\n",
       "      <th>1</th>\n",
       "      <td>1001</td>\n",
       "      <td>smart</td>\n",
       "    </tr>\n",
       "    <tr>\n",
       "      <th>2</th>\n",
       "      <td>1002</td>\n",
       "      <td>smart</td>\n",
       "    </tr>\n",
       "    <tr>\n",
       "      <th>3</th>\n",
       "      <td>1003</td>\n",
       "      <td>ultra</td>\n",
       "    </tr>\n",
       "    <tr>\n",
       "      <th>4</th>\n",
       "      <td>1004</td>\n",
       "      <td>ultra</td>\n",
       "    </tr>\n",
       "    <tr>\n",
       "      <th>...</th>\n",
       "      <td>...</td>\n",
       "      <td>...</td>\n",
       "    </tr>\n",
       "    <tr>\n",
       "      <th>495</th>\n",
       "      <td>1495</td>\n",
       "      <td>ultra</td>\n",
       "    </tr>\n",
       "    <tr>\n",
       "      <th>496</th>\n",
       "      <td>1496</td>\n",
       "      <td>smart</td>\n",
       "    </tr>\n",
       "    <tr>\n",
       "      <th>497</th>\n",
       "      <td>1497</td>\n",
       "      <td>smart</td>\n",
       "    </tr>\n",
       "    <tr>\n",
       "      <th>498</th>\n",
       "      <td>1498</td>\n",
       "      <td>smart</td>\n",
       "    </tr>\n",
       "    <tr>\n",
       "      <th>499</th>\n",
       "      <td>1499</td>\n",
       "      <td>smart</td>\n",
       "    </tr>\n",
       "  </tbody>\n",
       "</table>\n",
       "<p>500 rows × 2 columns</p>\n",
       "</div>"
      ],
      "text/plain": [
       "     user_id tariff\n",
       "0       1000  ultra\n",
       "1       1001  smart\n",
       "2       1002  smart\n",
       "3       1003  ultra\n",
       "4       1004  ultra\n",
       "..       ...    ...\n",
       "495     1495  ultra\n",
       "496     1496  smart\n",
       "497     1497  smart\n",
       "498     1498  smart\n",
       "499     1499  smart\n",
       "\n",
       "[500 rows x 2 columns]"
      ]
     },
     "execution_count": 121,
     "metadata": {},
     "output_type": "execute_result"
    }
   ],
   "source": [
    "users_tariffs = users[['user_id', 'tariff']]\n",
    "users_tariffs"
   ]
  },
  {
   "cell_type": "markdown",
   "metadata": {},
   "source": [
    "Поскольку, в условии сказанно, что нам предоставленны данные о выборке пользователей за год, то скомпануем все интересующие нас значения в одну таблицу, а затем найдем средние месячные значения для каждого пользователя - на мой взгляд, этот способ должен более адекватно отражать усредненные значения по расходу траффика пользователей, нежели сревнение показателей случайно взятого отдельного месяца."
   ]
  },
  {
   "cell_type": "code",
   "execution_count": 122,
   "metadata": {},
   "outputs": [
    {
     "data": {
      "text/html": [
       "<div>\n",
       "<style scoped>\n",
       "    .dataframe tbody tr th:only-of-type {\n",
       "        vertical-align: middle;\n",
       "    }\n",
       "\n",
       "    .dataframe tbody tr th {\n",
       "        vertical-align: top;\n",
       "    }\n",
       "\n",
       "    .dataframe thead th {\n",
       "        text-align: right;\n",
       "    }\n",
       "</style>\n",
       "<table border=\"1\" class=\"dataframe\">\n",
       "  <thead>\n",
       "    <tr style=\"text-align: right;\">\n",
       "      <th></th>\n",
       "      <th>gb_used</th>\n",
       "    </tr>\n",
       "    <tr>\n",
       "      <th>user_id</th>\n",
       "      <th></th>\n",
       "    </tr>\n",
       "  </thead>\n",
       "  <tbody>\n",
       "    <tr>\n",
       "      <th>1000</th>\n",
       "      <td>208</td>\n",
       "    </tr>\n",
       "    <tr>\n",
       "      <th>1001</th>\n",
       "      <td>82</td>\n",
       "    </tr>\n",
       "    <tr>\n",
       "      <th>1002</th>\n",
       "      <td>299</td>\n",
       "    </tr>\n",
       "    <tr>\n",
       "      <th>1003</th>\n",
       "      <td>106</td>\n",
       "    </tr>\n",
       "    <tr>\n",
       "      <th>1004</th>\n",
       "      <td>291</td>\n",
       "    </tr>\n",
       "    <tr>\n",
       "      <th>...</th>\n",
       "      <td>...</td>\n",
       "    </tr>\n",
       "    <tr>\n",
       "      <th>1495</th>\n",
       "      <td>252</td>\n",
       "    </tr>\n",
       "    <tr>\n",
       "      <th>1496</th>\n",
       "      <td>696</td>\n",
       "    </tr>\n",
       "    <tr>\n",
       "      <th>1497</th>\n",
       "      <td>106</td>\n",
       "    </tr>\n",
       "    <tr>\n",
       "      <th>1498</th>\n",
       "      <td>192</td>\n",
       "    </tr>\n",
       "    <tr>\n",
       "      <th>1499</th>\n",
       "      <td>130</td>\n",
       "    </tr>\n",
       "  </tbody>\n",
       "</table>\n",
       "<p>497 rows × 1 columns</p>\n",
       "</div>"
      ],
      "text/plain": [
       "         gb_used\n",
       "user_id         \n",
       "1000         208\n",
       "1001          82\n",
       "1002         299\n",
       "1003         106\n",
       "1004         291\n",
       "...          ...\n",
       "1495         252\n",
       "1496         696\n",
       "1497         106\n",
       "1498         192\n",
       "1499         130\n",
       "\n",
       "[497 rows x 1 columns]"
      ]
     },
     "metadata": {},
     "output_type": "display_data"
    },
    {
     "data": {
      "text/plain": [
       "265.8792756539235"
      ]
     },
     "execution_count": 122,
     "metadata": {},
     "output_type": "execute_result"
    }
   ],
   "source": [
    "internet_year = pd.pivot_table(internet, index = 'user_id', values = 'gb_used', aggfunc = 'sum')\n",
    "display(internet_year)\n",
    "internet_year['gb_used'].mean()"
   ]
  },
  {
   "cell_type": "code",
   "execution_count": 123,
   "metadata": {},
   "outputs": [
    {
     "data": {
      "text/html": [
       "<div>\n",
       "<style scoped>\n",
       "    .dataframe tbody tr th:only-of-type {\n",
       "        vertical-align: middle;\n",
       "    }\n",
       "\n",
       "    .dataframe tbody tr th {\n",
       "        vertical-align: top;\n",
       "    }\n",
       "\n",
       "    .dataframe thead th {\n",
       "        text-align: right;\n",
       "    }\n",
       "</style>\n",
       "<table border=\"1\" class=\"dataframe\">\n",
       "  <thead>\n",
       "    <tr style=\"text-align: right;\">\n",
       "      <th></th>\n",
       "      <th>duration</th>\n",
       "    </tr>\n",
       "    <tr>\n",
       "      <th>user_id</th>\n",
       "      <th></th>\n",
       "    </tr>\n",
       "  </thead>\n",
       "  <tbody>\n",
       "    <tr>\n",
       "      <th>1000</th>\n",
       "      <td>2566</td>\n",
       "    </tr>\n",
       "    <tr>\n",
       "      <th>1001</th>\n",
       "      <td>844</td>\n",
       "    </tr>\n",
       "    <tr>\n",
       "      <th>1002</th>\n",
       "      <td>1517</td>\n",
       "    </tr>\n",
       "    <tr>\n",
       "      <th>1003</th>\n",
       "      <td>3822</td>\n",
       "    </tr>\n",
       "    <tr>\n",
       "      <th>1004</th>\n",
       "      <td>987</td>\n",
       "    </tr>\n",
       "    <tr>\n",
       "      <th>...</th>\n",
       "      <td>...</td>\n",
       "    </tr>\n",
       "    <tr>\n",
       "      <th>1495</th>\n",
       "      <td>3920</td>\n",
       "    </tr>\n",
       "    <tr>\n",
       "      <th>1496</th>\n",
       "      <td>5984</td>\n",
       "    </tr>\n",
       "    <tr>\n",
       "      <th>1497</th>\n",
       "      <td>1406</td>\n",
       "    </tr>\n",
       "    <tr>\n",
       "      <th>1498</th>\n",
       "      <td>1293</td>\n",
       "    </tr>\n",
       "    <tr>\n",
       "      <th>1499</th>\n",
       "      <td>1623</td>\n",
       "    </tr>\n",
       "  </tbody>\n",
       "</table>\n",
       "<p>492 rows × 1 columns</p>\n",
       "</div>"
      ],
      "text/plain": [
       "         duration\n",
       "user_id          \n",
       "1000         2566\n",
       "1001          844\n",
       "1002         1517\n",
       "1003         3822\n",
       "1004          987\n",
       "...           ...\n",
       "1495         3920\n",
       "1496         5984\n",
       "1497         1406\n",
       "1498         1293\n",
       "1499         1623\n",
       "\n",
       "[492 rows x 1 columns]"
      ]
     },
     "execution_count": 123,
     "metadata": {},
     "output_type": "execute_result"
    }
   ],
   "source": [
    "minutes_year = pd.pivot_table(calls, index = 'user_id', values = 'duration', aggfunc = 'sum')\n",
    "minutes_year"
   ]
  },
  {
   "cell_type": "code",
   "execution_count": 124,
   "metadata": {},
   "outputs": [
    {
     "data": {
      "text/html": [
       "<div>\n",
       "<style scoped>\n",
       "    .dataframe tbody tr th:only-of-type {\n",
       "        vertical-align: middle;\n",
       "    }\n",
       "\n",
       "    .dataframe tbody tr th {\n",
       "        vertical-align: top;\n",
       "    }\n",
       "\n",
       "    .dataframe thead th {\n",
       "        text-align: right;\n",
       "    }\n",
       "</style>\n",
       "<table border=\"1\" class=\"dataframe\">\n",
       "  <thead>\n",
       "    <tr style=\"text-align: right;\">\n",
       "      <th></th>\n",
       "      <th>id</th>\n",
       "    </tr>\n",
       "    <tr>\n",
       "      <th>user_id</th>\n",
       "      <th></th>\n",
       "    </tr>\n",
       "  </thead>\n",
       "  <tbody>\n",
       "    <tr>\n",
       "      <th>1000</th>\n",
       "      <td>496</td>\n",
       "    </tr>\n",
       "    <tr>\n",
       "      <th>1002</th>\n",
       "      <td>70</td>\n",
       "    </tr>\n",
       "    <tr>\n",
       "      <th>1003</th>\n",
       "      <td>380</td>\n",
       "    </tr>\n",
       "    <tr>\n",
       "      <th>1004</th>\n",
       "      <td>1192</td>\n",
       "    </tr>\n",
       "    <tr>\n",
       "      <th>1005</th>\n",
       "      <td>552</td>\n",
       "    </tr>\n",
       "    <tr>\n",
       "      <th>...</th>\n",
       "      <td>...</td>\n",
       "    </tr>\n",
       "    <tr>\n",
       "      <th>1495</th>\n",
       "      <td>340</td>\n",
       "    </tr>\n",
       "    <tr>\n",
       "      <th>1496</th>\n",
       "      <td>468</td>\n",
       "    </tr>\n",
       "    <tr>\n",
       "      <th>1497</th>\n",
       "      <td>51</td>\n",
       "    </tr>\n",
       "    <tr>\n",
       "      <th>1498</th>\n",
       "      <td>168</td>\n",
       "    </tr>\n",
       "    <tr>\n",
       "      <th>1499</th>\n",
       "      <td>184</td>\n",
       "    </tr>\n",
       "  </tbody>\n",
       "</table>\n",
       "<p>426 rows × 1 columns</p>\n",
       "</div>"
      ],
      "text/plain": [
       "           id\n",
       "user_id      \n",
       "1000      496\n",
       "1002       70\n",
       "1003      380\n",
       "1004     1192\n",
       "1005      552\n",
       "...       ...\n",
       "1495      340\n",
       "1496      468\n",
       "1497       51\n",
       "1498      168\n",
       "1499      184\n",
       "\n",
       "[426 rows x 1 columns]"
      ]
     },
     "execution_count": 124,
     "metadata": {},
     "output_type": "execute_result"
    }
   ],
   "source": [
    "messages_year = pd.pivot_table(messages, index = 'user_id', values = 'id', aggfunc = 'count')\n",
    "messages_year"
   ]
  },
  {
   "cell_type": "code",
   "execution_count": 125,
   "metadata": {},
   "outputs": [
    {
     "data": {
      "text/html": [
       "<div>\n",
       "<style scoped>\n",
       "    .dataframe tbody tr th:only-of-type {\n",
       "        vertical-align: middle;\n",
       "    }\n",
       "\n",
       "    .dataframe tbody tr th {\n",
       "        vertical-align: top;\n",
       "    }\n",
       "\n",
       "    .dataframe thead th {\n",
       "        text-align: right;\n",
       "    }\n",
       "</style>\n",
       "<table border=\"1\" class=\"dataframe\">\n",
       "  <thead>\n",
       "    <tr style=\"text-align: right;\">\n",
       "      <th></th>\n",
       "      <th>user_id</th>\n",
       "      <th>gb_used</th>\n",
       "      <th>minutes_used</th>\n",
       "      <th>messages</th>\n",
       "      <th>tariff</th>\n",
       "      <th>city</th>\n",
       "    </tr>\n",
       "  </thead>\n",
       "  <tbody>\n",
       "    <tr>\n",
       "      <th>0</th>\n",
       "      <td>1000</td>\n",
       "      <td>208</td>\n",
       "      <td>2566.0</td>\n",
       "      <td>496.0</td>\n",
       "      <td>ultra</td>\n",
       "      <td>Краснодар</td>\n",
       "    </tr>\n",
       "    <tr>\n",
       "      <th>1</th>\n",
       "      <td>1001</td>\n",
       "      <td>82</td>\n",
       "      <td>844.0</td>\n",
       "      <td>NaN</td>\n",
       "      <td>smart</td>\n",
       "      <td>Москва</td>\n",
       "    </tr>\n",
       "    <tr>\n",
       "      <th>2</th>\n",
       "      <td>1002</td>\n",
       "      <td>299</td>\n",
       "      <td>1517.0</td>\n",
       "      <td>70.0</td>\n",
       "      <td>smart</td>\n",
       "      <td>Стерлитамак</td>\n",
       "    </tr>\n",
       "    <tr>\n",
       "      <th>3</th>\n",
       "      <td>1003</td>\n",
       "      <td>106</td>\n",
       "      <td>3822.0</td>\n",
       "      <td>380.0</td>\n",
       "      <td>ultra</td>\n",
       "      <td>Москва</td>\n",
       "    </tr>\n",
       "    <tr>\n",
       "      <th>4</th>\n",
       "      <td>1004</td>\n",
       "      <td>291</td>\n",
       "      <td>987.0</td>\n",
       "      <td>1192.0</td>\n",
       "      <td>ultra</td>\n",
       "      <td>Новокузнецк</td>\n",
       "    </tr>\n",
       "    <tr>\n",
       "      <th>...</th>\n",
       "      <td>...</td>\n",
       "      <td>...</td>\n",
       "      <td>...</td>\n",
       "      <td>...</td>\n",
       "      <td>...</td>\n",
       "      <td>...</td>\n",
       "    </tr>\n",
       "    <tr>\n",
       "      <th>492</th>\n",
       "      <td>1495</td>\n",
       "      <td>252</td>\n",
       "      <td>3920.0</td>\n",
       "      <td>340.0</td>\n",
       "      <td>ultra</td>\n",
       "      <td>Иркутск</td>\n",
       "    </tr>\n",
       "    <tr>\n",
       "      <th>493</th>\n",
       "      <td>1496</td>\n",
       "      <td>696</td>\n",
       "      <td>5984.0</td>\n",
       "      <td>468.0</td>\n",
       "      <td>smart</td>\n",
       "      <td>Вологда</td>\n",
       "    </tr>\n",
       "    <tr>\n",
       "      <th>494</th>\n",
       "      <td>1497</td>\n",
       "      <td>106</td>\n",
       "      <td>1406.0</td>\n",
       "      <td>51.0</td>\n",
       "      <td>smart</td>\n",
       "      <td>Челябинск</td>\n",
       "    </tr>\n",
       "    <tr>\n",
       "      <th>495</th>\n",
       "      <td>1498</td>\n",
       "      <td>192</td>\n",
       "      <td>1293.0</td>\n",
       "      <td>168.0</td>\n",
       "      <td>smart</td>\n",
       "      <td>Владикавказ</td>\n",
       "    </tr>\n",
       "    <tr>\n",
       "      <th>496</th>\n",
       "      <td>1499</td>\n",
       "      <td>130</td>\n",
       "      <td>1623.0</td>\n",
       "      <td>184.0</td>\n",
       "      <td>smart</td>\n",
       "      <td>Пермь</td>\n",
       "    </tr>\n",
       "  </tbody>\n",
       "</table>\n",
       "<p>497 rows × 6 columns</p>\n",
       "</div>"
      ],
      "text/plain": [
       "     user_id  gb_used  minutes_used  messages tariff         city\n",
       "0       1000      208        2566.0     496.0  ultra    Краснодар\n",
       "1       1001       82         844.0       NaN  smart       Москва\n",
       "2       1002      299        1517.0      70.0  smart  Стерлитамак\n",
       "3       1003      106        3822.0     380.0  ultra       Москва\n",
       "4       1004      291         987.0    1192.0  ultra  Новокузнецк\n",
       "..       ...      ...           ...       ...    ...          ...\n",
       "492     1495      252        3920.0     340.0  ultra      Иркутск\n",
       "493     1496      696        5984.0     468.0  smart      Вологда\n",
       "494     1497      106        1406.0      51.0  smart    Челябинск\n",
       "495     1498      192        1293.0     168.0  smart  Владикавказ\n",
       "496     1499      130        1623.0     184.0  smart        Пермь\n",
       "\n",
       "[497 rows x 6 columns]"
      ]
     },
     "execution_count": 125,
     "metadata": {},
     "output_type": "execute_result"
    }
   ],
   "source": [
    "users_year = internet_year.merge(minutes_year, on = 'user_id', how = 'left')\n",
    "users_year = users_year.copy().merge(messages_year, on = 'user_id', how = 'left')\n",
    "users_year = users_year.copy().merge(users_tariffs, on = 'user_id', how = 'left')\n",
    "users_year = users_year.copy().merge(users_city, on = 'user_id', how = 'left')\n",
    "users_year.columns = ['user_id', 'gb_used', 'minutes_used', 'messages', 'tariff', 'city']\n",
    "users_year"
   ]
  },
  {
   "cell_type": "code",
   "execution_count": 126,
   "metadata": {},
   "outputs": [
    {
     "data": {
      "text/html": [
       "<div>\n",
       "<style scoped>\n",
       "    .dataframe tbody tr th:only-of-type {\n",
       "        vertical-align: middle;\n",
       "    }\n",
       "\n",
       "    .dataframe tbody tr th {\n",
       "        vertical-align: top;\n",
       "    }\n",
       "\n",
       "    .dataframe thead th {\n",
       "        text-align: right;\n",
       "    }\n",
       "</style>\n",
       "<table border=\"1\" class=\"dataframe\">\n",
       "  <thead>\n",
       "    <tr style=\"text-align: right;\">\n",
       "      <th></th>\n",
       "      <th>user_id</th>\n",
       "      <th>gb_used</th>\n",
       "      <th>minutes_used</th>\n",
       "      <th>messages</th>\n",
       "      <th>tariff</th>\n",
       "      <th>city</th>\n",
       "    </tr>\n",
       "  </thead>\n",
       "  <tbody>\n",
       "    <tr>\n",
       "      <th>1</th>\n",
       "      <td>1001</td>\n",
       "      <td>82</td>\n",
       "      <td>844.0</td>\n",
       "      <td>NaN</td>\n",
       "      <td>smart</td>\n",
       "      <td>Москва</td>\n",
       "    </tr>\n",
       "    <tr>\n",
       "      <th>2</th>\n",
       "      <td>1002</td>\n",
       "      <td>299</td>\n",
       "      <td>1517.0</td>\n",
       "      <td>70.0</td>\n",
       "      <td>smart</td>\n",
       "      <td>Стерлитамак</td>\n",
       "    </tr>\n",
       "    <tr>\n",
       "      <th>5</th>\n",
       "      <td>1005</td>\n",
       "      <td>252</td>\n",
       "      <td>6605.0</td>\n",
       "      <td>552.0</td>\n",
       "      <td>smart</td>\n",
       "      <td>Набережные Челны</td>\n",
       "    </tr>\n",
       "    <tr>\n",
       "      <th>6</th>\n",
       "      <td>1006</td>\n",
       "      <td>412</td>\n",
       "      <td>3501.0</td>\n",
       "      <td>NaN</td>\n",
       "      <td>smart</td>\n",
       "      <td>Ульяновск</td>\n",
       "    </tr>\n",
       "    <tr>\n",
       "      <th>7</th>\n",
       "      <td>1007</td>\n",
       "      <td>355</td>\n",
       "      <td>4379.0</td>\n",
       "      <td>225.0</td>\n",
       "      <td>smart</td>\n",
       "      <td>Москва</td>\n",
       "    </tr>\n",
       "    <tr>\n",
       "      <th>...</th>\n",
       "      <td>...</td>\n",
       "      <td>...</td>\n",
       "      <td>...</td>\n",
       "      <td>...</td>\n",
       "      <td>...</td>\n",
       "      <td>...</td>\n",
       "    </tr>\n",
       "    <tr>\n",
       "      <th>491</th>\n",
       "      <td>1494</td>\n",
       "      <td>209</td>\n",
       "      <td>1946.0</td>\n",
       "      <td>NaN</td>\n",
       "      <td>smart</td>\n",
       "      <td>Омск</td>\n",
       "    </tr>\n",
       "    <tr>\n",
       "      <th>493</th>\n",
       "      <td>1496</td>\n",
       "      <td>696</td>\n",
       "      <td>5984.0</td>\n",
       "      <td>468.0</td>\n",
       "      <td>smart</td>\n",
       "      <td>Вологда</td>\n",
       "    </tr>\n",
       "    <tr>\n",
       "      <th>494</th>\n",
       "      <td>1497</td>\n",
       "      <td>106</td>\n",
       "      <td>1406.0</td>\n",
       "      <td>51.0</td>\n",
       "      <td>smart</td>\n",
       "      <td>Челябинск</td>\n",
       "    </tr>\n",
       "    <tr>\n",
       "      <th>495</th>\n",
       "      <td>1498</td>\n",
       "      <td>192</td>\n",
       "      <td>1293.0</td>\n",
       "      <td>168.0</td>\n",
       "      <td>smart</td>\n",
       "      <td>Владикавказ</td>\n",
       "    </tr>\n",
       "    <tr>\n",
       "      <th>496</th>\n",
       "      <td>1499</td>\n",
       "      <td>130</td>\n",
       "      <td>1623.0</td>\n",
       "      <td>184.0</td>\n",
       "      <td>smart</td>\n",
       "      <td>Пермь</td>\n",
       "    </tr>\n",
       "  </tbody>\n",
       "</table>\n",
       "<p>350 rows × 6 columns</p>\n",
       "</div>"
      ],
      "text/plain": [
       "     user_id  gb_used  minutes_used  messages tariff              city\n",
       "1       1001       82         844.0       NaN  smart            Москва\n",
       "2       1002      299        1517.0      70.0  smart       Стерлитамак\n",
       "5       1005      252        6605.0     552.0  smart  Набережные Челны\n",
       "6       1006      412        3501.0       NaN  smart         Ульяновск\n",
       "7       1007      355        4379.0     225.0  smart            Москва\n",
       "..       ...      ...           ...       ...    ...               ...\n",
       "491     1494      209        1946.0       NaN  smart              Омск\n",
       "493     1496      696        5984.0     468.0  smart           Вологда\n",
       "494     1497      106        1406.0      51.0  smart         Челябинск\n",
       "495     1498      192        1293.0     168.0  smart       Владикавказ\n",
       "496     1499      130        1623.0     184.0  smart             Пермь\n",
       "\n",
       "[350 rows x 6 columns]"
      ]
     },
     "metadata": {},
     "output_type": "display_data"
    },
    {
     "data": {
      "text/html": [
       "<div>\n",
       "<style scoped>\n",
       "    .dataframe tbody tr th:only-of-type {\n",
       "        vertical-align: middle;\n",
       "    }\n",
       "\n",
       "    .dataframe tbody tr th {\n",
       "        vertical-align: top;\n",
       "    }\n",
       "\n",
       "    .dataframe thead th {\n",
       "        text-align: right;\n",
       "    }\n",
       "</style>\n",
       "<table border=\"1\" class=\"dataframe\">\n",
       "  <thead>\n",
       "    <tr style=\"text-align: right;\">\n",
       "      <th></th>\n",
       "      <th>user_id</th>\n",
       "      <th>gb_used</th>\n",
       "      <th>minutes_used</th>\n",
       "      <th>messages</th>\n",
       "      <th>tariff</th>\n",
       "      <th>city</th>\n",
       "    </tr>\n",
       "  </thead>\n",
       "  <tbody>\n",
       "    <tr>\n",
       "      <th>0</th>\n",
       "      <td>1000</td>\n",
       "      <td>208</td>\n",
       "      <td>2566.0</td>\n",
       "      <td>496.0</td>\n",
       "      <td>ultra</td>\n",
       "      <td>Краснодар</td>\n",
       "    </tr>\n",
       "    <tr>\n",
       "      <th>3</th>\n",
       "      <td>1003</td>\n",
       "      <td>106</td>\n",
       "      <td>3822.0</td>\n",
       "      <td>380.0</td>\n",
       "      <td>ultra</td>\n",
       "      <td>Москва</td>\n",
       "    </tr>\n",
       "    <tr>\n",
       "      <th>4</th>\n",
       "      <td>1004</td>\n",
       "      <td>291</td>\n",
       "      <td>987.0</td>\n",
       "      <td>1192.0</td>\n",
       "      <td>ultra</td>\n",
       "      <td>Новокузнецк</td>\n",
       "    </tr>\n",
       "    <tr>\n",
       "      <th>13</th>\n",
       "      <td>1013</td>\n",
       "      <td>59</td>\n",
       "      <td>936.0</td>\n",
       "      <td>42.0</td>\n",
       "      <td>ultra</td>\n",
       "      <td>Иваново</td>\n",
       "    </tr>\n",
       "    <tr>\n",
       "      <th>16</th>\n",
       "      <td>1016</td>\n",
       "      <td>47</td>\n",
       "      <td>122.0</td>\n",
       "      <td>142.0</td>\n",
       "      <td>ultra</td>\n",
       "      <td>Омск</td>\n",
       "    </tr>\n",
       "    <tr>\n",
       "      <th>...</th>\n",
       "      <td>...</td>\n",
       "      <td>...</td>\n",
       "      <td>...</td>\n",
       "      <td>...</td>\n",
       "      <td>...</td>\n",
       "      <td>...</td>\n",
       "    </tr>\n",
       "    <tr>\n",
       "      <th>473</th>\n",
       "      <td>1476</td>\n",
       "      <td>303</td>\n",
       "      <td>4204.0</td>\n",
       "      <td>45.0</td>\n",
       "      <td>ultra</td>\n",
       "      <td>Москва</td>\n",
       "    </tr>\n",
       "    <tr>\n",
       "      <th>482</th>\n",
       "      <td>1485</td>\n",
       "      <td>49</td>\n",
       "      <td>584.0</td>\n",
       "      <td>155.0</td>\n",
       "      <td>ultra</td>\n",
       "      <td>Киров</td>\n",
       "    </tr>\n",
       "    <tr>\n",
       "      <th>488</th>\n",
       "      <td>1491</td>\n",
       "      <td>311</td>\n",
       "      <td>4620.0</td>\n",
       "      <td>432.0</td>\n",
       "      <td>ultra</td>\n",
       "      <td>Челябинск</td>\n",
       "    </tr>\n",
       "    <tr>\n",
       "      <th>490</th>\n",
       "      <td>1493</td>\n",
       "      <td>104</td>\n",
       "      <td>744.0</td>\n",
       "      <td>94.0</td>\n",
       "      <td>ultra</td>\n",
       "      <td>Красноярск</td>\n",
       "    </tr>\n",
       "    <tr>\n",
       "      <th>492</th>\n",
       "      <td>1495</td>\n",
       "      <td>252</td>\n",
       "      <td>3920.0</td>\n",
       "      <td>340.0</td>\n",
       "      <td>ultra</td>\n",
       "      <td>Иркутск</td>\n",
       "    </tr>\n",
       "  </tbody>\n",
       "</table>\n",
       "<p>147 rows × 6 columns</p>\n",
       "</div>"
      ],
      "text/plain": [
       "     user_id  gb_used  minutes_used  messages tariff         city\n",
       "0       1000      208        2566.0     496.0  ultra    Краснодар\n",
       "3       1003      106        3822.0     380.0  ultra       Москва\n",
       "4       1004      291         987.0    1192.0  ultra  Новокузнецк\n",
       "13      1013       59         936.0      42.0  ultra      Иваново\n",
       "16      1016       47         122.0     142.0  ultra         Омск\n",
       "..       ...      ...           ...       ...    ...          ...\n",
       "473     1476      303        4204.0      45.0  ultra       Москва\n",
       "482     1485       49         584.0     155.0  ultra        Киров\n",
       "488     1491      311        4620.0     432.0  ultra    Челябинск\n",
       "490     1493      104         744.0      94.0  ultra   Красноярск\n",
       "492     1495      252        3920.0     340.0  ultra      Иркутск\n",
       "\n",
       "[147 rows x 6 columns]"
      ]
     },
     "execution_count": 126,
     "metadata": {},
     "output_type": "execute_result"
    }
   ],
   "source": [
    "smart_year = users_year.query('tariff == \"smart\"')\n",
    "ultra_year = users_year.query('tariff == \"ultra\"')\n",
    "display(smart_year)\n",
    "ultra_year"
   ]
  },
  {
   "cell_type": "code",
   "execution_count": 127,
   "metadata": {},
   "outputs": [
    {
     "name": "stderr",
     "output_type": "stream",
     "text": [
      "/tmp/ipykernel_113/4117427078.py:3: SettingWithCopyWarning: \n",
      "A value is trying to be set on a copy of a slice from a DataFrame.\n",
      "Try using .loc[row_indexer,col_indexer] = value instead\n",
      "\n",
      "See the caveats in the documentation: https://pandas.pydata.org/pandas-docs/stable/user_guide/indexing.html#returning-a-view-versus-a-copy\n",
      "  smart_year[column] = smart_year[column].copy().fillna(smart_year[column].copy().median()).astype('int')\n",
      "/tmp/ipykernel_113/4117427078.py:3: SettingWithCopyWarning: \n",
      "A value is trying to be set on a copy of a slice from a DataFrame.\n",
      "Try using .loc[row_indexer,col_indexer] = value instead\n",
      "\n",
      "See the caveats in the documentation: https://pandas.pydata.org/pandas-docs/stable/user_guide/indexing.html#returning-a-view-versus-a-copy\n",
      "  smart_year[column] = smart_year[column].copy().fillna(smart_year[column].copy().median()).astype('int')\n",
      "/tmp/ipykernel_113/4117427078.py:3: SettingWithCopyWarning: \n",
      "A value is trying to be set on a copy of a slice from a DataFrame.\n",
      "Try using .loc[row_indexer,col_indexer] = value instead\n",
      "\n",
      "See the caveats in the documentation: https://pandas.pydata.org/pandas-docs/stable/user_guide/indexing.html#returning-a-view-versus-a-copy\n",
      "  smart_year[column] = smart_year[column].copy().fillna(smart_year[column].copy().median()).astype('int')\n",
      "/tmp/ipykernel_113/4117427078.py:5: SettingWithCopyWarning: \n",
      "A value is trying to be set on a copy of a slice from a DataFrame.\n",
      "Try using .loc[row_indexer,col_indexer] = value instead\n",
      "\n",
      "See the caveats in the documentation: https://pandas.pydata.org/pandas-docs/stable/user_guide/indexing.html#returning-a-view-versus-a-copy\n",
      "  ultra_year[column] = ultra_year[column].copy().fillna(ultra_year[column].copy().median()).astype('int')\n",
      "/tmp/ipykernel_113/4117427078.py:5: SettingWithCopyWarning: \n",
      "A value is trying to be set on a copy of a slice from a DataFrame.\n",
      "Try using .loc[row_indexer,col_indexer] = value instead\n",
      "\n",
      "See the caveats in the documentation: https://pandas.pydata.org/pandas-docs/stable/user_guide/indexing.html#returning-a-view-versus-a-copy\n",
      "  ultra_year[column] = ultra_year[column].copy().fillna(ultra_year[column].copy().median()).astype('int')\n",
      "/tmp/ipykernel_113/4117427078.py:5: SettingWithCopyWarning: \n",
      "A value is trying to be set on a copy of a slice from a DataFrame.\n",
      "Try using .loc[row_indexer,col_indexer] = value instead\n",
      "\n",
      "See the caveats in the documentation: https://pandas.pydata.org/pandas-docs/stable/user_guide/indexing.html#returning-a-view-versus-a-copy\n",
      "  ultra_year[column] = ultra_year[column].copy().fillna(ultra_year[column].copy().median()).astype('int')\n"
     ]
    },
    {
     "data": {
      "text/html": [
       "<div>\n",
       "<style scoped>\n",
       "    .dataframe tbody tr th:only-of-type {\n",
       "        vertical-align: middle;\n",
       "    }\n",
       "\n",
       "    .dataframe tbody tr th {\n",
       "        vertical-align: top;\n",
       "    }\n",
       "\n",
       "    .dataframe thead th {\n",
       "        text-align: right;\n",
       "    }\n",
       "</style>\n",
       "<table border=\"1\" class=\"dataframe\">\n",
       "  <thead>\n",
       "    <tr style=\"text-align: right;\">\n",
       "      <th></th>\n",
       "      <th>user_id</th>\n",
       "      <th>gb_used</th>\n",
       "      <th>minutes_used</th>\n",
       "      <th>messages</th>\n",
       "      <th>tariff</th>\n",
       "      <th>city</th>\n",
       "    </tr>\n",
       "  </thead>\n",
       "  <tbody>\n",
       "    <tr>\n",
       "      <th>1</th>\n",
       "      <td>1001</td>\n",
       "      <td>82</td>\n",
       "      <td>844</td>\n",
       "      <td>180</td>\n",
       "      <td>smart</td>\n",
       "      <td>Москва</td>\n",
       "    </tr>\n",
       "    <tr>\n",
       "      <th>2</th>\n",
       "      <td>1002</td>\n",
       "      <td>299</td>\n",
       "      <td>1517</td>\n",
       "      <td>70</td>\n",
       "      <td>smart</td>\n",
       "      <td>Стерлитамак</td>\n",
       "    </tr>\n",
       "    <tr>\n",
       "      <th>5</th>\n",
       "      <td>1005</td>\n",
       "      <td>252</td>\n",
       "      <td>6605</td>\n",
       "      <td>552</td>\n",
       "      <td>smart</td>\n",
       "      <td>Набережные Челны</td>\n",
       "    </tr>\n",
       "    <tr>\n",
       "      <th>6</th>\n",
       "      <td>1006</td>\n",
       "      <td>412</td>\n",
       "      <td>3501</td>\n",
       "      <td>180</td>\n",
       "      <td>smart</td>\n",
       "      <td>Ульяновск</td>\n",
       "    </tr>\n",
       "    <tr>\n",
       "      <th>7</th>\n",
       "      <td>1007</td>\n",
       "      <td>355</td>\n",
       "      <td>4379</td>\n",
       "      <td>225</td>\n",
       "      <td>smart</td>\n",
       "      <td>Москва</td>\n",
       "    </tr>\n",
       "    <tr>\n",
       "      <th>...</th>\n",
       "      <td>...</td>\n",
       "      <td>...</td>\n",
       "      <td>...</td>\n",
       "      <td>...</td>\n",
       "      <td>...</td>\n",
       "      <td>...</td>\n",
       "    </tr>\n",
       "    <tr>\n",
       "      <th>491</th>\n",
       "      <td>1494</td>\n",
       "      <td>209</td>\n",
       "      <td>1946</td>\n",
       "      <td>180</td>\n",
       "      <td>smart</td>\n",
       "      <td>Омск</td>\n",
       "    </tr>\n",
       "    <tr>\n",
       "      <th>493</th>\n",
       "      <td>1496</td>\n",
       "      <td>696</td>\n",
       "      <td>5984</td>\n",
       "      <td>468</td>\n",
       "      <td>smart</td>\n",
       "      <td>Вологда</td>\n",
       "    </tr>\n",
       "    <tr>\n",
       "      <th>494</th>\n",
       "      <td>1497</td>\n",
       "      <td>106</td>\n",
       "      <td>1406</td>\n",
       "      <td>51</td>\n",
       "      <td>smart</td>\n",
       "      <td>Челябинск</td>\n",
       "    </tr>\n",
       "    <tr>\n",
       "      <th>495</th>\n",
       "      <td>1498</td>\n",
       "      <td>192</td>\n",
       "      <td>1293</td>\n",
       "      <td>168</td>\n",
       "      <td>smart</td>\n",
       "      <td>Владикавказ</td>\n",
       "    </tr>\n",
       "    <tr>\n",
       "      <th>496</th>\n",
       "      <td>1499</td>\n",
       "      <td>130</td>\n",
       "      <td>1623</td>\n",
       "      <td>184</td>\n",
       "      <td>smart</td>\n",
       "      <td>Пермь</td>\n",
       "    </tr>\n",
       "  </tbody>\n",
       "</table>\n",
       "<p>350 rows × 6 columns</p>\n",
       "</div>"
      ],
      "text/plain": [
       "     user_id  gb_used  minutes_used  messages tariff              city\n",
       "1       1001       82           844       180  smart            Москва\n",
       "2       1002      299          1517        70  smart       Стерлитамак\n",
       "5       1005      252          6605       552  smart  Набережные Челны\n",
       "6       1006      412          3501       180  smart         Ульяновск\n",
       "7       1007      355          4379       225  smart            Москва\n",
       "..       ...      ...           ...       ...    ...               ...\n",
       "491     1494      209          1946       180  smart              Омск\n",
       "493     1496      696          5984       468  smart           Вологда\n",
       "494     1497      106          1406        51  smart         Челябинск\n",
       "495     1498      192          1293       168  smart       Владикавказ\n",
       "496     1499      130          1623       184  smart             Пермь\n",
       "\n",
       "[350 rows x 6 columns]"
      ]
     },
     "metadata": {},
     "output_type": "display_data"
    },
    {
     "data": {
      "text/html": [
       "<div>\n",
       "<style scoped>\n",
       "    .dataframe tbody tr th:only-of-type {\n",
       "        vertical-align: middle;\n",
       "    }\n",
       "\n",
       "    .dataframe tbody tr th {\n",
       "        vertical-align: top;\n",
       "    }\n",
       "\n",
       "    .dataframe thead th {\n",
       "        text-align: right;\n",
       "    }\n",
       "</style>\n",
       "<table border=\"1\" class=\"dataframe\">\n",
       "  <thead>\n",
       "    <tr style=\"text-align: right;\">\n",
       "      <th></th>\n",
       "      <th>user_id</th>\n",
       "      <th>gb_used</th>\n",
       "      <th>minutes_used</th>\n",
       "      <th>messages</th>\n",
       "      <th>tariff</th>\n",
       "      <th>city</th>\n",
       "    </tr>\n",
       "  </thead>\n",
       "  <tbody>\n",
       "    <tr>\n",
       "      <th>0</th>\n",
       "      <td>1000</td>\n",
       "      <td>208</td>\n",
       "      <td>2566</td>\n",
       "      <td>496</td>\n",
       "      <td>ultra</td>\n",
       "      <td>Краснодар</td>\n",
       "    </tr>\n",
       "    <tr>\n",
       "      <th>3</th>\n",
       "      <td>1003</td>\n",
       "      <td>106</td>\n",
       "      <td>3822</td>\n",
       "      <td>380</td>\n",
       "      <td>ultra</td>\n",
       "      <td>Москва</td>\n",
       "    </tr>\n",
       "    <tr>\n",
       "      <th>4</th>\n",
       "      <td>1004</td>\n",
       "      <td>291</td>\n",
       "      <td>987</td>\n",
       "      <td>1192</td>\n",
       "      <td>ultra</td>\n",
       "      <td>Новокузнецк</td>\n",
       "    </tr>\n",
       "    <tr>\n",
       "      <th>13</th>\n",
       "      <td>1013</td>\n",
       "      <td>59</td>\n",
       "      <td>936</td>\n",
       "      <td>42</td>\n",
       "      <td>ultra</td>\n",
       "      <td>Иваново</td>\n",
       "    </tr>\n",
       "    <tr>\n",
       "      <th>16</th>\n",
       "      <td>1016</td>\n",
       "      <td>47</td>\n",
       "      <td>122</td>\n",
       "      <td>142</td>\n",
       "      <td>ultra</td>\n",
       "      <td>Омск</td>\n",
       "    </tr>\n",
       "    <tr>\n",
       "      <th>...</th>\n",
       "      <td>...</td>\n",
       "      <td>...</td>\n",
       "      <td>...</td>\n",
       "      <td>...</td>\n",
       "      <td>...</td>\n",
       "      <td>...</td>\n",
       "    </tr>\n",
       "    <tr>\n",
       "      <th>473</th>\n",
       "      <td>1476</td>\n",
       "      <td>303</td>\n",
       "      <td>4204</td>\n",
       "      <td>45</td>\n",
       "      <td>ultra</td>\n",
       "      <td>Москва</td>\n",
       "    </tr>\n",
       "    <tr>\n",
       "      <th>482</th>\n",
       "      <td>1485</td>\n",
       "      <td>49</td>\n",
       "      <td>584</td>\n",
       "      <td>155</td>\n",
       "      <td>ultra</td>\n",
       "      <td>Киров</td>\n",
       "    </tr>\n",
       "    <tr>\n",
       "      <th>488</th>\n",
       "      <td>1491</td>\n",
       "      <td>311</td>\n",
       "      <td>4620</td>\n",
       "      <td>432</td>\n",
       "      <td>ultra</td>\n",
       "      <td>Челябинск</td>\n",
       "    </tr>\n",
       "    <tr>\n",
       "      <th>490</th>\n",
       "      <td>1493</td>\n",
       "      <td>104</td>\n",
       "      <td>744</td>\n",
       "      <td>94</td>\n",
       "      <td>ultra</td>\n",
       "      <td>Красноярск</td>\n",
       "    </tr>\n",
       "    <tr>\n",
       "      <th>492</th>\n",
       "      <td>1495</td>\n",
       "      <td>252</td>\n",
       "      <td>3920</td>\n",
       "      <td>340</td>\n",
       "      <td>ultra</td>\n",
       "      <td>Иркутск</td>\n",
       "    </tr>\n",
       "  </tbody>\n",
       "</table>\n",
       "<p>147 rows × 6 columns</p>\n",
       "</div>"
      ],
      "text/plain": [
       "     user_id  gb_used  minutes_used  messages tariff         city\n",
       "0       1000      208          2566       496  ultra    Краснодар\n",
       "3       1003      106          3822       380  ultra       Москва\n",
       "4       1004      291           987      1192  ultra  Новокузнецк\n",
       "13      1013       59           936        42  ultra      Иваново\n",
       "16      1016       47           122       142  ultra         Омск\n",
       "..       ...      ...           ...       ...    ...          ...\n",
       "473     1476      303          4204        45  ultra       Москва\n",
       "482     1485       49           584       155  ultra        Киров\n",
       "488     1491      311          4620       432  ultra    Челябинск\n",
       "490     1493      104           744        94  ultra   Красноярск\n",
       "492     1495      252          3920       340  ultra      Иркутск\n",
       "\n",
       "[147 rows x 6 columns]"
      ]
     },
     "execution_count": 127,
     "metadata": {},
     "output_type": "execute_result"
    }
   ],
   "source": [
    "columns_to_fill = ['gb_used', 'minutes_used', 'messages']\n",
    "for column in columns_to_fill:\n",
    "    smart_year[column] = smart_year[column].copy().fillna(smart_year[column].copy().median()).astype('int')\n",
    "for column in columns_to_fill:\n",
    "    ultra_year[column] = ultra_year[column].copy().fillna(ultra_year[column].copy().median()).astype('int')\n",
    "    \n",
    "display(smart_year)\n",
    "ultra_year"
   ]
  },
  {
   "cell_type": "code",
   "execution_count": 128,
   "metadata": {},
   "outputs": [
    {
     "data": {
      "text/html": [
       "<div>\n",
       "<style scoped>\n",
       "    .dataframe tbody tr th:only-of-type {\n",
       "        vertical-align: middle;\n",
       "    }\n",
       "\n",
       "    .dataframe tbody tr th {\n",
       "        vertical-align: top;\n",
       "    }\n",
       "\n",
       "    .dataframe thead th {\n",
       "        text-align: right;\n",
       "    }\n",
       "</style>\n",
       "<table border=\"1\" class=\"dataframe\">\n",
       "  <thead>\n",
       "    <tr style=\"text-align: right;\">\n",
       "      <th></th>\n",
       "      <th>user_id</th>\n",
       "      <th>gb_used</th>\n",
       "      <th>minutes_used</th>\n",
       "      <th>messages</th>\n",
       "      <th>tariff</th>\n",
       "      <th>city</th>\n",
       "    </tr>\n",
       "  </thead>\n",
       "  <tbody>\n",
       "    <tr>\n",
       "      <th>1</th>\n",
       "      <td>1001</td>\n",
       "      <td>7.0</td>\n",
       "      <td>70.0</td>\n",
       "      <td>15.0</td>\n",
       "      <td>smart</td>\n",
       "      <td>Москва</td>\n",
       "    </tr>\n",
       "    <tr>\n",
       "      <th>2</th>\n",
       "      <td>1002</td>\n",
       "      <td>25.0</td>\n",
       "      <td>126.0</td>\n",
       "      <td>6.0</td>\n",
       "      <td>smart</td>\n",
       "      <td>Стерлитамак</td>\n",
       "    </tr>\n",
       "    <tr>\n",
       "      <th>5</th>\n",
       "      <td>1005</td>\n",
       "      <td>21.0</td>\n",
       "      <td>550.0</td>\n",
       "      <td>46.0</td>\n",
       "      <td>smart</td>\n",
       "      <td>Набережные Челны</td>\n",
       "    </tr>\n",
       "    <tr>\n",
       "      <th>6</th>\n",
       "      <td>1006</td>\n",
       "      <td>34.0</td>\n",
       "      <td>292.0</td>\n",
       "      <td>15.0</td>\n",
       "      <td>smart</td>\n",
       "      <td>Ульяновск</td>\n",
       "    </tr>\n",
       "    <tr>\n",
       "      <th>7</th>\n",
       "      <td>1007</td>\n",
       "      <td>30.0</td>\n",
       "      <td>365.0</td>\n",
       "      <td>19.0</td>\n",
       "      <td>smart</td>\n",
       "      <td>Москва</td>\n",
       "    </tr>\n",
       "    <tr>\n",
       "      <th>...</th>\n",
       "      <td>...</td>\n",
       "      <td>...</td>\n",
       "      <td>...</td>\n",
       "      <td>...</td>\n",
       "      <td>...</td>\n",
       "      <td>...</td>\n",
       "    </tr>\n",
       "    <tr>\n",
       "      <th>491</th>\n",
       "      <td>1494</td>\n",
       "      <td>17.0</td>\n",
       "      <td>162.0</td>\n",
       "      <td>15.0</td>\n",
       "      <td>smart</td>\n",
       "      <td>Омск</td>\n",
       "    </tr>\n",
       "    <tr>\n",
       "      <th>493</th>\n",
       "      <td>1496</td>\n",
       "      <td>58.0</td>\n",
       "      <td>499.0</td>\n",
       "      <td>39.0</td>\n",
       "      <td>smart</td>\n",
       "      <td>Вологда</td>\n",
       "    </tr>\n",
       "    <tr>\n",
       "      <th>494</th>\n",
       "      <td>1497</td>\n",
       "      <td>9.0</td>\n",
       "      <td>117.0</td>\n",
       "      <td>4.0</td>\n",
       "      <td>smart</td>\n",
       "      <td>Челябинск</td>\n",
       "    </tr>\n",
       "    <tr>\n",
       "      <th>495</th>\n",
       "      <td>1498</td>\n",
       "      <td>16.0</td>\n",
       "      <td>108.0</td>\n",
       "      <td>14.0</td>\n",
       "      <td>smart</td>\n",
       "      <td>Владикавказ</td>\n",
       "    </tr>\n",
       "    <tr>\n",
       "      <th>496</th>\n",
       "      <td>1499</td>\n",
       "      <td>11.0</td>\n",
       "      <td>135.0</td>\n",
       "      <td>15.0</td>\n",
       "      <td>smart</td>\n",
       "      <td>Пермь</td>\n",
       "    </tr>\n",
       "  </tbody>\n",
       "</table>\n",
       "<p>350 rows × 6 columns</p>\n",
       "</div>"
      ],
      "text/plain": [
       "     user_id  gb_used  minutes_used  messages tariff              city\n",
       "1       1001      7.0          70.0      15.0  smart            Москва\n",
       "2       1002     25.0         126.0       6.0  smart       Стерлитамак\n",
       "5       1005     21.0         550.0      46.0  smart  Набережные Челны\n",
       "6       1006     34.0         292.0      15.0  smart         Ульяновск\n",
       "7       1007     30.0         365.0      19.0  smart            Москва\n",
       "..       ...      ...           ...       ...    ...               ...\n",
       "491     1494     17.0         162.0      15.0  smart              Омск\n",
       "493     1496     58.0         499.0      39.0  smart           Вологда\n",
       "494     1497      9.0         117.0       4.0  smart         Челябинск\n",
       "495     1498     16.0         108.0      14.0  smart       Владикавказ\n",
       "496     1499     11.0         135.0      15.0  smart             Пермь\n",
       "\n",
       "[350 rows x 6 columns]"
      ]
     },
     "metadata": {},
     "output_type": "display_data"
    },
    {
     "data": {
      "text/html": [
       "<div>\n",
       "<style scoped>\n",
       "    .dataframe tbody tr th:only-of-type {\n",
       "        vertical-align: middle;\n",
       "    }\n",
       "\n",
       "    .dataframe tbody tr th {\n",
       "        vertical-align: top;\n",
       "    }\n",
       "\n",
       "    .dataframe thead th {\n",
       "        text-align: right;\n",
       "    }\n",
       "</style>\n",
       "<table border=\"1\" class=\"dataframe\">\n",
       "  <thead>\n",
       "    <tr style=\"text-align: right;\">\n",
       "      <th></th>\n",
       "      <th>user_id</th>\n",
       "      <th>gb_used</th>\n",
       "      <th>minutes_used</th>\n",
       "      <th>messages</th>\n",
       "      <th>tariff</th>\n",
       "      <th>city</th>\n",
       "    </tr>\n",
       "  </thead>\n",
       "  <tbody>\n",
       "    <tr>\n",
       "      <th>0</th>\n",
       "      <td>1000</td>\n",
       "      <td>17.0</td>\n",
       "      <td>214.0</td>\n",
       "      <td>41.0</td>\n",
       "      <td>ultra</td>\n",
       "      <td>Краснодар</td>\n",
       "    </tr>\n",
       "    <tr>\n",
       "      <th>3</th>\n",
       "      <td>1003</td>\n",
       "      <td>9.0</td>\n",
       "      <td>318.0</td>\n",
       "      <td>32.0</td>\n",
       "      <td>ultra</td>\n",
       "      <td>Москва</td>\n",
       "    </tr>\n",
       "    <tr>\n",
       "      <th>4</th>\n",
       "      <td>1004</td>\n",
       "      <td>24.0</td>\n",
       "      <td>82.0</td>\n",
       "      <td>99.0</td>\n",
       "      <td>ultra</td>\n",
       "      <td>Новокузнецк</td>\n",
       "    </tr>\n",
       "    <tr>\n",
       "      <th>13</th>\n",
       "      <td>1013</td>\n",
       "      <td>5.0</td>\n",
       "      <td>78.0</td>\n",
       "      <td>4.0</td>\n",
       "      <td>ultra</td>\n",
       "      <td>Иваново</td>\n",
       "    </tr>\n",
       "    <tr>\n",
       "      <th>16</th>\n",
       "      <td>1016</td>\n",
       "      <td>4.0</td>\n",
       "      <td>10.0</td>\n",
       "      <td>12.0</td>\n",
       "      <td>ultra</td>\n",
       "      <td>Омск</td>\n",
       "    </tr>\n",
       "    <tr>\n",
       "      <th>...</th>\n",
       "      <td>...</td>\n",
       "      <td>...</td>\n",
       "      <td>...</td>\n",
       "      <td>...</td>\n",
       "      <td>...</td>\n",
       "      <td>...</td>\n",
       "    </tr>\n",
       "    <tr>\n",
       "      <th>473</th>\n",
       "      <td>1476</td>\n",
       "      <td>25.0</td>\n",
       "      <td>350.0</td>\n",
       "      <td>4.0</td>\n",
       "      <td>ultra</td>\n",
       "      <td>Москва</td>\n",
       "    </tr>\n",
       "    <tr>\n",
       "      <th>482</th>\n",
       "      <td>1485</td>\n",
       "      <td>4.0</td>\n",
       "      <td>49.0</td>\n",
       "      <td>13.0</td>\n",
       "      <td>ultra</td>\n",
       "      <td>Киров</td>\n",
       "    </tr>\n",
       "    <tr>\n",
       "      <th>488</th>\n",
       "      <td>1491</td>\n",
       "      <td>26.0</td>\n",
       "      <td>385.0</td>\n",
       "      <td>36.0</td>\n",
       "      <td>ultra</td>\n",
       "      <td>Челябинск</td>\n",
       "    </tr>\n",
       "    <tr>\n",
       "      <th>490</th>\n",
       "      <td>1493</td>\n",
       "      <td>9.0</td>\n",
       "      <td>62.0</td>\n",
       "      <td>8.0</td>\n",
       "      <td>ultra</td>\n",
       "      <td>Красноярск</td>\n",
       "    </tr>\n",
       "    <tr>\n",
       "      <th>492</th>\n",
       "      <td>1495</td>\n",
       "      <td>21.0</td>\n",
       "      <td>327.0</td>\n",
       "      <td>28.0</td>\n",
       "      <td>ultra</td>\n",
       "      <td>Иркутск</td>\n",
       "    </tr>\n",
       "  </tbody>\n",
       "</table>\n",
       "<p>147 rows × 6 columns</p>\n",
       "</div>"
      ],
      "text/plain": [
       "     user_id  gb_used  minutes_used  messages tariff         city\n",
       "0       1000     17.0         214.0      41.0  ultra    Краснодар\n",
       "3       1003      9.0         318.0      32.0  ultra       Москва\n",
       "4       1004     24.0          82.0      99.0  ultra  Новокузнецк\n",
       "13      1013      5.0          78.0       4.0  ultra      Иваново\n",
       "16      1016      4.0          10.0      12.0  ultra         Омск\n",
       "..       ...      ...           ...       ...    ...          ...\n",
       "473     1476     25.0         350.0       4.0  ultra       Москва\n",
       "482     1485      4.0          49.0      13.0  ultra        Киров\n",
       "488     1491     26.0         385.0      36.0  ultra    Челябинск\n",
       "490     1493      9.0          62.0       8.0  ultra   Красноярск\n",
       "492     1495     21.0         327.0      28.0  ultra      Иркутск\n",
       "\n",
       "[147 rows x 6 columns]"
      ]
     },
     "execution_count": 128,
     "metadata": {},
     "output_type": "execute_result"
    }
   ],
   "source": [
    "smart_mnth = smart_year.copy()\n",
    "columns_to_div = ['gb_used', 'minutes_used', 'messages']\n",
    "for column in columns_to_div:\n",
    "    smart_mnth[column] = round(smart_mnth[column]/12)\n",
    "\n",
    "ultra_mnth = ultra_year.copy()\n",
    "columns_to_div = ['gb_used', 'minutes_used', 'messages']\n",
    "for column in columns_to_div:\n",
    "    ultra_mnth[column] = round(ultra_mnth[column]/12)\n",
    "    \n",
    "display(smart_mnth)    \n",
    "ultra_mnth"
   ]
  },
  {
   "cell_type": "markdown",
   "metadata": {},
   "source": [
    "## Рассчет пользовательских платежей"
   ]
  },
  {
   "cell_type": "markdown",
   "metadata": {},
   "source": [
    "Рассчитаем сумму, которую абонент платит в месяц - вычтем показатели тарифного плана из фактических показателей, остаток умножим на сумму, предусмотренную в тарифе после превышения лимита:"
   ]
  },
  {
   "cell_type": "code",
   "execution_count": 129,
   "metadata": {},
   "outputs": [
    {
     "data": {
      "text/html": [
       "<div>\n",
       "<style scoped>\n",
       "    .dataframe tbody tr th:only-of-type {\n",
       "        vertical-align: middle;\n",
       "    }\n",
       "\n",
       "    .dataframe tbody tr th {\n",
       "        vertical-align: top;\n",
       "    }\n",
       "\n",
       "    .dataframe thead th {\n",
       "        text-align: right;\n",
       "    }\n",
       "</style>\n",
       "<table border=\"1\" class=\"dataframe\">\n",
       "  <thead>\n",
       "    <tr style=\"text-align: right;\">\n",
       "      <th></th>\n",
       "      <th>user_id</th>\n",
       "      <th>gb_used</th>\n",
       "      <th>minutes_used</th>\n",
       "      <th>messages</th>\n",
       "      <th>tariff</th>\n",
       "      <th>city</th>\n",
       "      <th>payment</th>\n",
       "    </tr>\n",
       "  </thead>\n",
       "  <tbody>\n",
       "    <tr>\n",
       "      <th>1</th>\n",
       "      <td>1001</td>\n",
       "      <td>7.0</td>\n",
       "      <td>70.0</td>\n",
       "      <td>15.0</td>\n",
       "      <td>smart</td>\n",
       "      <td>Москва</td>\n",
       "      <td>550.0</td>\n",
       "    </tr>\n",
       "    <tr>\n",
       "      <th>2</th>\n",
       "      <td>1002</td>\n",
       "      <td>25.0</td>\n",
       "      <td>126.0</td>\n",
       "      <td>6.0</td>\n",
       "      <td>smart</td>\n",
       "      <td>Стерлитамак</td>\n",
       "      <td>2550.0</td>\n",
       "    </tr>\n",
       "    <tr>\n",
       "      <th>5</th>\n",
       "      <td>1005</td>\n",
       "      <td>21.0</td>\n",
       "      <td>550.0</td>\n",
       "      <td>46.0</td>\n",
       "      <td>smart</td>\n",
       "      <td>Набережные Челны</td>\n",
       "      <td>1900.0</td>\n",
       "    </tr>\n",
       "    <tr>\n",
       "      <th>6</th>\n",
       "      <td>1006</td>\n",
       "      <td>34.0</td>\n",
       "      <td>292.0</td>\n",
       "      <td>15.0</td>\n",
       "      <td>smart</td>\n",
       "      <td>Ульяновск</td>\n",
       "      <td>4350.0</td>\n",
       "    </tr>\n",
       "    <tr>\n",
       "      <th>7</th>\n",
       "      <td>1007</td>\n",
       "      <td>30.0</td>\n",
       "      <td>365.0</td>\n",
       "      <td>19.0</td>\n",
       "      <td>smart</td>\n",
       "      <td>Москва</td>\n",
       "      <td>3550.0</td>\n",
       "    </tr>\n",
       "    <tr>\n",
       "      <th>...</th>\n",
       "      <td>...</td>\n",
       "      <td>...</td>\n",
       "      <td>...</td>\n",
       "      <td>...</td>\n",
       "      <td>...</td>\n",
       "      <td>...</td>\n",
       "      <td>...</td>\n",
       "    </tr>\n",
       "    <tr>\n",
       "      <th>491</th>\n",
       "      <td>1494</td>\n",
       "      <td>17.0</td>\n",
       "      <td>162.0</td>\n",
       "      <td>15.0</td>\n",
       "      <td>smart</td>\n",
       "      <td>Омск</td>\n",
       "      <td>950.0</td>\n",
       "    </tr>\n",
       "    <tr>\n",
       "      <th>493</th>\n",
       "      <td>1496</td>\n",
       "      <td>58.0</td>\n",
       "      <td>499.0</td>\n",
       "      <td>39.0</td>\n",
       "      <td>smart</td>\n",
       "      <td>Вологда</td>\n",
       "      <td>9150.0</td>\n",
       "    </tr>\n",
       "    <tr>\n",
       "      <th>494</th>\n",
       "      <td>1497</td>\n",
       "      <td>9.0</td>\n",
       "      <td>117.0</td>\n",
       "      <td>4.0</td>\n",
       "      <td>smart</td>\n",
       "      <td>Челябинск</td>\n",
       "      <td>550.0</td>\n",
       "    </tr>\n",
       "    <tr>\n",
       "      <th>495</th>\n",
       "      <td>1498</td>\n",
       "      <td>16.0</td>\n",
       "      <td>108.0</td>\n",
       "      <td>14.0</td>\n",
       "      <td>smart</td>\n",
       "      <td>Владикавказ</td>\n",
       "      <td>750.0</td>\n",
       "    </tr>\n",
       "    <tr>\n",
       "      <th>496</th>\n",
       "      <td>1499</td>\n",
       "      <td>11.0</td>\n",
       "      <td>135.0</td>\n",
       "      <td>15.0</td>\n",
       "      <td>smart</td>\n",
       "      <td>Пермь</td>\n",
       "      <td>550.0</td>\n",
       "    </tr>\n",
       "  </tbody>\n",
       "</table>\n",
       "<p>350 rows × 7 columns</p>\n",
       "</div>"
      ],
      "text/plain": [
       "     user_id  gb_used  minutes_used  messages tariff              city  \\\n",
       "1       1001      7.0          70.0      15.0  smart            Москва   \n",
       "2       1002     25.0         126.0       6.0  smart       Стерлитамак   \n",
       "5       1005     21.0         550.0      46.0  smart  Набережные Челны   \n",
       "6       1006     34.0         292.0      15.0  smart         Ульяновск   \n",
       "7       1007     30.0         365.0      19.0  smart            Москва   \n",
       "..       ...      ...           ...       ...    ...               ...   \n",
       "491     1494     17.0         162.0      15.0  smart              Омск   \n",
       "493     1496     58.0         499.0      39.0  smart           Вологда   \n",
       "494     1497      9.0         117.0       4.0  smart         Челябинск   \n",
       "495     1498     16.0         108.0      14.0  smart       Владикавказ   \n",
       "496     1499     11.0         135.0      15.0  smart             Пермь   \n",
       "\n",
       "     payment  \n",
       "1      550.0  \n",
       "2     2550.0  \n",
       "5     1900.0  \n",
       "6     4350.0  \n",
       "7     3550.0  \n",
       "..       ...  \n",
       "491    950.0  \n",
       "493   9150.0  \n",
       "494    550.0  \n",
       "495    750.0  \n",
       "496    550.0  \n",
       "\n",
       "[350 rows x 7 columns]"
      ]
     },
     "execution_count": 129,
     "metadata": {},
     "output_type": "execute_result"
    }
   ],
   "source": [
    "smart_mnth['payment'] = (((smart_mnth['minutes_used'] - 500).clip(lower=0)) * 3) + (((smart_mnth['gb_used'] - 15).clip(lower=0)) * 200) + (((smart_mnth['messages'] - 50).clip(lower=0)) * 3) + 550\n",
    "smart_mnth"
   ]
  },
  {
   "cell_type": "code",
   "execution_count": 130,
   "metadata": {},
   "outputs": [
    {
     "data": {
      "text/plain": [
       "1750.0"
      ]
     },
     "execution_count": 130,
     "metadata": {},
     "output_type": "execute_result"
    }
   ],
   "source": [
    "smart_mnth['payment'].median()"
   ]
  },
  {
   "cell_type": "code",
   "execution_count": 131,
   "metadata": {},
   "outputs": [
    {
     "data": {
      "text/html": [
       "<div>\n",
       "<style scoped>\n",
       "    .dataframe tbody tr th:only-of-type {\n",
       "        vertical-align: middle;\n",
       "    }\n",
       "\n",
       "    .dataframe tbody tr th {\n",
       "        vertical-align: top;\n",
       "    }\n",
       "\n",
       "    .dataframe thead th {\n",
       "        text-align: right;\n",
       "    }\n",
       "</style>\n",
       "<table border=\"1\" class=\"dataframe\">\n",
       "  <thead>\n",
       "    <tr style=\"text-align: right;\">\n",
       "      <th></th>\n",
       "      <th>user_id</th>\n",
       "      <th>gb_used</th>\n",
       "      <th>minutes_used</th>\n",
       "      <th>messages</th>\n",
       "      <th>tariff</th>\n",
       "      <th>city</th>\n",
       "      <th>payment</th>\n",
       "    </tr>\n",
       "  </thead>\n",
       "  <tbody>\n",
       "    <tr>\n",
       "      <th>0</th>\n",
       "      <td>1000</td>\n",
       "      <td>17.0</td>\n",
       "      <td>214.0</td>\n",
       "      <td>41.0</td>\n",
       "      <td>ultra</td>\n",
       "      <td>Краснодар</td>\n",
       "      <td>1950.0</td>\n",
       "    </tr>\n",
       "    <tr>\n",
       "      <th>3</th>\n",
       "      <td>1003</td>\n",
       "      <td>9.0</td>\n",
       "      <td>318.0</td>\n",
       "      <td>32.0</td>\n",
       "      <td>ultra</td>\n",
       "      <td>Москва</td>\n",
       "      <td>1950.0</td>\n",
       "    </tr>\n",
       "    <tr>\n",
       "      <th>4</th>\n",
       "      <td>1004</td>\n",
       "      <td>24.0</td>\n",
       "      <td>82.0</td>\n",
       "      <td>99.0</td>\n",
       "      <td>ultra</td>\n",
       "      <td>Новокузнецк</td>\n",
       "      <td>1950.0</td>\n",
       "    </tr>\n",
       "    <tr>\n",
       "      <th>13</th>\n",
       "      <td>1013</td>\n",
       "      <td>5.0</td>\n",
       "      <td>78.0</td>\n",
       "      <td>4.0</td>\n",
       "      <td>ultra</td>\n",
       "      <td>Иваново</td>\n",
       "      <td>1950.0</td>\n",
       "    </tr>\n",
       "    <tr>\n",
       "      <th>16</th>\n",
       "      <td>1016</td>\n",
       "      <td>4.0</td>\n",
       "      <td>10.0</td>\n",
       "      <td>12.0</td>\n",
       "      <td>ultra</td>\n",
       "      <td>Омск</td>\n",
       "      <td>1950.0</td>\n",
       "    </tr>\n",
       "    <tr>\n",
       "      <th>...</th>\n",
       "      <td>...</td>\n",
       "      <td>...</td>\n",
       "      <td>...</td>\n",
       "      <td>...</td>\n",
       "      <td>...</td>\n",
       "      <td>...</td>\n",
       "      <td>...</td>\n",
       "    </tr>\n",
       "    <tr>\n",
       "      <th>473</th>\n",
       "      <td>1476</td>\n",
       "      <td>25.0</td>\n",
       "      <td>350.0</td>\n",
       "      <td>4.0</td>\n",
       "      <td>ultra</td>\n",
       "      <td>Москва</td>\n",
       "      <td>1950.0</td>\n",
       "    </tr>\n",
       "    <tr>\n",
       "      <th>482</th>\n",
       "      <td>1485</td>\n",
       "      <td>4.0</td>\n",
       "      <td>49.0</td>\n",
       "      <td>13.0</td>\n",
       "      <td>ultra</td>\n",
       "      <td>Киров</td>\n",
       "      <td>1950.0</td>\n",
       "    </tr>\n",
       "    <tr>\n",
       "      <th>488</th>\n",
       "      <td>1491</td>\n",
       "      <td>26.0</td>\n",
       "      <td>385.0</td>\n",
       "      <td>36.0</td>\n",
       "      <td>ultra</td>\n",
       "      <td>Челябинск</td>\n",
       "      <td>1950.0</td>\n",
       "    </tr>\n",
       "    <tr>\n",
       "      <th>490</th>\n",
       "      <td>1493</td>\n",
       "      <td>9.0</td>\n",
       "      <td>62.0</td>\n",
       "      <td>8.0</td>\n",
       "      <td>ultra</td>\n",
       "      <td>Красноярск</td>\n",
       "      <td>1950.0</td>\n",
       "    </tr>\n",
       "    <tr>\n",
       "      <th>492</th>\n",
       "      <td>1495</td>\n",
       "      <td>21.0</td>\n",
       "      <td>327.0</td>\n",
       "      <td>28.0</td>\n",
       "      <td>ultra</td>\n",
       "      <td>Иркутск</td>\n",
       "      <td>1950.0</td>\n",
       "    </tr>\n",
       "  </tbody>\n",
       "</table>\n",
       "<p>147 rows × 7 columns</p>\n",
       "</div>"
      ],
      "text/plain": [
       "     user_id  gb_used  minutes_used  messages tariff         city  payment\n",
       "0       1000     17.0         214.0      41.0  ultra    Краснодар   1950.0\n",
       "3       1003      9.0         318.0      32.0  ultra       Москва   1950.0\n",
       "4       1004     24.0          82.0      99.0  ultra  Новокузнецк   1950.0\n",
       "13      1013      5.0          78.0       4.0  ultra      Иваново   1950.0\n",
       "16      1016      4.0          10.0      12.0  ultra         Омск   1950.0\n",
       "..       ...      ...           ...       ...    ...          ...      ...\n",
       "473     1476     25.0         350.0       4.0  ultra       Москва   1950.0\n",
       "482     1485      4.0          49.0      13.0  ultra        Киров   1950.0\n",
       "488     1491     26.0         385.0      36.0  ultra    Челябинск   1950.0\n",
       "490     1493      9.0          62.0       8.0  ultra   Красноярск   1950.0\n",
       "492     1495     21.0         327.0      28.0  ultra      Иркутск   1950.0\n",
       "\n",
       "[147 rows x 7 columns]"
      ]
     },
     "execution_count": 131,
     "metadata": {},
     "output_type": "execute_result"
    }
   ],
   "source": [
    "ultra_mnth['payment'] = (((ultra_mnth['minutes_used'] - 3000).clip(lower=0)) * 1) + (((ultra_mnth['gb_used'] - 30).clip(lower=0)) * 150) + (((ultra_mnth['messages'] - 1000).clip(lower=0)) * 1) + 1950\n",
    "ultra_mnth"
   ]
  },
  {
   "cell_type": "code",
   "execution_count": 132,
   "metadata": {},
   "outputs": [
    {
     "data": {
      "text/plain": [
       "1950.0"
      ]
     },
     "execution_count": 132,
     "metadata": {},
     "output_type": "execute_result"
    }
   ],
   "source": [
    "ultra_mnth['payment'].median()"
   ]
  },
  {
   "cell_type": "markdown",
   "metadata": {},
   "source": [
    "### Вывод"
   ]
  },
  {
   "cell_type": "markdown",
   "metadata": {},
   "source": [
    "Интересно то, что потребности пользователей тарифа Смарт зачастую сильно превышают лимиты - и абоненты вынуждены переплачивать, отдавая сумму, которая, в среднем, примерно в три раза больше платы за сам тариф. Однако, данная сумма (1780) все равно меньше платы за тариф Ультра (1950) - и, видимо, этим и мотивировано желание абонентов оставаться на Смарте."
   ]
  },
  {
   "cell_type": "markdown",
   "metadata": {},
   "source": [
    "## Статистические рассчеты"
   ]
  },
  {
   "cell_type": "markdown",
   "metadata": {},
   "source": [
    "### Среднее, дисперсия и стандартное отклонение"
   ]
  },
  {
   "cell_type": "code",
   "execution_count": 133,
   "metadata": {},
   "outputs": [
    {
     "data": {
      "text/plain": [
       "'Средние показатели по тарифу Smart:'"
      ]
     },
     "metadata": {},
     "output_type": "display_data"
    },
    {
     "data": {
      "text/plain": [
       "'Интернет'"
      ]
     },
     "metadata": {},
     "output_type": "display_data"
    },
    {
     "data": {
      "text/plain": [
       "22.542857142857144"
      ]
     },
     "metadata": {},
     "output_type": "display_data"
    },
    {
     "data": {
      "text/plain": [
       "'Звонки'"
      ]
     },
     "metadata": {},
     "output_type": "display_data"
    },
    {
     "data": {
      "text/plain": [
       "222.36285714285714"
      ]
     },
     "metadata": {},
     "output_type": "display_data"
    },
    {
     "data": {
      "text/plain": [
       "'Сообщения'"
      ]
     },
     "metadata": {},
     "output_type": "display_data"
    },
    {
     "data": {
      "text/plain": [
       "19.78"
      ]
     },
     "metadata": {},
     "output_type": "display_data"
    },
    {
     "data": {
      "text/plain": [
       "'Средние показатели по тарифу Ultra:'"
      ]
     },
     "metadata": {},
     "output_type": "display_data"
    },
    {
     "data": {
      "text/plain": [
       "'Интернет'"
      ]
     },
     "metadata": {},
     "output_type": "display_data"
    },
    {
     "data": {
      "text/plain": [
       "21.292517006802722"
      ]
     },
     "metadata": {},
     "output_type": "display_data"
    },
    {
     "data": {
      "text/plain": [
       "'Звонки'"
      ]
     },
     "metadata": {},
     "output_type": "display_data"
    },
    {
     "data": {
      "text/plain": [
       "302.13605442176873"
      ]
     },
     "metadata": {},
     "output_type": "display_data"
    },
    {
     "data": {
      "text/plain": [
       "'Сообщения'"
      ]
     },
     "metadata": {},
     "output_type": "display_data"
    },
    {
     "data": {
      "text/plain": [
       "31.496598639455783"
      ]
     },
     "metadata": {},
     "output_type": "display_data"
    }
   ],
   "source": [
    "smart_internet_mean = smart_mnth['gb_used'].mean()\n",
    "smart_minutes_mean = smart_mnth['minutes_used'].mean()\n",
    "smart_messages_mean = smart_mnth['messages'].mean()\n",
    "display('Средние показатели по тарифу Smart:', 'Интернет', smart_internet_mean, 'Звонки', smart_minutes_mean, 'Сообщения', smart_messages_mean)\n",
    "\n",
    "ultra_internet_mean = ultra_mnth['gb_used'].mean()\n",
    "ultra_minutes_mean = ultra_mnth['minutes_used'].mean()\n",
    "ultra_messages_mean = ultra_mnth['messages'].mean()\n",
    "display('Средние показатели по тарифу Ultra:', 'Интернет', ultra_internet_mean, 'Звонки', ultra_minutes_mean, 'Сообщения', ultra_messages_mean)"
   ]
  },
  {
   "cell_type": "code",
   "execution_count": 134,
   "metadata": {},
   "outputs": [
    {
     "data": {
      "text/plain": [
       "'Smart:'"
      ]
     },
     "metadata": {},
     "output_type": "display_data"
    },
    {
     "data": {
      "text/html": [
       "<div>\n",
       "<style scoped>\n",
       "    .dataframe tbody tr th:only-of-type {\n",
       "        vertical-align: middle;\n",
       "    }\n",
       "\n",
       "    .dataframe tbody tr th {\n",
       "        vertical-align: top;\n",
       "    }\n",
       "\n",
       "    .dataframe thead tr th {\n",
       "        text-align: left;\n",
       "    }\n",
       "\n",
       "    .dataframe thead tr:last-of-type th {\n",
       "        text-align: right;\n",
       "    }\n",
       "</style>\n",
       "<table border=\"1\" class=\"dataframe\">\n",
       "  <thead>\n",
       "    <tr>\n",
       "      <th></th>\n",
       "      <th>mean</th>\n",
       "      <th>var</th>\n",
       "      <th>std</th>\n",
       "    </tr>\n",
       "    <tr>\n",
       "      <th></th>\n",
       "      <th>gb_used</th>\n",
       "      <th>gb_used</th>\n",
       "      <th>gb_used</th>\n",
       "    </tr>\n",
       "    <tr>\n",
       "      <th>tariff</th>\n",
       "      <th></th>\n",
       "      <th></th>\n",
       "      <th></th>\n",
       "    </tr>\n",
       "  </thead>\n",
       "  <tbody>\n",
       "    <tr>\n",
       "      <th>smart</th>\n",
       "      <td>22.542857</td>\n",
       "      <td>171.675808</td>\n",
       "      <td>13.102512</td>\n",
       "    </tr>\n",
       "  </tbody>\n",
       "</table>\n",
       "</div>"
      ],
      "text/plain": [
       "             mean         var        std\n",
       "          gb_used     gb_used    gb_used\n",
       "tariff                                  \n",
       "smart   22.542857  171.675808  13.102512"
      ]
     },
     "metadata": {},
     "output_type": "display_data"
    },
    {
     "data": {
      "text/html": [
       "<div>\n",
       "<style scoped>\n",
       "    .dataframe tbody tr th:only-of-type {\n",
       "        vertical-align: middle;\n",
       "    }\n",
       "\n",
       "    .dataframe tbody tr th {\n",
       "        vertical-align: top;\n",
       "    }\n",
       "\n",
       "    .dataframe thead tr th {\n",
       "        text-align: left;\n",
       "    }\n",
       "\n",
       "    .dataframe thead tr:last-of-type th {\n",
       "        text-align: right;\n",
       "    }\n",
       "</style>\n",
       "<table border=\"1\" class=\"dataframe\">\n",
       "  <thead>\n",
       "    <tr>\n",
       "      <th></th>\n",
       "      <th>mean</th>\n",
       "      <th>var</th>\n",
       "      <th>std</th>\n",
       "    </tr>\n",
       "    <tr>\n",
       "      <th></th>\n",
       "      <th>minutes_used</th>\n",
       "      <th>minutes_used</th>\n",
       "      <th>minutes_used</th>\n",
       "    </tr>\n",
       "    <tr>\n",
       "      <th>tariff</th>\n",
       "      <th></th>\n",
       "      <th></th>\n",
       "      <th></th>\n",
       "    </tr>\n",
       "  </thead>\n",
       "  <tbody>\n",
       "    <tr>\n",
       "      <th>smart</th>\n",
       "      <td>222.362857</td>\n",
       "      <td>21075.544175</td>\n",
       "      <td>145.174186</td>\n",
       "    </tr>\n",
       "  </tbody>\n",
       "</table>\n",
       "</div>"
      ],
      "text/plain": [
       "               mean           var          std\n",
       "       minutes_used  minutes_used minutes_used\n",
       "tariff                                        \n",
       "smart    222.362857  21075.544175   145.174186"
      ]
     },
     "metadata": {},
     "output_type": "display_data"
    },
    {
     "data": {
      "text/html": [
       "<div>\n",
       "<style scoped>\n",
       "    .dataframe tbody tr th:only-of-type {\n",
       "        vertical-align: middle;\n",
       "    }\n",
       "\n",
       "    .dataframe tbody tr th {\n",
       "        vertical-align: top;\n",
       "    }\n",
       "\n",
       "    .dataframe thead tr th {\n",
       "        text-align: left;\n",
       "    }\n",
       "\n",
       "    .dataframe thead tr:last-of-type th {\n",
       "        text-align: right;\n",
       "    }\n",
       "</style>\n",
       "<table border=\"1\" class=\"dataframe\">\n",
       "  <thead>\n",
       "    <tr>\n",
       "      <th></th>\n",
       "      <th>mean</th>\n",
       "      <th>var</th>\n",
       "      <th>std</th>\n",
       "    </tr>\n",
       "    <tr>\n",
       "      <th></th>\n",
       "      <th>messages</th>\n",
       "      <th>messages</th>\n",
       "      <th>messages</th>\n",
       "    </tr>\n",
       "    <tr>\n",
       "      <th>tariff</th>\n",
       "      <th></th>\n",
       "      <th></th>\n",
       "      <th></th>\n",
       "    </tr>\n",
       "  </thead>\n",
       "  <tbody>\n",
       "    <tr>\n",
       "      <th>smart</th>\n",
       "      <td>19.78</td>\n",
       "      <td>300.137708</td>\n",
       "      <td>17.324483</td>\n",
       "    </tr>\n",
       "  </tbody>\n",
       "</table>\n",
       "</div>"
      ],
      "text/plain": [
       "           mean         var        std\n",
       "       messages    messages   messages\n",
       "tariff                                \n",
       "smart     19.78  300.137708  17.324483"
      ]
     },
     "metadata": {},
     "output_type": "display_data"
    }
   ],
   "source": [
    "display('Smart:',\n",
    "    smart_mnth.pivot_table(index= 'tariff', values= 'gb_used', aggfunc= ['mean', 'var','std']),\n",
    "    smart_mnth.pivot_table(index= 'tariff', values= 'minutes_used', aggfunc= ['mean', 'var','std']),\n",
    "    smart_mnth.pivot_table(index= 'tariff', values= 'messages', aggfunc= ['mean', 'var','std'])\n",
    ")"
   ]
  },
  {
   "cell_type": "code",
   "execution_count": 135,
   "metadata": {},
   "outputs": [
    {
     "data": {
      "text/plain": [
       "'Стандартное отклонение по тарифу Smart:'"
      ]
     },
     "metadata": {},
     "output_type": "display_data"
    },
    {
     "data": {
      "text/plain": [
       "'Интернет'"
      ]
     },
     "metadata": {},
     "output_type": "display_data"
    },
    {
     "data": {
      "text/plain": [
       "13.102511531468133"
      ]
     },
     "metadata": {},
     "output_type": "display_data"
    },
    {
     "data": {
      "text/plain": [
       "'Звонки'"
      ]
     },
     "metadata": {},
     "output_type": "display_data"
    },
    {
     "data": {
      "text/plain": [
       "145.17418563640862"
      ]
     },
     "metadata": {},
     "output_type": "display_data"
    },
    {
     "data": {
      "text/plain": [
       "'Сообщения'"
      ]
     },
     "metadata": {},
     "output_type": "display_data"
    },
    {
     "data": {
      "text/plain": [
       "17.324482899538147"
      ]
     },
     "metadata": {},
     "output_type": "display_data"
    },
    {
     "data": {
      "text/plain": [
       "'Стандартное отклонение по тарифу Ultra:'"
      ]
     },
     "metadata": {},
     "output_type": "display_data"
    },
    {
     "data": {
      "text/plain": [
       "'Интернет'"
      ]
     },
     "metadata": {},
     "output_type": "display_data"
    },
    {
     "data": {
      "text/plain": [
       "14.280560061709018"
      ]
     },
     "metadata": {},
     "output_type": "display_data"
    },
    {
     "data": {
      "text/plain": [
       "'Звонки'"
      ]
     },
     "metadata": {},
     "output_type": "display_data"
    },
    {
     "data": {
      "text/plain": [
       "217.31363104766416"
      ]
     },
     "metadata": {},
     "output_type": "display_data"
    },
    {
     "data": {
      "text/plain": [
       "'Сообщения'"
      ]
     },
     "metadata": {},
     "output_type": "display_data"
    },
    {
     "data": {
      "text/plain": [
       "25.61607322619115"
      ]
     },
     "metadata": {},
     "output_type": "display_data"
    }
   ],
   "source": [
    "smart_internet_deviation = np.std(smart_mnth['gb_used'], ddof=1)\n",
    "smart_minutes_deviation = np.std(smart_mnth['minutes_used'], ddof=1)\n",
    "smart_messages_deviation = np.std(smart_mnth['messages'], ddof=1)\n",
    "display('Стандартное отклонение по тарифу Smart:', 'Интернет', smart_internet_deviation, 'Звонки', smart_minutes_deviation, 'Сообщения', smart_messages_deviation)\n",
    "\n",
    "ultra_internet_deviation = np.std(ultra_mnth['gb_used'], ddof=1)\n",
    "ultra_minutes_deviation = np.std(ultra_mnth['minutes_used'], ddof=1)\n",
    "ultra_messages_deviation = np.std(ultra_mnth['messages'], ddof=1)\n",
    "display('Стандартное отклонение по тарифу Ultra:', 'Интернет', ultra_internet_deviation, 'Звонки', ultra_minutes_deviation, 'Сообщения', ultra_messages_deviation)"
   ]
  },
  {
   "cell_type": "code",
   "execution_count": 136,
   "metadata": {},
   "outputs": [
    {
     "data": {
      "text/plain": [
       "'Дисперсия по тарифу Smart:'"
      ]
     },
     "metadata": {},
     "output_type": "display_data"
    },
    {
     "data": {
      "text/plain": [
       "'Интернет'"
      ]
     },
     "metadata": {},
     "output_type": "display_data"
    },
    {
     "data": {
      "text/plain": [
       "171.67580843225542"
      ]
     },
     "metadata": {},
     "output_type": "display_data"
    },
    {
     "data": {
      "text/plain": [
       "'Звонки'"
      ]
     },
     "metadata": {},
     "output_type": "display_data"
    },
    {
     "data": {
      "text/plain": [
       "21075.54417519443"
      ]
     },
     "metadata": {},
     "output_type": "display_data"
    },
    {
     "data": {
      "text/plain": [
       "'Сообщения'"
      ]
     },
     "metadata": {},
     "output_type": "display_data"
    },
    {
     "data": {
      "text/plain": [
       "300.1377077363897"
      ]
     },
     "metadata": {},
     "output_type": "display_data"
    },
    {
     "data": {
      "text/plain": [
       "'Дисперсия по тарифу Ultra:'"
      ]
     },
     "metadata": {},
     "output_type": "display_data"
    },
    {
     "data": {
      "text/plain": [
       "'Интернет'"
      ]
     },
     "metadata": {},
     "output_type": "display_data"
    },
    {
     "data": {
      "text/plain": [
       "203.93439567607868"
      ]
     },
     "metadata": {},
     "output_type": "display_data"
    },
    {
     "data": {
      "text/plain": [
       "'Звонки'"
      ]
     },
     "metadata": {},
     "output_type": "display_data"
    },
    {
     "data": {
      "text/plain": [
       "47225.21423912031"
      ]
     },
     "metadata": {},
     "output_type": "display_data"
    },
    {
     "data": {
      "text/plain": [
       "'Сообщения'"
      ]
     },
     "metadata": {},
     "output_type": "display_data"
    },
    {
     "data": {
      "text/plain": [
       "656.1832075295872"
      ]
     },
     "metadata": {},
     "output_type": "display_data"
    }
   ],
   "source": [
    "smart_internet_var = np.var(smart_mnth['gb_used'], ddof=1)\n",
    "smart_minutes_var = np.var(smart_mnth['minutes_used'], ddof=1)\n",
    "smart_messages_var = np.var(smart_mnth['messages'], ddof=1)\n",
    "display('Дисперсия по тарифу Smart:', 'Интернет', smart_internet_var, 'Звонки', smart_minutes_var, 'Сообщения', smart_messages_var)\n",
    "\n",
    "ultra_internet_var = np.var(ultra_mnth['gb_used'], ddof=1)\n",
    "ultra_minutes_var = np.var(ultra_mnth['minutes_used'], ddof=1)\n",
    "ultra_messages_var = np.var(ultra_mnth['messages'], ddof=1)\n",
    "display('Дисперсия по тарифу Ultra:', 'Интернет', ultra_internet_var, 'Звонки', ultra_minutes_var, 'Сообщения', ultra_messages_var)"
   ]
  },
  {
   "cell_type": "markdown",
   "metadata": {},
   "source": [
    "### Вывод"
   ]
  },
  {
   "cell_type": "markdown",
   "metadata": {},
   "source": [
    "### Гистаграммы и распределения"
   ]
  },
  {
   "cell_type": "code",
   "execution_count": 137,
   "metadata": {},
   "outputs": [
    {
     "data": {
      "text/plain": [
       "<matplotlib.legend.Legend at 0x7f1a7ffafca0>"
      ]
     },
     "execution_count": 137,
     "metadata": {},
     "output_type": "execute_result"
    },
    {
     "data": {
      "image/png": "[encoded data removed]",
      "text/plain": [
       "<Figure size 432x288 with 1 Axes>"
      ]
     },
     "metadata": {
      "needs_background": "light"
     },
     "output_type": "display_data"
    }
   ],
   "source": [
    "smart_mnth['gb_used'].hist(bins=20, range=(0, 70), alpha=0.7, label='Smart')\n",
    "ultra_mnth['gb_used'].hist(bins=20, range=(0, 70), alpha=0.7, label='Ultra')\n",
    "plt.legend()"
   ]
  },
  {
   "cell_type": "code",
   "execution_count": 138,
   "metadata": {},
   "outputs": [
    {
     "data": {
      "text/plain": [
       "<matplotlib.legend.Legend at 0x7f1a332da9a0>"
      ]
     },
     "execution_count": 138,
     "metadata": {},
     "output_type": "execute_result"
    },
    {
     "data": {
      "image/png": "[encoded data removed]",
      "text/plain": [
       "<Figure size 432x288 with 1 Axes>"
      ]
     },
     "metadata": {
      "needs_background": "light"
     },
     "output_type": "display_data"
    }
   ],
   "source": [
    "smart_mnth['minutes_used'].hist(bins=20, range=(0, 1000), alpha=0.7, label='Smart')\n",
    "ultra_mnth['minutes_used'].hist(bins=20, range=(0, 1000), alpha=0.7, label='Ultra')\n",
    "plt.legend()"
   ]
  },
  {
   "cell_type": "code",
   "execution_count": 139,
   "metadata": {},
   "outputs": [
    {
     "data": {
      "text/plain": [
       "<matplotlib.legend.Legend at 0x7f1a48f8fa00>"
      ]
     },
     "execution_count": 139,
     "metadata": {},
     "output_type": "execute_result"
    },
    {
     "data": {
      "image/png": "[encoded data removed]",
      "text/plain": [
       "<Figure size 432x288 with 1 Axes>"
      ]
     },
     "metadata": {
      "needs_background": "light"
     },
     "output_type": "display_data"
    }
   ],
   "source": [
    "smart_mnth['messages'].hist(bins=20, range=(0, 150), alpha=0.7, label='Smart')\n",
    "ultra_mnth['messages'].hist(bins=20, range=(0, 150), alpha=0.7, label='Ultra')\n",
    "plt.legend()"
   ]
  },
  {
   "cell_type": "markdown",
   "metadata": {},
   "source": [
    "### Вывод"
   ]
  },
  {
   "cell_type": "markdown",
   "metadata": {},
   "source": [
    "В целом, гистаграмы расходонавия интернет-трафика и минут выглядят схоже у абонентов обоих тарифов - большая часть значений лежит в пределах до 40 ГБ и 400 минут, однако, использование интернета свыше 60 ГБ и минут свыше 800 наблюдается только у абонентов Ультра. Что касается СМС-сообщений, то для пользователей тарифа Смарт большая часть значений лежит в пределах двадцати сообщений в месяц, а для пользователей Ультра - сорока, также, значения, превышающие сотню сообщений в месяц наблюдаются только у абонентов Ультра."
   ]
  },
  {
   "cell_type": "markdown",
   "metadata": {},
   "source": [
    "## Проверка гипотез"
   ]
  },
  {
   "cell_type": "markdown",
   "metadata": {},
   "source": [
    "### Нулевая гипотеза первая: средняя выручка пользователей тарифов «Ультра» и «Смарт» одинакова"
   ]
  },
  {
   "cell_type": "code",
   "execution_count": 140,
   "metadata": {},
   "outputs": [
    {
     "name": "stdout",
     "output_type": "stream",
     "text": [
      "p-значение: 0.29459322878588595\n",
      "Не получилось отвергнуть нулевую гипотезу\n"
     ]
    }
   ],
   "source": [
    "sample_1 = smart_mnth['payment']\n",
    "sample_2 = ultra_mnth['payment']\n",
    "\n",
    "alpha = .05\n",
    "\n",
    "results = st.ttest_ind(\n",
    "    sample_1, \n",
    "    sample_2,\n",
    "    equal_var = False)\n",
    "\n",
    "print('p-значение:', results.pvalue)\n",
    "\n",
    "if results.pvalue < alpha:\n",
    "    print(\"Отвергаем нулевую гипотезу\")\n",
    "else:\n",
    "    print(\"Не получилось отвергнуть нулевую гипотезу\")"
   ]
  },
  {
   "cell_type": "markdown",
   "metadata": {},
   "source": [
    "### Вывод"
   ]
  },
  {
   "cell_type": "markdown",
   "metadata": {},
   "source": [
    "Хоть мы и увидели, что средние затраты пользователей разнятся (1780 у тарифа Smart и 1950 - Ultra), но высокое значение p-value (более 30%) доказывает, что значимого различия между затратами, в целом, нет. Следовательно, мы не можем отвергнуть нулевую гипотезу, которая гласит: средняя выручка пользователей тарифов «Ультра» и «Смарт» одинакова."
   ]
  },
  {
   "cell_type": "markdown",
   "metadata": {},
   "source": [
    "### Нулевая гипотеза вторая: средняя выручка пользователей из Москвы аналогична выручке пользователей из других регионов"
   ]
  },
  {
   "cell_type": "code",
   "execution_count": 141,
   "metadata": {
    "scrolled": false
   },
   "outputs": [
    {
     "data": {
      "text/plain": [
       "'Данные по тарифу Smart:'"
      ]
     },
     "metadata": {},
     "output_type": "display_data"
    },
    {
     "data": {
      "text/html": [
       "<div>\n",
       "<style scoped>\n",
       "    .dataframe tbody tr th:only-of-type {\n",
       "        vertical-align: middle;\n",
       "    }\n",
       "\n",
       "    .dataframe tbody tr th {\n",
       "        vertical-align: top;\n",
       "    }\n",
       "\n",
       "    .dataframe thead th {\n",
       "        text-align: right;\n",
       "    }\n",
       "</style>\n",
       "<table border=\"1\" class=\"dataframe\">\n",
       "  <thead>\n",
       "    <tr style=\"text-align: right;\">\n",
       "      <th></th>\n",
       "      <th>user_id</th>\n",
       "      <th>gb_used</th>\n",
       "      <th>minutes_used</th>\n",
       "      <th>messages</th>\n",
       "      <th>tariff</th>\n",
       "      <th>city</th>\n",
       "      <th>payment</th>\n",
       "    </tr>\n",
       "  </thead>\n",
       "  <tbody>\n",
       "    <tr>\n",
       "      <th>1</th>\n",
       "      <td>1001</td>\n",
       "      <td>7.0</td>\n",
       "      <td>70.0</td>\n",
       "      <td>15.0</td>\n",
       "      <td>smart</td>\n",
       "      <td>Москва</td>\n",
       "      <td>550.0</td>\n",
       "    </tr>\n",
       "    <tr>\n",
       "      <th>7</th>\n",
       "      <td>1007</td>\n",
       "      <td>30.0</td>\n",
       "      <td>365.0</td>\n",
       "      <td>19.0</td>\n",
       "      <td>smart</td>\n",
       "      <td>Москва</td>\n",
       "      <td>3550.0</td>\n",
       "    </tr>\n",
       "    <tr>\n",
       "      <th>31</th>\n",
       "      <td>1031</td>\n",
       "      <td>5.0</td>\n",
       "      <td>102.0</td>\n",
       "      <td>4.0</td>\n",
       "      <td>smart</td>\n",
       "      <td>Москва</td>\n",
       "      <td>550.0</td>\n",
       "    </tr>\n",
       "    <tr>\n",
       "      <th>33</th>\n",
       "      <td>1033</td>\n",
       "      <td>27.0</td>\n",
       "      <td>175.0</td>\n",
       "      <td>34.0</td>\n",
       "      <td>smart</td>\n",
       "      <td>Москва</td>\n",
       "      <td>2950.0</td>\n",
       "    </tr>\n",
       "    <tr>\n",
       "      <th>38</th>\n",
       "      <td>1038</td>\n",
       "      <td>10.0</td>\n",
       "      <td>80.0</td>\n",
       "      <td>2.0</td>\n",
       "      <td>smart</td>\n",
       "      <td>Москва</td>\n",
       "      <td>550.0</td>\n",
       "    </tr>\n",
       "    <tr>\n",
       "      <th>...</th>\n",
       "      <td>...</td>\n",
       "      <td>...</td>\n",
       "      <td>...</td>\n",
       "      <td>...</td>\n",
       "      <td>...</td>\n",
       "      <td>...</td>\n",
       "      <td>...</td>\n",
       "    </tr>\n",
       "    <tr>\n",
       "      <th>444</th>\n",
       "      <td>1447</td>\n",
       "      <td>15.0</td>\n",
       "      <td>207.0</td>\n",
       "      <td>18.0</td>\n",
       "      <td>smart</td>\n",
       "      <td>Москва</td>\n",
       "      <td>550.0</td>\n",
       "    </tr>\n",
       "    <tr>\n",
       "      <th>446</th>\n",
       "      <td>1449</td>\n",
       "      <td>18.0</td>\n",
       "      <td>267.0</td>\n",
       "      <td>45.0</td>\n",
       "      <td>smart</td>\n",
       "      <td>Москва</td>\n",
       "      <td>1150.0</td>\n",
       "    </tr>\n",
       "    <tr>\n",
       "      <th>447</th>\n",
       "      <td>1450</td>\n",
       "      <td>11.0</td>\n",
       "      <td>104.0</td>\n",
       "      <td>18.0</td>\n",
       "      <td>smart</td>\n",
       "      <td>Москва</td>\n",
       "      <td>550.0</td>\n",
       "    </tr>\n",
       "    <tr>\n",
       "      <th>478</th>\n",
       "      <td>1481</td>\n",
       "      <td>40.0</td>\n",
       "      <td>271.0</td>\n",
       "      <td>17.0</td>\n",
       "      <td>smart</td>\n",
       "      <td>Москва</td>\n",
       "      <td>5550.0</td>\n",
       "    </tr>\n",
       "    <tr>\n",
       "      <th>487</th>\n",
       "      <td>1490</td>\n",
       "      <td>33.0</td>\n",
       "      <td>228.0</td>\n",
       "      <td>35.0</td>\n",
       "      <td>smart</td>\n",
       "      <td>Москва</td>\n",
       "      <td>4150.0</td>\n",
       "    </tr>\n",
       "  </tbody>\n",
       "</table>\n",
       "<p>67 rows × 7 columns</p>\n",
       "</div>"
      ],
      "text/plain": [
       "     user_id  gb_used  minutes_used  messages tariff    city  payment\n",
       "1       1001      7.0          70.0      15.0  smart  Москва    550.0\n",
       "7       1007     30.0         365.0      19.0  smart  Москва   3550.0\n",
       "31      1031      5.0         102.0       4.0  smart  Москва    550.0\n",
       "33      1033     27.0         175.0      34.0  smart  Москва   2950.0\n",
       "38      1038     10.0          80.0       2.0  smart  Москва    550.0\n",
       "..       ...      ...           ...       ...    ...     ...      ...\n",
       "444     1447     15.0         207.0      18.0  smart  Москва    550.0\n",
       "446     1449     18.0         267.0      45.0  smart  Москва   1150.0\n",
       "447     1450     11.0         104.0      18.0  smart  Москва    550.0\n",
       "478     1481     40.0         271.0      17.0  smart  Москва   5550.0\n",
       "487     1490     33.0         228.0      35.0  smart  Москва   4150.0\n",
       "\n",
       "[67 rows x 7 columns]"
      ]
     },
     "metadata": {},
     "output_type": "display_data"
    },
    {
     "data": {
      "text/html": [
       "<div>\n",
       "<style scoped>\n",
       "    .dataframe tbody tr th:only-of-type {\n",
       "        vertical-align: middle;\n",
       "    }\n",
       "\n",
       "    .dataframe tbody tr th {\n",
       "        vertical-align: top;\n",
       "    }\n",
       "\n",
       "    .dataframe thead th {\n",
       "        text-align: right;\n",
       "    }\n",
       "</style>\n",
       "<table border=\"1\" class=\"dataframe\">\n",
       "  <thead>\n",
       "    <tr style=\"text-align: right;\">\n",
       "      <th></th>\n",
       "      <th>user_id</th>\n",
       "      <th>gb_used</th>\n",
       "      <th>minutes_used</th>\n",
       "      <th>messages</th>\n",
       "      <th>tariff</th>\n",
       "      <th>city</th>\n",
       "      <th>payment</th>\n",
       "    </tr>\n",
       "  </thead>\n",
       "  <tbody>\n",
       "    <tr>\n",
       "      <th>2</th>\n",
       "      <td>1002</td>\n",
       "      <td>25.0</td>\n",
       "      <td>126.0</td>\n",
       "      <td>6.0</td>\n",
       "      <td>smart</td>\n",
       "      <td>Стерлитамак</td>\n",
       "      <td>2550.0</td>\n",
       "    </tr>\n",
       "    <tr>\n",
       "      <th>5</th>\n",
       "      <td>1005</td>\n",
       "      <td>21.0</td>\n",
       "      <td>550.0</td>\n",
       "      <td>46.0</td>\n",
       "      <td>smart</td>\n",
       "      <td>Набережные Челны</td>\n",
       "      <td>1900.0</td>\n",
       "    </tr>\n",
       "    <tr>\n",
       "      <th>6</th>\n",
       "      <td>1006</td>\n",
       "      <td>34.0</td>\n",
       "      <td>292.0</td>\n",
       "      <td>15.0</td>\n",
       "      <td>smart</td>\n",
       "      <td>Ульяновск</td>\n",
       "      <td>4350.0</td>\n",
       "    </tr>\n",
       "    <tr>\n",
       "      <th>8</th>\n",
       "      <td>1008</td>\n",
       "      <td>3.0</td>\n",
       "      <td>28.0</td>\n",
       "      <td>5.0</td>\n",
       "      <td>smart</td>\n",
       "      <td>Челябинск</td>\n",
       "      <td>550.0</td>\n",
       "    </tr>\n",
       "    <tr>\n",
       "      <th>9</th>\n",
       "      <td>1009</td>\n",
       "      <td>37.0</td>\n",
       "      <td>182.0</td>\n",
       "      <td>9.0</td>\n",
       "      <td>smart</td>\n",
       "      <td>Пермь</td>\n",
       "      <td>4950.0</td>\n",
       "    </tr>\n",
       "    <tr>\n",
       "      <th>...</th>\n",
       "      <td>...</td>\n",
       "      <td>...</td>\n",
       "      <td>...</td>\n",
       "      <td>...</td>\n",
       "      <td>...</td>\n",
       "      <td>...</td>\n",
       "      <td>...</td>\n",
       "    </tr>\n",
       "    <tr>\n",
       "      <th>491</th>\n",
       "      <td>1494</td>\n",
       "      <td>17.0</td>\n",
       "      <td>162.0</td>\n",
       "      <td>15.0</td>\n",
       "      <td>smart</td>\n",
       "      <td>Омск</td>\n",
       "      <td>950.0</td>\n",
       "    </tr>\n",
       "    <tr>\n",
       "      <th>493</th>\n",
       "      <td>1496</td>\n",
       "      <td>58.0</td>\n",
       "      <td>499.0</td>\n",
       "      <td>39.0</td>\n",
       "      <td>smart</td>\n",
       "      <td>Вологда</td>\n",
       "      <td>9150.0</td>\n",
       "    </tr>\n",
       "    <tr>\n",
       "      <th>494</th>\n",
       "      <td>1497</td>\n",
       "      <td>9.0</td>\n",
       "      <td>117.0</td>\n",
       "      <td>4.0</td>\n",
       "      <td>smart</td>\n",
       "      <td>Челябинск</td>\n",
       "      <td>550.0</td>\n",
       "    </tr>\n",
       "    <tr>\n",
       "      <th>495</th>\n",
       "      <td>1498</td>\n",
       "      <td>16.0</td>\n",
       "      <td>108.0</td>\n",
       "      <td>14.0</td>\n",
       "      <td>smart</td>\n",
       "      <td>Владикавказ</td>\n",
       "      <td>750.0</td>\n",
       "    </tr>\n",
       "    <tr>\n",
       "      <th>496</th>\n",
       "      <td>1499</td>\n",
       "      <td>11.0</td>\n",
       "      <td>135.0</td>\n",
       "      <td>15.0</td>\n",
       "      <td>smart</td>\n",
       "      <td>Пермь</td>\n",
       "      <td>550.0</td>\n",
       "    </tr>\n",
       "  </tbody>\n",
       "</table>\n",
       "<p>283 rows × 7 columns</p>\n",
       "</div>"
      ],
      "text/plain": [
       "     user_id  gb_used  minutes_used  messages tariff              city  \\\n",
       "2       1002     25.0         126.0       6.0  smart       Стерлитамак   \n",
       "5       1005     21.0         550.0      46.0  smart  Набережные Челны   \n",
       "6       1006     34.0         292.0      15.0  smart         Ульяновск   \n",
       "8       1008      3.0          28.0       5.0  smart         Челябинск   \n",
       "9       1009     37.0         182.0       9.0  smart             Пермь   \n",
       "..       ...      ...           ...       ...    ...               ...   \n",
       "491     1494     17.0         162.0      15.0  smart              Омск   \n",
       "493     1496     58.0         499.0      39.0  smart           Вологда   \n",
       "494     1497      9.0         117.0       4.0  smart         Челябинск   \n",
       "495     1498     16.0         108.0      14.0  smart       Владикавказ   \n",
       "496     1499     11.0         135.0      15.0  smart             Пермь   \n",
       "\n",
       "     payment  \n",
       "2     2550.0  \n",
       "5     1900.0  \n",
       "6     4350.0  \n",
       "8      550.0  \n",
       "9     4950.0  \n",
       "..       ...  \n",
       "491    950.0  \n",
       "493   9150.0  \n",
       "494    550.0  \n",
       "495    750.0  \n",
       "496    550.0  \n",
       "\n",
       "[283 rows x 7 columns]"
      ]
     },
     "metadata": {},
     "output_type": "display_data"
    },
    {
     "data": {
      "text/plain": [
       "'Отношение числа пользователей из Москвы к числу пользователей из регионов:'"
      ]
     },
     "metadata": {},
     "output_type": "display_data"
    },
    {
     "data": {
      "text/plain": [
       "0.23674911660777384"
      ]
     },
     "metadata": {},
     "output_type": "display_data"
    },
    {
     "name": "stdout",
     "output_type": "stream",
     "text": [
      "<class 'pandas.core.frame.DataFrame'>\n",
      "Int64Index: 67 entries, 1 to 487\n",
      "Data columns (total 7 columns):\n",
      " #   Column        Non-Null Count  Dtype  \n",
      "---  ------        --------------  -----  \n",
      " 0   user_id       67 non-null     int64  \n",
      " 1   gb_used       67 non-null     float64\n",
      " 2   minutes_used  67 non-null     float64\n",
      " 3   messages      67 non-null     float64\n",
      " 4   tariff        67 non-null     object \n",
      " 5   city          67 non-null     object \n",
      " 6   payment       67 non-null     float64\n",
      "dtypes: float64(4), int64(1), object(2)\n",
      "memory usage: 4.2+ KB\n",
      "<class 'pandas.core.frame.DataFrame'>\n",
      "Int64Index: 283 entries, 2 to 496\n",
      "Data columns (total 7 columns):\n",
      " #   Column        Non-Null Count  Dtype  \n",
      "---  ------        --------------  -----  \n",
      " 0   user_id       283 non-null    int64  \n",
      " 1   gb_used       283 non-null    float64\n",
      " 2   minutes_used  283 non-null    float64\n",
      " 3   messages      283 non-null    float64\n",
      " 4   tariff        283 non-null    object \n",
      " 5   city          283 non-null    object \n",
      " 6   payment       283 non-null    float64\n",
      "dtypes: float64(4), int64(1), object(2)\n",
      "memory usage: 17.7+ KB\n"
     ]
    },
    {
     "data": {
      "text/plain": [
       "None"
      ]
     },
     "metadata": {},
     "output_type": "display_data"
    },
    {
     "data": {
      "text/plain": [
       "None"
      ]
     },
     "metadata": {},
     "output_type": "display_data"
    },
    {
     "data": {
      "text/plain": [
       "'Данные по тарифу Ultra:'"
      ]
     },
     "metadata": {},
     "output_type": "display_data"
    },
    {
     "data": {
      "text/html": [
       "<div>\n",
       "<style scoped>\n",
       "    .dataframe tbody tr th:only-of-type {\n",
       "        vertical-align: middle;\n",
       "    }\n",
       "\n",
       "    .dataframe tbody tr th {\n",
       "        vertical-align: top;\n",
       "    }\n",
       "\n",
       "    .dataframe thead th {\n",
       "        text-align: right;\n",
       "    }\n",
       "</style>\n",
       "<table border=\"1\" class=\"dataframe\">\n",
       "  <thead>\n",
       "    <tr style=\"text-align: right;\">\n",
       "      <th></th>\n",
       "      <th>user_id</th>\n",
       "      <th>gb_used</th>\n",
       "      <th>minutes_used</th>\n",
       "      <th>messages</th>\n",
       "      <th>tariff</th>\n",
       "      <th>city</th>\n",
       "      <th>payment</th>\n",
       "    </tr>\n",
       "  </thead>\n",
       "  <tbody>\n",
       "    <tr>\n",
       "      <th>3</th>\n",
       "      <td>1003</td>\n",
       "      <td>9.0</td>\n",
       "      <td>318.0</td>\n",
       "      <td>32.0</td>\n",
       "      <td>ultra</td>\n",
       "      <td>Москва</td>\n",
       "      <td>1950.0</td>\n",
       "    </tr>\n",
       "    <tr>\n",
       "      <th>49</th>\n",
       "      <td>1049</td>\n",
       "      <td>13.0</td>\n",
       "      <td>490.0</td>\n",
       "      <td>25.0</td>\n",
       "      <td>ultra</td>\n",
       "      <td>Москва</td>\n",
       "      <td>1950.0</td>\n",
       "    </tr>\n",
       "    <tr>\n",
       "      <th>57</th>\n",
       "      <td>1057</td>\n",
       "      <td>30.0</td>\n",
       "      <td>649.0</td>\n",
       "      <td>21.0</td>\n",
       "      <td>ultra</td>\n",
       "      <td>Москва</td>\n",
       "      <td>1950.0</td>\n",
       "    </tr>\n",
       "    <tr>\n",
       "      <th>80</th>\n",
       "      <td>1080</td>\n",
       "      <td>4.0</td>\n",
       "      <td>316.0</td>\n",
       "      <td>25.0</td>\n",
       "      <td>ultra</td>\n",
       "      <td>Москва</td>\n",
       "      <td>1950.0</td>\n",
       "    </tr>\n",
       "    <tr>\n",
       "      <th>81</th>\n",
       "      <td>1081</td>\n",
       "      <td>26.0</td>\n",
       "      <td>478.0</td>\n",
       "      <td>17.0</td>\n",
       "      <td>ultra</td>\n",
       "      <td>Москва</td>\n",
       "      <td>1950.0</td>\n",
       "    </tr>\n",
       "    <tr>\n",
       "      <th>179</th>\n",
       "      <td>1180</td>\n",
       "      <td>57.0</td>\n",
       "      <td>79.0</td>\n",
       "      <td>16.0</td>\n",
       "      <td>ultra</td>\n",
       "      <td>Москва</td>\n",
       "      <td>6000.0</td>\n",
       "    </tr>\n",
       "    <tr>\n",
       "      <th>200</th>\n",
       "      <td>1201</td>\n",
       "      <td>6.0</td>\n",
       "      <td>294.0</td>\n",
       "      <td>25.0</td>\n",
       "      <td>ultra</td>\n",
       "      <td>Москва</td>\n",
       "      <td>1950.0</td>\n",
       "    </tr>\n",
       "    <tr>\n",
       "      <th>202</th>\n",
       "      <td>1203</td>\n",
       "      <td>13.0</td>\n",
       "      <td>427.0</td>\n",
       "      <td>23.0</td>\n",
       "      <td>ultra</td>\n",
       "      <td>Москва</td>\n",
       "      <td>1950.0</td>\n",
       "    </tr>\n",
       "    <tr>\n",
       "      <th>244</th>\n",
       "      <td>1245</td>\n",
       "      <td>8.0</td>\n",
       "      <td>151.0</td>\n",
       "      <td>27.0</td>\n",
       "      <td>ultra</td>\n",
       "      <td>Москва</td>\n",
       "      <td>1950.0</td>\n",
       "    </tr>\n",
       "    <tr>\n",
       "      <th>253</th>\n",
       "      <td>1254</td>\n",
       "      <td>29.0</td>\n",
       "      <td>348.0</td>\n",
       "      <td>25.0</td>\n",
       "      <td>ultra</td>\n",
       "      <td>Москва</td>\n",
       "      <td>1950.0</td>\n",
       "    </tr>\n",
       "    <tr>\n",
       "      <th>274</th>\n",
       "      <td>1276</td>\n",
       "      <td>15.0</td>\n",
       "      <td>98.0</td>\n",
       "      <td>6.0</td>\n",
       "      <td>ultra</td>\n",
       "      <td>Москва</td>\n",
       "      <td>1950.0</td>\n",
       "    </tr>\n",
       "    <tr>\n",
       "      <th>287</th>\n",
       "      <td>1289</td>\n",
       "      <td>9.0</td>\n",
       "      <td>390.0</td>\n",
       "      <td>29.0</td>\n",
       "      <td>ultra</td>\n",
       "      <td>Москва</td>\n",
       "      <td>1950.0</td>\n",
       "    </tr>\n",
       "    <tr>\n",
       "      <th>298</th>\n",
       "      <td>1300</td>\n",
       "      <td>31.0</td>\n",
       "      <td>295.0</td>\n",
       "      <td>77.0</td>\n",
       "      <td>ultra</td>\n",
       "      <td>Москва</td>\n",
       "      <td>2100.0</td>\n",
       "    </tr>\n",
       "    <tr>\n",
       "      <th>329</th>\n",
       "      <td>1331</td>\n",
       "      <td>44.0</td>\n",
       "      <td>353.0</td>\n",
       "      <td>50.0</td>\n",
       "      <td>ultra</td>\n",
       "      <td>Москва</td>\n",
       "      <td>4050.0</td>\n",
       "    </tr>\n",
       "    <tr>\n",
       "      <th>331</th>\n",
       "      <td>1333</td>\n",
       "      <td>11.0</td>\n",
       "      <td>178.0</td>\n",
       "      <td>37.0</td>\n",
       "      <td>ultra</td>\n",
       "      <td>Москва</td>\n",
       "      <td>1950.0</td>\n",
       "    </tr>\n",
       "    <tr>\n",
       "      <th>333</th>\n",
       "      <td>1335</td>\n",
       "      <td>17.0</td>\n",
       "      <td>356.0</td>\n",
       "      <td>48.0</td>\n",
       "      <td>ultra</td>\n",
       "      <td>Москва</td>\n",
       "      <td>1950.0</td>\n",
       "    </tr>\n",
       "    <tr>\n",
       "      <th>339</th>\n",
       "      <td>1341</td>\n",
       "      <td>32.0</td>\n",
       "      <td>649.0</td>\n",
       "      <td>33.0</td>\n",
       "      <td>ultra</td>\n",
       "      <td>Москва</td>\n",
       "      <td>2250.0</td>\n",
       "    </tr>\n",
       "    <tr>\n",
       "      <th>345</th>\n",
       "      <td>1347</td>\n",
       "      <td>7.0</td>\n",
       "      <td>195.0</td>\n",
       "      <td>25.0</td>\n",
       "      <td>ultra</td>\n",
       "      <td>Москва</td>\n",
       "      <td>1950.0</td>\n",
       "    </tr>\n",
       "    <tr>\n",
       "      <th>346</th>\n",
       "      <td>1348</td>\n",
       "      <td>12.0</td>\n",
       "      <td>142.0</td>\n",
       "      <td>8.0</td>\n",
       "      <td>ultra</td>\n",
       "      <td>Москва</td>\n",
       "      <td>1950.0</td>\n",
       "    </tr>\n",
       "    <tr>\n",
       "      <th>354</th>\n",
       "      <td>1356</td>\n",
       "      <td>47.0</td>\n",
       "      <td>608.0</td>\n",
       "      <td>102.0</td>\n",
       "      <td>ultra</td>\n",
       "      <td>Москва</td>\n",
       "      <td>4500.0</td>\n",
       "    </tr>\n",
       "    <tr>\n",
       "      <th>365</th>\n",
       "      <td>1367</td>\n",
       "      <td>7.0</td>\n",
       "      <td>95.0</td>\n",
       "      <td>25.0</td>\n",
       "      <td>ultra</td>\n",
       "      <td>Москва</td>\n",
       "      <td>1950.0</td>\n",
       "    </tr>\n",
       "    <tr>\n",
       "      <th>376</th>\n",
       "      <td>1379</td>\n",
       "      <td>20.0</td>\n",
       "      <td>370.0</td>\n",
       "      <td>44.0</td>\n",
       "      <td>ultra</td>\n",
       "      <td>Москва</td>\n",
       "      <td>1950.0</td>\n",
       "    </tr>\n",
       "    <tr>\n",
       "      <th>378</th>\n",
       "      <td>1381</td>\n",
       "      <td>49.0</td>\n",
       "      <td>660.0</td>\n",
       "      <td>41.0</td>\n",
       "      <td>ultra</td>\n",
       "      <td>Москва</td>\n",
       "      <td>4800.0</td>\n",
       "    </tr>\n",
       "    <tr>\n",
       "      <th>382</th>\n",
       "      <td>1385</td>\n",
       "      <td>62.0</td>\n",
       "      <td>330.0</td>\n",
       "      <td>115.0</td>\n",
       "      <td>ultra</td>\n",
       "      <td>Москва</td>\n",
       "      <td>6750.0</td>\n",
       "    </tr>\n",
       "    <tr>\n",
       "      <th>412</th>\n",
       "      <td>1415</td>\n",
       "      <td>30.0</td>\n",
       "      <td>334.0</td>\n",
       "      <td>22.0</td>\n",
       "      <td>ultra</td>\n",
       "      <td>Москва</td>\n",
       "      <td>1950.0</td>\n",
       "    </tr>\n",
       "    <tr>\n",
       "      <th>421</th>\n",
       "      <td>1424</td>\n",
       "      <td>28.0</td>\n",
       "      <td>21.0</td>\n",
       "      <td>51.0</td>\n",
       "      <td>ultra</td>\n",
       "      <td>Москва</td>\n",
       "      <td>1950.0</td>\n",
       "    </tr>\n",
       "    <tr>\n",
       "      <th>433</th>\n",
       "      <td>1436</td>\n",
       "      <td>37.0</td>\n",
       "      <td>317.0</td>\n",
       "      <td>21.0</td>\n",
       "      <td>ultra</td>\n",
       "      <td>Москва</td>\n",
       "      <td>3000.0</td>\n",
       "    </tr>\n",
       "    <tr>\n",
       "      <th>437</th>\n",
       "      <td>1440</td>\n",
       "      <td>26.0</td>\n",
       "      <td>113.0</td>\n",
       "      <td>65.0</td>\n",
       "      <td>ultra</td>\n",
       "      <td>Москва</td>\n",
       "      <td>1950.0</td>\n",
       "    </tr>\n",
       "    <tr>\n",
       "      <th>449</th>\n",
       "      <td>1452</td>\n",
       "      <td>26.0</td>\n",
       "      <td>110.0</td>\n",
       "      <td>30.0</td>\n",
       "      <td>ultra</td>\n",
       "      <td>Москва</td>\n",
       "      <td>1950.0</td>\n",
       "    </tr>\n",
       "    <tr>\n",
       "      <th>450</th>\n",
       "      <td>1453</td>\n",
       "      <td>45.0</td>\n",
       "      <td>856.0</td>\n",
       "      <td>58.0</td>\n",
       "      <td>ultra</td>\n",
       "      <td>Москва</td>\n",
       "      <td>4200.0</td>\n",
       "    </tr>\n",
       "    <tr>\n",
       "      <th>458</th>\n",
       "      <td>1461</td>\n",
       "      <td>5.0</td>\n",
       "      <td>89.0</td>\n",
       "      <td>8.0</td>\n",
       "      <td>ultra</td>\n",
       "      <td>Москва</td>\n",
       "      <td>1950.0</td>\n",
       "    </tr>\n",
       "    <tr>\n",
       "      <th>473</th>\n",
       "      <td>1476</td>\n",
       "      <td>25.0</td>\n",
       "      <td>350.0</td>\n",
       "      <td>4.0</td>\n",
       "      <td>ultra</td>\n",
       "      <td>Москва</td>\n",
       "      <td>1950.0</td>\n",
       "    </tr>\n",
       "  </tbody>\n",
       "</table>\n",
       "</div>"
      ],
      "text/plain": [
       "     user_id  gb_used  minutes_used  messages tariff    city  payment\n",
       "3       1003      9.0         318.0      32.0  ultra  Москва   1950.0\n",
       "49      1049     13.0         490.0      25.0  ultra  Москва   1950.0\n",
       "57      1057     30.0         649.0      21.0  ultra  Москва   1950.0\n",
       "80      1080      4.0         316.0      25.0  ultra  Москва   1950.0\n",
       "81      1081     26.0         478.0      17.0  ultra  Москва   1950.0\n",
       "179     1180     57.0          79.0      16.0  ultra  Москва   6000.0\n",
       "200     1201      6.0         294.0      25.0  ultra  Москва   1950.0\n",
       "202     1203     13.0         427.0      23.0  ultra  Москва   1950.0\n",
       "244     1245      8.0         151.0      27.0  ultra  Москва   1950.0\n",
       "253     1254     29.0         348.0      25.0  ultra  Москва   1950.0\n",
       "274     1276     15.0          98.0       6.0  ultra  Москва   1950.0\n",
       "287     1289      9.0         390.0      29.0  ultra  Москва   1950.0\n",
       "298     1300     31.0         295.0      77.0  ultra  Москва   2100.0\n",
       "329     1331     44.0         353.0      50.0  ultra  Москва   4050.0\n",
       "331     1333     11.0         178.0      37.0  ultra  Москва   1950.0\n",
       "333     1335     17.0         356.0      48.0  ultra  Москва   1950.0\n",
       "339     1341     32.0         649.0      33.0  ultra  Москва   2250.0\n",
       "345     1347      7.0         195.0      25.0  ultra  Москва   1950.0\n",
       "346     1348     12.0         142.0       8.0  ultra  Москва   1950.0\n",
       "354     1356     47.0         608.0     102.0  ultra  Москва   4500.0\n",
       "365     1367      7.0          95.0      25.0  ultra  Москва   1950.0\n",
       "376     1379     20.0         370.0      44.0  ultra  Москва   1950.0\n",
       "378     1381     49.0         660.0      41.0  ultra  Москва   4800.0\n",
       "382     1385     62.0         330.0     115.0  ultra  Москва   6750.0\n",
       "412     1415     30.0         334.0      22.0  ultra  Москва   1950.0\n",
       "421     1424     28.0          21.0      51.0  ultra  Москва   1950.0\n",
       "433     1436     37.0         317.0      21.0  ultra  Москва   3000.0\n",
       "437     1440     26.0         113.0      65.0  ultra  Москва   1950.0\n",
       "449     1452     26.0         110.0      30.0  ultra  Москва   1950.0\n",
       "450     1453     45.0         856.0      58.0  ultra  Москва   4200.0\n",
       "458     1461      5.0          89.0       8.0  ultra  Москва   1950.0\n",
       "473     1476     25.0         350.0       4.0  ultra  Москва   1950.0"
      ]
     },
     "metadata": {},
     "output_type": "display_data"
    },
    {
     "data": {
      "text/html": [
       "<div>\n",
       "<style scoped>\n",
       "    .dataframe tbody tr th:only-of-type {\n",
       "        vertical-align: middle;\n",
       "    }\n",
       "\n",
       "    .dataframe tbody tr th {\n",
       "        vertical-align: top;\n",
       "    }\n",
       "\n",
       "    .dataframe thead th {\n",
       "        text-align: right;\n",
       "    }\n",
       "</style>\n",
       "<table border=\"1\" class=\"dataframe\">\n",
       "  <thead>\n",
       "    <tr style=\"text-align: right;\">\n",
       "      <th></th>\n",
       "      <th>user_id</th>\n",
       "      <th>gb_used</th>\n",
       "      <th>minutes_used</th>\n",
       "      <th>messages</th>\n",
       "      <th>tariff</th>\n",
       "      <th>city</th>\n",
       "      <th>payment</th>\n",
       "    </tr>\n",
       "  </thead>\n",
       "  <tbody>\n",
       "    <tr>\n",
       "      <th>0</th>\n",
       "      <td>1000</td>\n",
       "      <td>17.0</td>\n",
       "      <td>214.0</td>\n",
       "      <td>41.0</td>\n",
       "      <td>ultra</td>\n",
       "      <td>Краснодар</td>\n",
       "      <td>1950.0</td>\n",
       "    </tr>\n",
       "    <tr>\n",
       "      <th>4</th>\n",
       "      <td>1004</td>\n",
       "      <td>24.0</td>\n",
       "      <td>82.0</td>\n",
       "      <td>99.0</td>\n",
       "      <td>ultra</td>\n",
       "      <td>Новокузнецк</td>\n",
       "      <td>1950.0</td>\n",
       "    </tr>\n",
       "    <tr>\n",
       "      <th>13</th>\n",
       "      <td>1013</td>\n",
       "      <td>5.0</td>\n",
       "      <td>78.0</td>\n",
       "      <td>4.0</td>\n",
       "      <td>ultra</td>\n",
       "      <td>Иваново</td>\n",
       "      <td>1950.0</td>\n",
       "    </tr>\n",
       "    <tr>\n",
       "      <th>16</th>\n",
       "      <td>1016</td>\n",
       "      <td>4.0</td>\n",
       "      <td>10.0</td>\n",
       "      <td>12.0</td>\n",
       "      <td>ultra</td>\n",
       "      <td>Омск</td>\n",
       "      <td>1950.0</td>\n",
       "    </tr>\n",
       "    <tr>\n",
       "      <th>18</th>\n",
       "      <td>1018</td>\n",
       "      <td>10.0</td>\n",
       "      <td>505.0</td>\n",
       "      <td>20.0</td>\n",
       "      <td>ultra</td>\n",
       "      <td>Уфа</td>\n",
       "      <td>1950.0</td>\n",
       "    </tr>\n",
       "    <tr>\n",
       "      <th>...</th>\n",
       "      <td>...</td>\n",
       "      <td>...</td>\n",
       "      <td>...</td>\n",
       "      <td>...</td>\n",
       "      <td>...</td>\n",
       "      <td>...</td>\n",
       "      <td>...</td>\n",
       "    </tr>\n",
       "    <tr>\n",
       "      <th>471</th>\n",
       "      <td>1474</td>\n",
       "      <td>11.0</td>\n",
       "      <td>169.0</td>\n",
       "      <td>15.0</td>\n",
       "      <td>ultra</td>\n",
       "      <td>Набережные Челны</td>\n",
       "      <td>1950.0</td>\n",
       "    </tr>\n",
       "    <tr>\n",
       "      <th>482</th>\n",
       "      <td>1485</td>\n",
       "      <td>4.0</td>\n",
       "      <td>49.0</td>\n",
       "      <td>13.0</td>\n",
       "      <td>ultra</td>\n",
       "      <td>Киров</td>\n",
       "      <td>1950.0</td>\n",
       "    </tr>\n",
       "    <tr>\n",
       "      <th>488</th>\n",
       "      <td>1491</td>\n",
       "      <td>26.0</td>\n",
       "      <td>385.0</td>\n",
       "      <td>36.0</td>\n",
       "      <td>ultra</td>\n",
       "      <td>Челябинск</td>\n",
       "      <td>1950.0</td>\n",
       "    </tr>\n",
       "    <tr>\n",
       "      <th>490</th>\n",
       "      <td>1493</td>\n",
       "      <td>9.0</td>\n",
       "      <td>62.0</td>\n",
       "      <td>8.0</td>\n",
       "      <td>ultra</td>\n",
       "      <td>Красноярск</td>\n",
       "      <td>1950.0</td>\n",
       "    </tr>\n",
       "    <tr>\n",
       "      <th>492</th>\n",
       "      <td>1495</td>\n",
       "      <td>21.0</td>\n",
       "      <td>327.0</td>\n",
       "      <td>28.0</td>\n",
       "      <td>ultra</td>\n",
       "      <td>Иркутск</td>\n",
       "      <td>1950.0</td>\n",
       "    </tr>\n",
       "  </tbody>\n",
       "</table>\n",
       "<p>115 rows × 7 columns</p>\n",
       "</div>"
      ],
      "text/plain": [
       "     user_id  gb_used  minutes_used  messages tariff              city  \\\n",
       "0       1000     17.0         214.0      41.0  ultra         Краснодар   \n",
       "4       1004     24.0          82.0      99.0  ultra       Новокузнецк   \n",
       "13      1013      5.0          78.0       4.0  ultra           Иваново   \n",
       "16      1016      4.0          10.0      12.0  ultra              Омск   \n",
       "18      1018     10.0         505.0      20.0  ultra               Уфа   \n",
       "..       ...      ...           ...       ...    ...               ...   \n",
       "471     1474     11.0         169.0      15.0  ultra  Набережные Челны   \n",
       "482     1485      4.0          49.0      13.0  ultra             Киров   \n",
       "488     1491     26.0         385.0      36.0  ultra         Челябинск   \n",
       "490     1493      9.0          62.0       8.0  ultra        Красноярск   \n",
       "492     1495     21.0         327.0      28.0  ultra           Иркутск   \n",
       "\n",
       "     payment  \n",
       "0     1950.0  \n",
       "4     1950.0  \n",
       "13    1950.0  \n",
       "16    1950.0  \n",
       "18    1950.0  \n",
       "..       ...  \n",
       "471   1950.0  \n",
       "482   1950.0  \n",
       "488   1950.0  \n",
       "490   1950.0  \n",
       "492   1950.0  \n",
       "\n",
       "[115 rows x 7 columns]"
      ]
     },
     "metadata": {},
     "output_type": "display_data"
    },
    {
     "data": {
      "text/plain": [
       "'Отношение числа пользователей из Москвы к числу пользователей из регионов:'"
      ]
     },
     "metadata": {},
     "output_type": "display_data"
    },
    {
     "data": {
      "text/plain": [
       "0.2782608695652174"
      ]
     },
     "metadata": {},
     "output_type": "display_data"
    },
    {
     "name": "stdout",
     "output_type": "stream",
     "text": [
      "<class 'pandas.core.frame.DataFrame'>\n",
      "Int64Index: 32 entries, 3 to 473\n",
      "Data columns (total 7 columns):\n",
      " #   Column        Non-Null Count  Dtype  \n",
      "---  ------        --------------  -----  \n",
      " 0   user_id       32 non-null     int64  \n",
      " 1   gb_used       32 non-null     float64\n",
      " 2   minutes_used  32 non-null     float64\n",
      " 3   messages      32 non-null     float64\n",
      " 4   tariff        32 non-null     object \n",
      " 5   city          32 non-null     object \n",
      " 6   payment       32 non-null     float64\n",
      "dtypes: float64(4), int64(1), object(2)\n",
      "memory usage: 2.0+ KB\n",
      "<class 'pandas.core.frame.DataFrame'>\n",
      "Int64Index: 115 entries, 0 to 492\n",
      "Data columns (total 7 columns):\n",
      " #   Column        Non-Null Count  Dtype  \n",
      "---  ------        --------------  -----  \n",
      " 0   user_id       115 non-null    int64  \n",
      " 1   gb_used       115 non-null    float64\n",
      " 2   minutes_used  115 non-null    float64\n",
      " 3   messages      115 non-null    float64\n",
      " 4   tariff        115 non-null    object \n",
      " 5   city          115 non-null    object \n",
      " 6   payment       115 non-null    float64\n",
      "dtypes: float64(4), int64(1), object(2)\n",
      "memory usage: 7.2+ KB\n"
     ]
    },
    {
     "data": {
      "text/plain": [
       "None"
      ]
     },
     "metadata": {},
     "output_type": "display_data"
    },
    {
     "data": {
      "text/plain": [
       "None"
      ]
     },
     "metadata": {},
     "output_type": "display_data"
    }
   ],
   "source": [
    "moscow_smart = smart_mnth.query('city == \"Москва\"')\n",
    "reg_smart = smart_mnth.query('city != \"Москва\"')\n",
    "\n",
    "display('Данные по тарифу Smart:', moscow_smart, reg_smart)\n",
    "display('Отношение числа пользователей из Москвы к числу пользователей из регионов:', len(moscow_smart)/len(reg_smart))\n",
    "display(moscow_smart.info(), reg_smart.info())\n",
    "\n",
    "moscow_ultra = ultra_mnth.query('city == \"Москва\"')\n",
    "reg_ultra = ultra_mnth.query('city != \"Москва\"')\n",
    "\n",
    "display('Данные по тарифу Ultra:', moscow_ultra, reg_ultra)\n",
    "display('Отношение числа пользователей из Москвы к числу пользователей из регионов:', len(moscow_ultra)/len(reg_ultra))\n",
    "display(moscow_ultra.info(), reg_ultra.info())"
   ]
  },
  {
   "cell_type": "markdown",
   "metadata": {},
   "source": [
    "Занятно, что среди пользователей тарифа Ultra доля москвичей больше (27,8% против 23,6%)."
   ]
  },
  {
   "cell_type": "code",
   "execution_count": 142,
   "metadata": {},
   "outputs": [
    {
     "name": "stdout",
     "output_type": "stream",
     "text": [
      "p-значение: 0.16862721909858217\n",
      "Не получилось отвергнуть нулевую гипотезу\n"
     ]
    }
   ],
   "source": [
    "sample_1 = moscow_smart['payment']\n",
    "sample_2 = reg_smart['payment']\n",
    "\n",
    "alpha = .05\n",
    "\n",
    "results = st.ttest_ind(\n",
    "    sample_1, \n",
    "    sample_2,\n",
    "    equal_var = False)\n",
    "\n",
    "print('p-значение:', results.pvalue)\n",
    "\n",
    "if results.pvalue < alpha:\n",
    "    print(\"Отвергаем нулевую гипотезу\")\n",
    "else:\n",
    "    print(\"Не получилось отвергнуть нулевую гипотезу\")"
   ]
  },
  {
   "cell_type": "code",
   "execution_count": 143,
   "metadata": {},
   "outputs": [
    {
     "name": "stdout",
     "output_type": "stream",
     "text": [
      "p-значение: 0.26392228042518634\n",
      "Не получилось отвергнуть нулевую гипотезу\n"
     ]
    }
   ],
   "source": [
    "sample_1 = moscow_ultra['payment']\n",
    "sample_2 = reg_ultra['payment']\n",
    "\n",
    "alpha = .05\n",
    "\n",
    "results = st.ttest_ind(\n",
    "    sample_1, \n",
    "    sample_2,\n",
    "    equal_var = False)\n",
    "\n",
    "print('p-значение:', results.pvalue)\n",
    "\n",
    "if results.pvalue < alpha:\n",
    "    print(\"Отвергаем нулевую гипотезу\")\n",
    "else:\n",
    "    print(\"Не получилось отвергнуть нулевую гипотезу\")"
   ]
  },
  {
   "cell_type": "markdown",
   "metadata": {},
   "source": [
    "### Вывод"
   ]
  },
  {
   "cell_type": "markdown",
   "metadata": {},
   "source": [
    "Как мы видим, значения p-value также достаточно высоки, поэтому и вторую нулевую гипотезу о том, что средняя выручка пользователей из Москвы аналогична выручке пользователей из других регионов, мы не можем отвергнуть."
   ]
  },
  {
   "cell_type": "markdown",
   "metadata": {},
   "source": [
    "## Итог"
   ]
  },
  {
   "cell_type": "markdown",
   "metadata": {},
   "source": [
    "Итак, в результате проделаной работы мы получили следующие данные:\n",
    "* около 70% абонентов Мегалайн продпочитают тариф Смарт\n",
    "* всего 7,6% пользователей из выборки сменили тариф за 2018 год\n",
    "* потребности пользователей тарифа Смарт зачастую сильно превышают лимиты - и абоненты вынуждены переплачивать, отдавая сумму, которая, в среднем, примерно в три раза больше платы за сам тариф. Однако, данная сумма (1780) все равно меньше платы за тариф Ультра (1950) - и, видимо, этим и мотивировано желание абонентов оставаться на Смарте\n",
    "* гистаграмы расходонавия интернет-трафика и минут выглядят схоже у абонентов обоих тарифов - большая часть значений лежит в пределах до 40 ГБ и 400 минут, однако, использование интернета свыше 60 ГБ и минут свыше 800 наблюдается только у абонентов Ультра; что касается СМС-сообщений, то для пользователей тарифа Смарт большая часть значений лежит в пределах двадцати сообщений в месяц, а для пользователей Ультра - сорока, также, значения, превышающие сотню сообщений в месяц наблюдаются только у абонентов Ультра\n",
    "* среди пользователей тарифа Ультра доля москвичей больше, чем среди пользователей Смарт (27,8% против 23,6%)\n",
    "* мы увидели, что средние затраты пользователей разнятся (1780 у тарифа Смарт и 1950 - Ультра), но высокое значение p-value (более 30%) доказывает, что значимого различия между затратами, в целом, нет. Следовательно, мы не можем отвергнуть нулевую гипотезу, которая гласит: средняя выручка пользователей тарифов Ультра и Смарт одинакова\n",
    "* также, и при работе над второй гипотезой мы видим, что значения p-value достаточно высоки, поэтому и вторую нулевую гипотезу о том, что средняя выручка пользователей из Москвы аналогична выручке пользователей из других регионов, мы не можем отвергнуть"
   ]
  }
 ],
 "metadata": {
  "ExecuteTimeLog": [
   {
    "duration": 413,
    "start_time": "2022-05-05T14:50:18.894Z"
   },
   {
    "duration": 468,
    "start_time": "2022-05-05T14:53:11.582Z"
   },
   {
    "duration": 747,
    "start_time": "2022-05-05T15:02:36.572Z"
   },
   {
    "duration": 5,
    "start_time": "2022-05-05T15:28:24.070Z"
   },
   {
    "duration": 8,
    "start_time": "2022-05-05T15:34:17.393Z"
   },
   {
    "duration": 512,
    "start_time": "2022-05-05T15:37:39.669Z"
   },
   {
    "duration": 60,
    "start_time": "2022-05-06T11:49:47.362Z"
   },
   {
    "duration": 417,
    "start_time": "2022-05-06T11:49:55.500Z"
   },
   {
    "duration": 570,
    "start_time": "2022-05-06T11:49:55.919Z"
   },
   {
    "duration": 1044,
    "start_time": "2022-05-06T11:49:56.491Z"
   },
   {
    "duration": 0,
    "start_time": "2022-05-06T11:49:57.537Z"
   },
   {
    "duration": 0,
    "start_time": "2022-05-06T11:49:57.538Z"
   },
   {
    "duration": 5264,
    "start_time": "2022-05-06T11:50:20.562Z"
   },
   {
    "duration": 10,
    "start_time": "2022-05-06T11:50:32.235Z"
   },
   {
    "duration": 21,
    "start_time": "2022-05-06T11:50:45.191Z"
   },
   {
    "duration": 12,
    "start_time": "2022-05-06T11:50:53.803Z"
   },
   {
    "duration": 31,
    "start_time": "2022-05-06T11:55:13.037Z"
   },
   {
    "duration": 35,
    "start_time": "2022-05-06T12:01:12.899Z"
   },
   {
    "duration": 2,
    "start_time": "2022-05-06T12:01:35.014Z"
   },
   {
    "duration": 670,
    "start_time": "2022-05-06T12:01:35.018Z"
   },
   {
    "duration": 45,
    "start_time": "2022-05-06T12:01:35.691Z"
   },
   {
    "duration": 0,
    "start_time": "2022-05-06T12:01:35.738Z"
   },
   {
    "duration": 0,
    "start_time": "2022-05-06T12:01:35.740Z"
   },
   {
    "duration": 21,
    "start_time": "2022-05-06T12:02:38.537Z"
   },
   {
    "duration": 42,
    "start_time": "2022-05-06T12:02:44.145Z"
   },
   {
    "duration": 38,
    "start_time": "2022-05-06T12:03:23.695Z"
   },
   {
    "duration": 26,
    "start_time": "2022-05-06T12:05:12.483Z"
   },
   {
    "duration": 3,
    "start_time": "2022-05-06T12:05:22.734Z"
   },
   {
    "duration": 535,
    "start_time": "2022-05-06T12:05:24.302Z"
   },
   {
    "duration": 32,
    "start_time": "2022-05-06T12:05:27.906Z"
   },
   {
    "duration": 7,
    "start_time": "2022-05-06T12:28:20.617Z"
   },
   {
    "duration": 10,
    "start_time": "2022-05-06T12:29:34.122Z"
   },
   {
    "duration": 44,
    "start_time": "2022-05-06T12:29:51.003Z"
   },
   {
    "duration": 29,
    "start_time": "2022-05-06T12:30:55.563Z"
   },
   {
    "duration": 46,
    "start_time": "2022-05-06T12:33:27.800Z"
   },
   {
    "duration": 51,
    "start_time": "2022-05-06T12:33:37.516Z"
   },
   {
    "duration": 61,
    "start_time": "2022-05-06T12:36:09.630Z"
   },
   {
    "duration": 71,
    "start_time": "2022-05-06T12:45:03.435Z"
   },
   {
    "duration": 8,
    "start_time": "2022-05-06T12:46:00.914Z"
   },
   {
    "duration": 10,
    "start_time": "2022-05-06T12:46:02.339Z"
   },
   {
    "duration": 30,
    "start_time": "2022-05-06T12:48:43.619Z"
   },
   {
    "duration": 34,
    "start_time": "2022-05-06T12:49:03.053Z"
   },
   {
    "duration": 33,
    "start_time": "2022-05-06T12:49:26.654Z"
   },
   {
    "duration": 107,
    "start_time": "2022-05-06T12:50:11.036Z"
   },
   {
    "duration": 115,
    "start_time": "2022-05-06T12:53:51.314Z"
   },
   {
    "duration": 87,
    "start_time": "2022-05-06T12:54:04.817Z"
   },
   {
    "duration": 185,
    "start_time": "2022-05-06T12:54:34.114Z"
   },
   {
    "duration": 8,
    "start_time": "2022-05-06T12:54:35.394Z"
   },
   {
    "duration": 19,
    "start_time": "2022-05-06T12:54:36.512Z"
   },
   {
    "duration": 28,
    "start_time": "2022-05-06T12:57:35.498Z"
   },
   {
    "duration": 29,
    "start_time": "2022-05-06T13:03:19.421Z"
   },
   {
    "duration": 34,
    "start_time": "2022-05-06T13:04:20.062Z"
   },
   {
    "duration": 37,
    "start_time": "2022-05-06T13:06:20.271Z"
   },
   {
    "duration": 15,
    "start_time": "2022-05-06T13:06:51.041Z"
   },
   {
    "duration": 71,
    "start_time": "2022-05-06T13:07:00.544Z"
   },
   {
    "duration": 14,
    "start_time": "2022-05-06T13:09:26.025Z"
   },
   {
    "duration": 24,
    "start_time": "2022-05-06T13:09:54.292Z"
   },
   {
    "duration": 44,
    "start_time": "2022-05-07T12:41:45.449Z"
   },
   {
    "duration": 348,
    "start_time": "2022-05-07T12:41:53.857Z"
   },
   {
    "duration": 455,
    "start_time": "2022-05-07T12:41:54.207Z"
   },
   {
    "duration": 40,
    "start_time": "2022-05-07T12:41:54.665Z"
   },
   {
    "duration": 113,
    "start_time": "2022-05-07T12:41:54.724Z"
   },
   {
    "duration": 6,
    "start_time": "2022-05-07T12:41:54.839Z"
   },
   {
    "duration": 28,
    "start_time": "2022-05-07T12:41:54.847Z"
   },
   {
    "duration": 47,
    "start_time": "2022-05-07T12:41:54.877Z"
   },
   {
    "duration": 28,
    "start_time": "2022-05-07T12:41:54.926Z"
   },
   {
    "duration": 8,
    "start_time": "2022-05-07T12:42:08.240Z"
   },
   {
    "duration": 7,
    "start_time": "2022-05-07T12:42:45.426Z"
   },
   {
    "duration": 7,
    "start_time": "2022-05-07T12:43:00.777Z"
   },
   {
    "duration": 325,
    "start_time": "2022-05-07T12:43:10.920Z"
   },
   {
    "duration": 2,
    "start_time": "2022-05-07T12:43:20.280Z"
   },
   {
    "duration": 450,
    "start_time": "2022-05-07T12:43:20.284Z"
   },
   {
    "duration": 39,
    "start_time": "2022-05-07T12:43:20.736Z"
   },
   {
    "duration": 127,
    "start_time": "2022-05-07T12:43:20.777Z"
   },
   {
    "duration": 5,
    "start_time": "2022-05-07T12:43:20.906Z"
   },
   {
    "duration": 29,
    "start_time": "2022-05-07T12:43:20.924Z"
   },
   {
    "duration": 19,
    "start_time": "2022-05-07T12:43:20.955Z"
   },
   {
    "duration": 316,
    "start_time": "2022-05-07T12:43:20.976Z"
   },
   {
    "duration": 84,
    "start_time": "2022-05-07T12:43:33.321Z"
   },
   {
    "duration": 14,
    "start_time": "2022-05-07T12:43:44.833Z"
   },
   {
    "duration": 22,
    "start_time": "2022-05-07T12:43:49.314Z"
   },
   {
    "duration": 7,
    "start_time": "2022-05-07T13:18:03.385Z"
   },
   {
    "duration": 13,
    "start_time": "2022-05-07T13:18:34.698Z"
   },
   {
    "duration": 13,
    "start_time": "2022-05-07T13:19:09.307Z"
   },
   {
    "duration": 14,
    "start_time": "2022-05-07T13:20:23.571Z"
   },
   {
    "duration": 14,
    "start_time": "2022-05-07T13:22:04.405Z"
   },
   {
    "duration": 13,
    "start_time": "2022-05-07T13:22:27.500Z"
   },
   {
    "duration": 12,
    "start_time": "2022-05-07T13:23:07.492Z"
   },
   {
    "duration": 16,
    "start_time": "2022-05-07T13:23:20.629Z"
   },
   {
    "duration": 500,
    "start_time": "2022-05-07T14:25:54.100Z"
   },
   {
    "duration": 16,
    "start_time": "2022-05-07T14:26:14.275Z"
   },
   {
    "duration": 11,
    "start_time": "2022-05-07T14:26:29.395Z"
   },
   {
    "duration": 11,
    "start_time": "2022-05-07T14:26:40.483Z"
   },
   {
    "duration": 13,
    "start_time": "2022-05-07T14:35:27.409Z"
   },
   {
    "duration": 12,
    "start_time": "2022-05-07T14:36:59.163Z"
   },
   {
    "duration": 16,
    "start_time": "2022-05-07T14:37:57.499Z"
   },
   {
    "duration": 17,
    "start_time": "2022-05-07T14:38:19.395Z"
   },
   {
    "duration": 7,
    "start_time": "2022-05-07T14:47:43.666Z"
   },
   {
    "duration": 10,
    "start_time": "2022-05-07T14:47:52.746Z"
   },
   {
    "duration": 528,
    "start_time": "2022-05-07T14:48:49.292Z"
   },
   {
    "duration": 21,
    "start_time": "2022-05-07T14:49:26.683Z"
   },
   {
    "duration": 3,
    "start_time": "2022-05-07T15:07:02.685Z"
   },
   {
    "duration": 1672,
    "start_time": "2022-05-07T15:08:06.495Z"
   },
   {
    "duration": 31,
    "start_time": "2022-05-07T15:10:32.706Z"
   },
   {
    "duration": 12,
    "start_time": "2022-05-07T15:10:47.282Z"
   },
   {
    "duration": 24,
    "start_time": "2022-05-07T15:19:50.838Z"
   },
   {
    "duration": 25,
    "start_time": "2022-05-07T15:29:43.550Z"
   },
   {
    "duration": 9,
    "start_time": "2022-05-07T15:29:54.120Z"
   },
   {
    "duration": 1802,
    "start_time": "2022-05-07T15:32:06.744Z"
   },
   {
    "duration": 9,
    "start_time": "2022-05-07T15:33:47.426Z"
   },
   {
    "duration": 9,
    "start_time": "2022-05-07T15:34:12.530Z"
   },
   {
    "duration": 9,
    "start_time": "2022-05-07T15:34:43.769Z"
   },
   {
    "duration": 10,
    "start_time": "2022-05-07T15:40:36.822Z"
   },
   {
    "duration": 25,
    "start_time": "2022-05-07T15:42:27.719Z"
   },
   {
    "duration": 30,
    "start_time": "2022-05-07T15:42:42.215Z"
   },
   {
    "duration": 10,
    "start_time": "2022-05-07T15:43:51.673Z"
   },
   {
    "duration": 10,
    "start_time": "2022-05-07T15:44:11.552Z"
   },
   {
    "duration": 10,
    "start_time": "2022-05-07T15:44:25.176Z"
   },
   {
    "duration": 9,
    "start_time": "2022-05-07T15:44:41.873Z"
   },
   {
    "duration": 10,
    "start_time": "2022-05-07T15:44:59.688Z"
   },
   {
    "duration": 480,
    "start_time": "2022-05-07T15:46:09.145Z"
   },
   {
    "duration": 503,
    "start_time": "2022-05-07T15:46:37.099Z"
   },
   {
    "duration": 23,
    "start_time": "2022-05-07T15:47:05.067Z"
   },
   {
    "duration": 71,
    "start_time": "2022-05-08T07:44:52.067Z"
   },
   {
    "duration": 377,
    "start_time": "2022-05-08T07:45:03.819Z"
   },
   {
    "duration": 508,
    "start_time": "2022-05-08T07:45:04.198Z"
   },
   {
    "duration": 141,
    "start_time": "2022-05-08T07:45:04.708Z"
   },
   {
    "duration": 5,
    "start_time": "2022-05-08T07:45:04.851Z"
   },
   {
    "duration": 13,
    "start_time": "2022-05-08T07:45:04.858Z"
   },
   {
    "duration": 47,
    "start_time": "2022-05-08T07:45:04.873Z"
   },
   {
    "duration": 20,
    "start_time": "2022-05-08T07:45:04.921Z"
   },
   {
    "duration": 34,
    "start_time": "2022-05-08T07:45:04.943Z"
   },
   {
    "duration": 29,
    "start_time": "2022-05-08T07:45:04.979Z"
   },
   {
    "duration": 0,
    "start_time": "2022-05-08T07:45:05.010Z"
   },
   {
    "duration": 22,
    "start_time": "2022-05-08T07:45:27.898Z"
   },
   {
    "duration": 24,
    "start_time": "2022-05-08T07:45:30.626Z"
   },
   {
    "duration": 7,
    "start_time": "2022-05-08T07:54:13.783Z"
   },
   {
    "duration": 16,
    "start_time": "2022-05-08T07:54:33.072Z"
   },
   {
    "duration": 1906,
    "start_time": "2022-05-08T07:55:00.505Z"
   },
   {
    "duration": 16,
    "start_time": "2022-05-08T08:03:39.004Z"
   },
   {
    "duration": 14,
    "start_time": "2022-05-08T08:03:52.982Z"
   },
   {
    "duration": 13,
    "start_time": "2022-05-08T08:04:18.471Z"
   },
   {
    "duration": 26,
    "start_time": "2022-05-08T08:05:29.176Z"
   },
   {
    "duration": 19,
    "start_time": "2022-05-08T10:05:43.818Z"
   },
   {
    "duration": 9,
    "start_time": "2022-05-08T10:07:07.572Z"
   },
   {
    "duration": 8,
    "start_time": "2022-05-08T10:07:27.749Z"
   },
   {
    "duration": 9,
    "start_time": "2022-05-08T10:07:47.862Z"
   },
   {
    "duration": 3,
    "start_time": "2022-05-08T10:07:53.485Z"
   },
   {
    "duration": 543,
    "start_time": "2022-05-08T10:07:53.490Z"
   },
   {
    "duration": 134,
    "start_time": "2022-05-08T10:07:54.035Z"
   },
   {
    "duration": 5,
    "start_time": "2022-05-08T10:07:54.172Z"
   },
   {
    "duration": 14,
    "start_time": "2022-05-08T10:07:54.193Z"
   },
   {
    "duration": 36,
    "start_time": "2022-05-08T10:07:54.210Z"
   },
   {
    "duration": 19,
    "start_time": "2022-05-08T10:07:54.248Z"
   },
   {
    "duration": 42,
    "start_time": "2022-05-08T10:07:54.269Z"
   },
   {
    "duration": 21,
    "start_time": "2022-05-08T10:07:54.314Z"
   },
   {
    "duration": 25,
    "start_time": "2022-05-08T10:07:54.336Z"
   },
   {
    "duration": 57,
    "start_time": "2022-05-08T10:07:54.363Z"
   },
   {
    "duration": 8,
    "start_time": "2022-05-08T10:18:37.469Z"
   },
   {
    "duration": 30,
    "start_time": "2022-05-08T10:19:39.662Z"
   },
   {
    "duration": 34,
    "start_time": "2022-05-08T10:19:46.278Z"
   },
   {
    "duration": 16,
    "start_time": "2022-05-08T10:20:08.654Z"
   },
   {
    "duration": 16,
    "start_time": "2022-05-08T10:20:34.383Z"
   },
   {
    "duration": 17,
    "start_time": "2022-05-08T10:20:46.271Z"
   },
   {
    "duration": 17,
    "start_time": "2022-05-08T10:21:07.487Z"
   },
   {
    "duration": 30,
    "start_time": "2022-05-08T10:22:40.840Z"
   },
   {
    "duration": 18,
    "start_time": "2022-05-08T10:22:46.503Z"
   },
   {
    "duration": 52,
    "start_time": "2022-05-09T12:17:12.247Z"
   },
   {
    "duration": 398,
    "start_time": "2022-05-09T12:17:16.900Z"
   },
   {
    "duration": 571,
    "start_time": "2022-05-09T12:17:17.300Z"
   },
   {
    "duration": 145,
    "start_time": "2022-05-09T12:17:17.873Z"
   },
   {
    "duration": 14,
    "start_time": "2022-05-09T12:17:18.020Z"
   },
   {
    "duration": 10,
    "start_time": "2022-05-09T12:17:18.036Z"
   },
   {
    "duration": 30,
    "start_time": "2022-05-09T12:17:18.048Z"
   },
   {
    "duration": 20,
    "start_time": "2022-05-09T12:17:18.080Z"
   },
   {
    "duration": 51,
    "start_time": "2022-05-09T12:17:18.101Z"
   },
   {
    "duration": 24,
    "start_time": "2022-05-09T12:17:18.153Z"
   },
   {
    "duration": 27,
    "start_time": "2022-05-09T12:17:18.179Z"
   },
   {
    "duration": 51,
    "start_time": "2022-05-09T12:17:18.208Z"
   },
   {
    "duration": 17,
    "start_time": "2022-05-09T12:17:18.261Z"
   },
   {
    "duration": 17,
    "start_time": "2022-05-09T12:17:53.886Z"
   },
   {
    "duration": 19,
    "start_time": "2022-05-09T12:35:34.517Z"
   },
   {
    "duration": 22,
    "start_time": "2022-05-09T12:39:25.879Z"
   },
   {
    "duration": 21,
    "start_time": "2022-05-09T12:40:13.977Z"
   },
   {
    "duration": 6,
    "start_time": "2022-05-09T12:41:12.522Z"
   },
   {
    "duration": 9,
    "start_time": "2022-05-09T12:41:26.985Z"
   },
   {
    "duration": 107,
    "start_time": "2022-05-09T12:52:01.854Z"
   },
   {
    "duration": 60,
    "start_time": "2022-05-09T12:52:39.831Z"
   },
   {
    "duration": 103,
    "start_time": "2022-05-09T12:53:07.592Z"
   },
   {
    "duration": 3,
    "start_time": "2022-05-09T12:53:21.645Z"
   },
   {
    "duration": 547,
    "start_time": "2022-05-09T12:53:21.650Z"
   },
   {
    "duration": 128,
    "start_time": "2022-05-09T12:53:22.199Z"
   },
   {
    "duration": 5,
    "start_time": "2022-05-09T12:53:22.333Z"
   },
   {
    "duration": 10,
    "start_time": "2022-05-09T12:53:22.340Z"
   },
   {
    "duration": 0,
    "start_time": "2022-05-09T12:53:22.351Z"
   },
   {
    "duration": 0,
    "start_time": "2022-05-09T12:53:22.353Z"
   },
   {
    "duration": 0,
    "start_time": "2022-05-09T12:53:22.354Z"
   },
   {
    "duration": 0,
    "start_time": "2022-05-09T12:53:22.354Z"
   },
   {
    "duration": 0,
    "start_time": "2022-05-09T12:53:22.355Z"
   },
   {
    "duration": 0,
    "start_time": "2022-05-09T12:53:22.356Z"
   },
   {
    "duration": 0,
    "start_time": "2022-05-09T12:53:22.357Z"
   },
   {
    "duration": 0,
    "start_time": "2022-05-09T12:53:22.358Z"
   },
   {
    "duration": 0,
    "start_time": "2022-05-09T12:53:22.359Z"
   },
   {
    "duration": 0,
    "start_time": "2022-05-09T12:53:22.360Z"
   },
   {
    "duration": 8,
    "start_time": "2022-05-09T12:53:44.754Z"
   },
   {
    "duration": 0,
    "start_time": "2022-05-09T12:53:44.764Z"
   },
   {
    "duration": 0,
    "start_time": "2022-05-09T12:53:44.764Z"
   },
   {
    "duration": 0,
    "start_time": "2022-05-09T12:53:44.766Z"
   },
   {
    "duration": 0,
    "start_time": "2022-05-09T12:53:44.766Z"
   },
   {
    "duration": 0,
    "start_time": "2022-05-09T12:53:44.767Z"
   },
   {
    "duration": 0,
    "start_time": "2022-05-09T12:53:44.768Z"
   },
   {
    "duration": 0,
    "start_time": "2022-05-09T12:53:44.769Z"
   },
   {
    "duration": 0,
    "start_time": "2022-05-09T12:53:44.770Z"
   },
   {
    "duration": 0,
    "start_time": "2022-05-09T12:53:44.772Z"
   },
   {
    "duration": 0,
    "start_time": "2022-05-09T12:53:44.773Z"
   },
   {
    "duration": 11,
    "start_time": "2022-05-09T12:53:52.542Z"
   },
   {
    "duration": 27,
    "start_time": "2022-05-09T12:53:52.555Z"
   },
   {
    "duration": 20,
    "start_time": "2022-05-09T12:53:52.583Z"
   },
   {
    "duration": 45,
    "start_time": "2022-05-09T12:53:52.605Z"
   },
   {
    "duration": 24,
    "start_time": "2022-05-09T12:53:52.652Z"
   },
   {
    "duration": 26,
    "start_time": "2022-05-09T12:53:52.678Z"
   },
   {
    "duration": 52,
    "start_time": "2022-05-09T12:53:52.706Z"
   },
   {
    "duration": 17,
    "start_time": "2022-05-09T12:53:52.760Z"
   },
   {
    "duration": 22,
    "start_time": "2022-05-09T12:53:52.778Z"
   },
   {
    "duration": 9,
    "start_time": "2022-05-09T12:53:52.834Z"
   },
   {
    "duration": 19,
    "start_time": "2022-05-09T12:54:52.776Z"
   },
   {
    "duration": 13,
    "start_time": "2022-05-09T12:55:21.321Z"
   },
   {
    "duration": 16,
    "start_time": "2022-05-09T12:56:57.153Z"
   },
   {
    "duration": 20,
    "start_time": "2022-05-09T12:57:02.329Z"
   },
   {
    "duration": 20,
    "start_time": "2022-05-09T12:57:39.523Z"
   },
   {
    "duration": 9,
    "start_time": "2022-05-09T12:58:13.914Z"
   },
   {
    "duration": 13,
    "start_time": "2022-05-09T12:58:29.963Z"
   },
   {
    "duration": 13,
    "start_time": "2022-05-09T13:01:38.293Z"
   },
   {
    "duration": 18,
    "start_time": "2022-05-09T13:02:47.158Z"
   },
   {
    "duration": 18,
    "start_time": "2022-05-09T13:03:07.647Z"
   },
   {
    "duration": 31,
    "start_time": "2022-05-09T13:03:30.951Z"
   },
   {
    "duration": 14,
    "start_time": "2022-05-09T13:07:10.106Z"
   },
   {
    "duration": 17,
    "start_time": "2022-05-09T13:09:51.379Z"
   },
   {
    "duration": 13,
    "start_time": "2022-05-09T13:09:59.250Z"
   },
   {
    "duration": 2,
    "start_time": "2022-05-09T13:12:00.336Z"
   },
   {
    "duration": 566,
    "start_time": "2022-05-09T13:12:00.341Z"
   },
   {
    "duration": 131,
    "start_time": "2022-05-09T13:12:00.909Z"
   },
   {
    "duration": 6,
    "start_time": "2022-05-09T13:12:01.042Z"
   },
   {
    "duration": 21,
    "start_time": "2022-05-09T13:12:01.050Z"
   },
   {
    "duration": 35,
    "start_time": "2022-05-09T13:12:01.073Z"
   },
   {
    "duration": 28,
    "start_time": "2022-05-09T13:12:01.110Z"
   },
   {
    "duration": 25,
    "start_time": "2022-05-09T13:12:01.140Z"
   },
   {
    "duration": 23,
    "start_time": "2022-05-09T13:12:01.168Z"
   },
   {
    "duration": 55,
    "start_time": "2022-05-09T13:12:01.193Z"
   },
   {
    "duration": 30,
    "start_time": "2022-05-09T13:12:01.250Z"
   },
   {
    "duration": 18,
    "start_time": "2022-05-09T13:12:01.281Z"
   },
   {
    "duration": 28,
    "start_time": "2022-05-09T13:12:01.333Z"
   },
   {
    "duration": 14,
    "start_time": "2022-05-09T13:12:01.363Z"
   },
   {
    "duration": 5,
    "start_time": "2022-05-09T13:12:54.293Z"
   },
   {
    "duration": 10,
    "start_time": "2022-05-09T13:16:51.646Z"
   },
   {
    "duration": 9,
    "start_time": "2022-05-09T13:17:06.664Z"
   },
   {
    "duration": 33,
    "start_time": "2022-05-09T13:18:51.761Z"
   },
   {
    "duration": 2,
    "start_time": "2022-05-09T13:18:58.547Z"
   },
   {
    "duration": 514,
    "start_time": "2022-05-09T13:18:58.551Z"
   },
   {
    "duration": 155,
    "start_time": "2022-05-09T13:18:59.067Z"
   },
   {
    "duration": 12,
    "start_time": "2022-05-09T13:18:59.224Z"
   },
   {
    "duration": 12,
    "start_time": "2022-05-09T13:18:59.238Z"
   },
   {
    "duration": 21,
    "start_time": "2022-05-09T13:18:59.252Z"
   },
   {
    "duration": 19,
    "start_time": "2022-05-09T13:18:59.274Z"
   },
   {
    "duration": 53,
    "start_time": "2022-05-09T13:18:59.294Z"
   },
   {
    "duration": 22,
    "start_time": "2022-05-09T13:18:59.349Z"
   },
   {
    "duration": 25,
    "start_time": "2022-05-09T13:18:59.374Z"
   },
   {
    "duration": 53,
    "start_time": "2022-05-09T13:18:59.401Z"
   },
   {
    "duration": 31,
    "start_time": "2022-05-09T13:18:59.455Z"
   },
   {
    "duration": 48,
    "start_time": "2022-05-09T13:18:59.487Z"
   },
   {
    "duration": 5,
    "start_time": "2022-05-09T13:18:59.536Z"
   },
   {
    "duration": 22,
    "start_time": "2022-05-09T13:18:59.542Z"
   },
   {
    "duration": 21,
    "start_time": "2022-05-09T13:19:34.778Z"
   },
   {
    "duration": 21,
    "start_time": "2022-05-09T13:20:05.418Z"
   },
   {
    "duration": 6,
    "start_time": "2022-05-09T14:14:00.800Z"
   },
   {
    "duration": 4,
    "start_time": "2022-05-09T14:30:21.012Z"
   },
   {
    "duration": 11,
    "start_time": "2022-05-09T14:30:31.051Z"
   },
   {
    "duration": 27,
    "start_time": "2022-05-09T14:31:32.069Z"
   },
   {
    "duration": 3,
    "start_time": "2022-05-09T14:31:38.366Z"
   },
   {
    "duration": 526,
    "start_time": "2022-05-09T14:31:38.371Z"
   },
   {
    "duration": 119,
    "start_time": "2022-05-09T14:31:38.899Z"
   },
   {
    "duration": 17,
    "start_time": "2022-05-09T14:31:39.020Z"
   },
   {
    "duration": 12,
    "start_time": "2022-05-09T14:31:39.039Z"
   },
   {
    "duration": 12,
    "start_time": "2022-05-09T14:31:39.052Z"
   },
   {
    "duration": 22,
    "start_time": "2022-05-09T14:31:39.066Z"
   },
   {
    "duration": 44,
    "start_time": "2022-05-09T14:31:39.090Z"
   },
   {
    "duration": 25,
    "start_time": "2022-05-09T14:31:39.137Z"
   },
   {
    "duration": 28,
    "start_time": "2022-05-09T14:31:39.164Z"
   },
   {
    "duration": 54,
    "start_time": "2022-05-09T14:31:39.193Z"
   },
   {
    "duration": 28,
    "start_time": "2022-05-09T14:31:39.248Z"
   },
   {
    "duration": 56,
    "start_time": "2022-05-09T14:31:39.278Z"
   },
   {
    "duration": 22,
    "start_time": "2022-05-09T14:31:39.336Z"
   },
   {
    "duration": 4,
    "start_time": "2022-05-09T14:31:39.360Z"
   },
   {
    "duration": 22,
    "start_time": "2022-05-09T14:31:39.366Z"
   },
   {
    "duration": 6,
    "start_time": "2022-05-09T14:31:39.389Z"
   },
   {
    "duration": 19,
    "start_time": "2022-05-09T15:02:11.375Z"
   },
   {
    "duration": 8,
    "start_time": "2022-05-09T15:04:47.328Z"
   },
   {
    "duration": 10,
    "start_time": "2022-05-09T15:06:32.945Z"
   },
   {
    "duration": 13,
    "start_time": "2022-05-09T15:07:07.313Z"
   },
   {
    "duration": 23,
    "start_time": "2022-05-09T15:09:59.435Z"
   },
   {
    "duration": 18,
    "start_time": "2022-05-09T15:18:07.128Z"
   },
   {
    "duration": 19,
    "start_time": "2022-05-09T15:18:08.712Z"
   },
   {
    "duration": 4,
    "start_time": "2022-05-09T15:18:39.920Z"
   },
   {
    "duration": 5,
    "start_time": "2022-05-09T15:18:49.015Z"
   },
   {
    "duration": 20,
    "start_time": "2022-05-09T15:21:15.922Z"
   },
   {
    "duration": 20,
    "start_time": "2022-05-09T15:25:44.820Z"
   },
   {
    "duration": 79,
    "start_time": "2022-05-12T07:21:55.507Z"
   },
   {
    "duration": 651,
    "start_time": "2022-05-12T07:22:00.713Z"
   },
   {
    "duration": 841,
    "start_time": "2022-05-12T07:22:01.367Z"
   },
   {
    "duration": 197,
    "start_time": "2022-05-12T07:22:02.210Z"
   },
   {
    "duration": 10,
    "start_time": "2022-05-12T07:22:02.411Z"
   },
   {
    "duration": 38,
    "start_time": "2022-05-12T07:22:02.425Z"
   },
   {
    "duration": 33,
    "start_time": "2022-05-12T07:22:02.466Z"
   },
   {
    "duration": 62,
    "start_time": "2022-05-12T07:22:02.501Z"
   },
   {
    "duration": 33,
    "start_time": "2022-05-12T07:22:02.566Z"
   },
   {
    "duration": 32,
    "start_time": "2022-05-12T07:22:02.604Z"
   },
   {
    "duration": 66,
    "start_time": "2022-05-12T07:22:02.640Z"
   },
   {
    "duration": 51,
    "start_time": "2022-05-12T07:22:02.708Z"
   },
   {
    "duration": 69,
    "start_time": "2022-05-12T07:22:02.762Z"
   },
   {
    "duration": 71,
    "start_time": "2022-05-12T07:22:02.833Z"
   },
   {
    "duration": 31,
    "start_time": "2022-05-12T07:22:02.906Z"
   },
   {
    "duration": 16,
    "start_time": "2022-05-12T07:22:02.940Z"
   },
   {
    "duration": 63,
    "start_time": "2022-05-12T07:22:02.958Z"
   },
   {
    "duration": 6,
    "start_time": "2022-05-12T07:22:03.024Z"
   },
   {
    "duration": 73,
    "start_time": "2022-05-12T07:22:03.033Z"
   },
   {
    "duration": 33,
    "start_time": "2022-05-12T07:22:03.109Z"
   },
   {
    "duration": 32,
    "start_time": "2022-05-12T07:22:03.201Z"
   },
   {
    "duration": 724,
    "start_time": "2022-05-12T07:22:03.235Z"
   },
   {
    "duration": 408,
    "start_time": "2022-05-12T07:22:14.850Z"
   },
   {
    "duration": 214,
    "start_time": "2022-05-12T07:22:22.242Z"
   },
   {
    "duration": 249,
    "start_time": "2022-05-12T07:22:34.716Z"
   },
   {
    "duration": 695,
    "start_time": "2022-05-12T07:22:43.563Z"
   },
   {
    "duration": 391,
    "start_time": "2022-05-12T07:22:53.114Z"
   },
   {
    "duration": 346,
    "start_time": "2022-05-12T07:23:06.386Z"
   },
   {
    "duration": 685,
    "start_time": "2022-05-12T07:23:54.155Z"
   },
   {
    "duration": 617,
    "start_time": "2022-05-12T07:24:08.635Z"
   },
   {
    "duration": 677,
    "start_time": "2022-05-12T07:24:17.548Z"
   },
   {
    "duration": 704,
    "start_time": "2022-05-12T07:25:15.901Z"
   },
   {
    "duration": 670,
    "start_time": "2022-05-12T07:25:30.933Z"
   },
   {
    "duration": 596,
    "start_time": "2022-05-12T07:26:31.325Z"
   },
   {
    "duration": 681,
    "start_time": "2022-05-12T07:27:23.765Z"
   },
   {
    "duration": 423,
    "start_time": "2022-05-12T07:27:49.325Z"
   },
   {
    "duration": 340,
    "start_time": "2022-05-12T07:28:09.534Z"
   },
   {
    "duration": 350,
    "start_time": "2022-05-12T07:28:22.582Z"
   },
   {
    "duration": 329,
    "start_time": "2022-05-12T07:29:43.807Z"
   },
   {
    "duration": 604,
    "start_time": "2022-05-12T07:39:45.233Z"
   },
   {
    "duration": 363,
    "start_time": "2022-05-12T07:40:35.711Z"
   },
   {
    "duration": 504,
    "start_time": "2022-05-12T07:40:48.975Z"
   },
   {
    "duration": 403,
    "start_time": "2022-05-12T07:41:05.879Z"
   },
   {
    "duration": 377,
    "start_time": "2022-05-12T07:41:25.480Z"
   },
   {
    "duration": 356,
    "start_time": "2022-05-12T07:45:29.994Z"
   },
   {
    "duration": 357,
    "start_time": "2022-05-12T07:45:40.594Z"
   },
   {
    "duration": 452,
    "start_time": "2022-05-12T07:46:00.771Z"
   },
   {
    "duration": 354,
    "start_time": "2022-05-12T07:46:16.867Z"
   },
   {
    "duration": 339,
    "start_time": "2022-05-12T07:46:26.219Z"
   },
   {
    "duration": 463,
    "start_time": "2022-05-12T07:46:49.779Z"
   },
   {
    "duration": 449,
    "start_time": "2022-05-12T07:46:58.611Z"
   },
   {
    "duration": 910,
    "start_time": "2022-05-12T08:05:51.120Z"
   },
   {
    "duration": 5,
    "start_time": "2022-05-12T08:05:54.425Z"
   },
   {
    "duration": 1267,
    "start_time": "2022-05-12T08:05:54.434Z"
   },
   {
    "duration": 206,
    "start_time": "2022-05-12T08:05:55.703Z"
   },
   {
    "duration": 8,
    "start_time": "2022-05-12T08:05:55.913Z"
   },
   {
    "duration": 22,
    "start_time": "2022-05-12T08:05:55.923Z"
   },
   {
    "duration": 49,
    "start_time": "2022-05-12T08:05:55.947Z"
   },
   {
    "duration": 41,
    "start_time": "2022-05-12T08:05:55.998Z"
   },
   {
    "duration": 68,
    "start_time": "2022-05-12T08:05:56.042Z"
   },
   {
    "duration": 39,
    "start_time": "2022-05-12T08:05:56.113Z"
   },
   {
    "duration": 71,
    "start_time": "2022-05-12T08:05:56.159Z"
   },
   {
    "duration": 73,
    "start_time": "2022-05-12T08:05:56.232Z"
   },
   {
    "duration": 49,
    "start_time": "2022-05-12T08:05:56.309Z"
   },
   {
    "duration": 83,
    "start_time": "2022-05-12T08:05:56.361Z"
   },
   {
    "duration": 60,
    "start_time": "2022-05-12T08:05:56.446Z"
   },
   {
    "duration": 15,
    "start_time": "2022-05-12T08:05:56.510Z"
   },
   {
    "duration": 80,
    "start_time": "2022-05-12T08:05:56.528Z"
   },
   {
    "duration": 9,
    "start_time": "2022-05-12T08:05:56.612Z"
   },
   {
    "duration": 84,
    "start_time": "2022-05-12T08:05:56.623Z"
   },
   {
    "duration": 98,
    "start_time": "2022-05-12T08:05:56.709Z"
   },
   {
    "duration": 92,
    "start_time": "2022-05-12T08:05:56.810Z"
   },
   {
    "duration": 503,
    "start_time": "2022-05-12T08:05:56.905Z"
   },
   {
    "duration": 541,
    "start_time": "2022-05-12T08:05:57.412Z"
   },
   {
    "duration": 537,
    "start_time": "2022-05-12T08:05:57.956Z"
   },
   {
    "duration": 354,
    "start_time": "2022-05-12T08:16:41.784Z"
   },
   {
    "duration": 665,
    "start_time": "2022-05-12T08:17:49.234Z"
   },
   {
    "duration": 9,
    "start_time": "2022-05-12T08:23:22.669Z"
   },
   {
    "duration": 7,
    "start_time": "2022-05-12T08:27:30.609Z"
   },
   {
    "duration": 10,
    "start_time": "2022-05-12T08:28:32.632Z"
   },
   {
    "duration": 66,
    "start_time": "2022-05-12T08:37:12.658Z"
   },
   {
    "duration": 65,
    "start_time": "2022-05-12T08:38:03.655Z"
   },
   {
    "duration": 129,
    "start_time": "2022-05-12T08:39:15.993Z"
   },
   {
    "duration": 213,
    "start_time": "2022-05-12T08:40:51.483Z"
   },
   {
    "duration": 237,
    "start_time": "2022-05-12T08:44:46.270Z"
   },
   {
    "duration": 10,
    "start_time": "2022-05-12T08:50:37.544Z"
   },
   {
    "duration": 6,
    "start_time": "2022-05-12T08:51:29.913Z"
   },
   {
    "duration": 278,
    "start_time": "2022-05-12T14:24:52.229Z"
   },
   {
    "duration": 234,
    "start_time": "2022-05-12T14:25:06.229Z"
   },
   {
    "duration": 204,
    "start_time": "2022-05-12T14:25:23.725Z"
   },
   {
    "duration": 271,
    "start_time": "2022-05-12T14:25:36.933Z"
   },
   {
    "duration": 251,
    "start_time": "2022-05-12T14:25:46.869Z"
   },
   {
    "duration": 282,
    "start_time": "2022-05-12T14:26:03.086Z"
   },
   {
    "duration": 54,
    "start_time": "2022-05-13T12:50:06.721Z"
   },
   {
    "duration": 811,
    "start_time": "2022-05-13T12:50:11.790Z"
   },
   {
    "duration": 504,
    "start_time": "2022-05-13T12:50:12.605Z"
   },
   {
    "duration": 122,
    "start_time": "2022-05-13T12:50:13.110Z"
   },
   {
    "duration": 6,
    "start_time": "2022-05-13T12:50:13.234Z"
   },
   {
    "duration": 27,
    "start_time": "2022-05-13T12:50:13.241Z"
   },
   {
    "duration": 15,
    "start_time": "2022-05-13T12:50:13.270Z"
   },
   {
    "duration": 32,
    "start_time": "2022-05-13T12:50:13.286Z"
   },
   {
    "duration": 19,
    "start_time": "2022-05-13T12:50:13.319Z"
   },
   {
    "duration": 40,
    "start_time": "2022-05-13T12:50:13.340Z"
   },
   {
    "duration": 25,
    "start_time": "2022-05-13T12:50:13.383Z"
   },
   {
    "duration": 28,
    "start_time": "2022-05-13T12:50:13.411Z"
   },
   {
    "duration": 28,
    "start_time": "2022-05-13T12:50:13.466Z"
   },
   {
    "duration": 27,
    "start_time": "2022-05-13T12:50:13.496Z"
   },
   {
    "duration": 47,
    "start_time": "2022-05-13T12:50:13.525Z"
   },
   {
    "duration": 6,
    "start_time": "2022-05-13T12:50:13.574Z"
   },
   {
    "duration": 23,
    "start_time": "2022-05-13T12:50:13.581Z"
   },
   {
    "duration": 10,
    "start_time": "2022-05-13T12:50:13.606Z"
   },
   {
    "duration": 51,
    "start_time": "2022-05-13T12:50:13.617Z"
   },
   {
    "duration": 19,
    "start_time": "2022-05-13T12:50:13.670Z"
   },
   {
    "duration": 20,
    "start_time": "2022-05-13T12:50:13.690Z"
   },
   {
    "duration": 718,
    "start_time": "2022-05-13T12:50:13.711Z"
   },
   {
    "duration": 171,
    "start_time": "2022-05-13T12:50:14.430Z"
   },
   {
    "duration": 177,
    "start_time": "2022-05-13T12:50:14.603Z"
   },
   {
    "duration": 5,
    "start_time": "2022-05-13T12:50:14.782Z"
   },
   {
    "duration": 132,
    "start_time": "2022-05-13T12:50:14.789Z"
   },
   {
    "duration": 5,
    "start_time": "2022-05-13T12:50:14.923Z"
   },
   {
    "duration": 8,
    "start_time": "2022-05-13T12:50:14.930Z"
   },
   {
    "duration": 109,
    "start_time": "2022-05-13T12:53:23.328Z"
   },
   {
    "duration": 104,
    "start_time": "2022-05-13T12:53:50.234Z"
   },
   {
    "duration": 4,
    "start_time": "2022-05-13T13:10:24.386Z"
   },
   {
    "duration": 522,
    "start_time": "2022-05-13T13:10:24.392Z"
   },
   {
    "duration": 137,
    "start_time": "2022-05-13T13:10:24.916Z"
   },
   {
    "duration": 14,
    "start_time": "2022-05-13T13:10:25.054Z"
   },
   {
    "duration": 13,
    "start_time": "2022-05-13T13:10:25.070Z"
   },
   {
    "duration": 9,
    "start_time": "2022-05-13T13:10:25.085Z"
   },
   {
    "duration": 24,
    "start_time": "2022-05-13T13:10:25.096Z"
   },
   {
    "duration": 47,
    "start_time": "2022-05-13T13:10:25.121Z"
   },
   {
    "duration": 25,
    "start_time": "2022-05-13T13:10:25.170Z"
   },
   {
    "duration": 52,
    "start_time": "2022-05-13T13:10:25.197Z"
   },
   {
    "duration": 27,
    "start_time": "2022-05-13T13:10:25.252Z"
   },
   {
    "duration": 28,
    "start_time": "2022-05-13T13:10:25.280Z"
   },
   {
    "duration": 29,
    "start_time": "2022-05-13T13:10:25.310Z"
   },
   {
    "duration": 21,
    "start_time": "2022-05-13T13:10:25.366Z"
   },
   {
    "duration": 7,
    "start_time": "2022-05-13T13:10:25.389Z"
   },
   {
    "duration": 23,
    "start_time": "2022-05-13T13:10:25.397Z"
   },
   {
    "duration": 5,
    "start_time": "2022-05-13T13:10:25.421Z"
   },
   {
    "duration": 48,
    "start_time": "2022-05-13T13:10:25.428Z"
   },
   {
    "duration": 22,
    "start_time": "2022-05-13T13:10:25.478Z"
   },
   {
    "duration": 76,
    "start_time": "2022-05-13T13:10:25.502Z"
   },
   {
    "duration": 193,
    "start_time": "2022-05-13T13:10:25.579Z"
   },
   {
    "duration": 167,
    "start_time": "2022-05-13T13:10:25.774Z"
   },
   {
    "duration": 179,
    "start_time": "2022-05-13T13:10:25.943Z"
   },
   {
    "duration": 5,
    "start_time": "2022-05-13T13:10:26.124Z"
   },
   {
    "duration": 150,
    "start_time": "2022-05-13T13:10:26.131Z"
   },
   {
    "duration": 6,
    "start_time": "2022-05-13T13:10:26.283Z"
   },
   {
    "duration": 12,
    "start_time": "2022-05-13T13:10:26.290Z"
   },
   {
    "duration": 212,
    "start_time": "2022-05-13T13:44:33.796Z"
   },
   {
    "duration": 309,
    "start_time": "2022-05-13T13:44:46.211Z"
   },
   {
    "duration": 213,
    "start_time": "2022-05-13T13:45:07.484Z"
   },
   {
    "duration": 210,
    "start_time": "2022-05-13T13:45:19.915Z"
   },
   {
    "duration": 227,
    "start_time": "2022-05-13T13:45:25.652Z"
   },
   {
    "duration": 209,
    "start_time": "2022-05-13T13:45:56.723Z"
   },
   {
    "duration": 166,
    "start_time": "2022-05-13T13:45:57.068Z"
   },
   {
    "duration": 217,
    "start_time": "2022-05-13T13:46:11.835Z"
   },
   {
    "duration": 158,
    "start_time": "2022-05-13T13:46:42.092Z"
   },
   {
    "duration": 162,
    "start_time": "2022-05-13T13:47:04.252Z"
   },
   {
    "duration": 193,
    "start_time": "2022-05-13T13:47:10.932Z"
   },
   {
    "duration": 179,
    "start_time": "2022-05-13T13:48:11.669Z"
   },
   {
    "duration": 207,
    "start_time": "2022-05-13T13:48:26.901Z"
   },
   {
    "duration": 319,
    "start_time": "2022-05-13T13:48:38.461Z"
   },
   {
    "duration": 16,
    "start_time": "2022-05-13T13:49:38.517Z"
   },
   {
    "duration": 181,
    "start_time": "2022-05-13T13:50:08.671Z"
   },
   {
    "duration": 11,
    "start_time": "2022-05-13T13:50:34.230Z"
   },
   {
    "duration": 11,
    "start_time": "2022-05-13T13:50:49.127Z"
   },
   {
    "duration": 136,
    "start_time": "2022-05-13T13:52:56.857Z"
   },
   {
    "duration": 175,
    "start_time": "2022-05-13T13:53:11.129Z"
   },
   {
    "duration": 10,
    "start_time": "2022-05-13T13:54:58.074Z"
   },
   {
    "duration": 3,
    "start_time": "2022-05-13T13:55:55.682Z"
   },
   {
    "duration": 10,
    "start_time": "2022-05-13T13:56:11.122Z"
   },
   {
    "duration": 3,
    "start_time": "2022-05-13T13:57:51.099Z"
   },
   {
    "duration": 3,
    "start_time": "2022-05-13T13:57:54.959Z"
   },
   {
    "duration": 557,
    "start_time": "2022-05-13T13:57:54.964Z"
   },
   {
    "duration": 148,
    "start_time": "2022-05-13T13:57:55.523Z"
   },
   {
    "duration": 6,
    "start_time": "2022-05-13T13:57:55.673Z"
   },
   {
    "duration": 22,
    "start_time": "2022-05-13T13:57:55.681Z"
   },
   {
    "duration": 20,
    "start_time": "2022-05-13T13:57:55.705Z"
   },
   {
    "duration": 29,
    "start_time": "2022-05-13T13:57:55.727Z"
   },
   {
    "duration": 30,
    "start_time": "2022-05-13T13:57:55.757Z"
   },
   {
    "duration": 35,
    "start_time": "2022-05-13T13:57:55.789Z"
   },
   {
    "duration": 42,
    "start_time": "2022-05-13T13:57:55.826Z"
   },
   {
    "duration": 30,
    "start_time": "2022-05-13T13:57:55.871Z"
   },
   {
    "duration": 37,
    "start_time": "2022-05-13T13:57:55.903Z"
   },
   {
    "duration": 32,
    "start_time": "2022-05-13T13:57:55.967Z"
   },
   {
    "duration": 27,
    "start_time": "2022-05-13T13:57:56.000Z"
   },
   {
    "duration": 15,
    "start_time": "2022-05-13T13:57:56.028Z"
   },
   {
    "duration": 44,
    "start_time": "2022-05-13T13:57:56.044Z"
   },
   {
    "duration": 17,
    "start_time": "2022-05-13T13:57:56.089Z"
   },
   {
    "duration": 61,
    "start_time": "2022-05-13T13:57:56.108Z"
   },
   {
    "duration": 42,
    "start_time": "2022-05-13T13:57:56.171Z"
   },
   {
    "duration": 57,
    "start_time": "2022-05-13T13:57:56.214Z"
   },
   {
    "duration": 143,
    "start_time": "2022-05-13T13:57:56.273Z"
   },
   {
    "duration": 0,
    "start_time": "2022-05-13T13:57:56.418Z"
   },
   {
    "duration": 0,
    "start_time": "2022-05-13T13:57:56.419Z"
   },
   {
    "duration": 0,
    "start_time": "2022-05-13T13:57:56.421Z"
   },
   {
    "duration": 0,
    "start_time": "2022-05-13T13:57:56.422Z"
   },
   {
    "duration": 0,
    "start_time": "2022-05-13T13:57:56.424Z"
   },
   {
    "duration": 0,
    "start_time": "2022-05-13T13:57:56.424Z"
   },
   {
    "duration": 123,
    "start_time": "2022-05-13T13:58:30.053Z"
   },
   {
    "duration": 195,
    "start_time": "2022-05-13T13:59:39.253Z"
   },
   {
    "duration": 220,
    "start_time": "2022-05-13T13:59:43.749Z"
   },
   {
    "duration": 216,
    "start_time": "2022-05-13T13:59:56.141Z"
   },
   {
    "duration": 183,
    "start_time": "2022-05-13T14:00:19.861Z"
   },
   {
    "duration": 187,
    "start_time": "2022-05-13T14:00:55.629Z"
   },
   {
    "duration": 276,
    "start_time": "2022-05-13T14:01:38.982Z"
   },
   {
    "duration": 202,
    "start_time": "2022-05-13T14:06:44.659Z"
   },
   {
    "duration": 27,
    "start_time": "2022-05-13T14:14:30.057Z"
   },
   {
    "duration": 55,
    "start_time": "2022-05-13T14:17:41.036Z"
   },
   {
    "duration": 164,
    "start_time": "2022-05-13T14:18:10.053Z"
   },
   {
    "duration": 66,
    "start_time": "2022-05-13T14:18:19.788Z"
   },
   {
    "duration": 66,
    "start_time": "2022-05-13T14:19:10.373Z"
   },
   {
    "duration": 3,
    "start_time": "2022-05-13T14:20:55.839Z"
   },
   {
    "duration": 529,
    "start_time": "2022-05-13T14:20:55.845Z"
   },
   {
    "duration": 127,
    "start_time": "2022-05-13T14:20:56.376Z"
   },
   {
    "duration": 5,
    "start_time": "2022-05-13T14:20:56.505Z"
   },
   {
    "duration": 35,
    "start_time": "2022-05-13T14:20:56.512Z"
   },
   {
    "duration": 28,
    "start_time": "2022-05-13T14:20:56.548Z"
   },
   {
    "duration": 29,
    "start_time": "2022-05-13T14:20:56.577Z"
   },
   {
    "duration": 19,
    "start_time": "2022-05-13T14:20:56.608Z"
   },
   {
    "duration": 39,
    "start_time": "2022-05-13T14:20:56.629Z"
   },
   {
    "duration": 27,
    "start_time": "2022-05-13T14:20:56.670Z"
   },
   {
    "duration": 28,
    "start_time": "2022-05-13T14:20:56.700Z"
   },
   {
    "duration": 61,
    "start_time": "2022-05-13T14:20:56.730Z"
   },
   {
    "duration": 39,
    "start_time": "2022-05-13T14:20:56.793Z"
   },
   {
    "duration": 46,
    "start_time": "2022-05-13T14:20:56.834Z"
   },
   {
    "duration": 14,
    "start_time": "2022-05-13T14:20:56.882Z"
   },
   {
    "duration": 32,
    "start_time": "2022-05-13T14:20:56.898Z"
   },
   {
    "duration": 23,
    "start_time": "2022-05-13T14:20:56.931Z"
   },
   {
    "duration": 42,
    "start_time": "2022-05-13T14:20:56.956Z"
   },
   {
    "duration": 74,
    "start_time": "2022-05-13T14:20:56.999Z"
   },
   {
    "duration": 22,
    "start_time": "2022-05-13T14:20:57.075Z"
   },
   {
    "duration": 26,
    "start_time": "2022-05-13T14:20:57.099Z"
   },
   {
    "duration": 210,
    "start_time": "2022-05-13T14:20:57.167Z"
   },
   {
    "duration": 183,
    "start_time": "2022-05-13T14:20:57.379Z"
   },
   {
    "duration": 194,
    "start_time": "2022-05-13T14:20:57.566Z"
   },
   {
    "duration": 7,
    "start_time": "2022-05-13T14:20:57.761Z"
   },
   {
    "duration": 126,
    "start_time": "2022-05-13T14:20:57.769Z"
   },
   {
    "duration": 5,
    "start_time": "2022-05-13T14:20:57.896Z"
   },
   {
    "duration": 9,
    "start_time": "2022-05-13T14:20:57.903Z"
   }
  ],
  "kernelspec": {
   "display_name": "Python 3 (ipykernel)",
   "language": "python",
   "name": "python3"
  },
  "language_info": {
   "codemirror_mode": {
    "name": "ipython",
    "version": 3
   },
   "file_extension": ".py",
   "mimetype": "text/x-python",
   "name": "python",
   "nbconvert_exporter": "python",
   "pygments_lexer": "ipython3",
   "version": "3.9.12"
  },
  "toc": {
   "base_numbering": 1,
   "nav_menu": {
    "height": "138px",
    "width": "229px"
   },
   "number_sections": true,
   "sideBar": true,
   "skip_h1_title": true,
   "title_cell": "Table of Contents",
   "title_sidebar": "Contents",
   "toc_cell": false,
   "toc_position": {
    "height": "calc(100% - 180px)",
    "left": "10px",
    "top": "150px",
    "width": "366.391px"
   },
   "toc_section_display": true,
   "toc_window_display": true
  }
 },
 "nbformat": 4,
 "nbformat_minor": 2
}
